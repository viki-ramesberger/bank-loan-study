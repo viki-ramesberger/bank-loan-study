{
 "cells": [
  {
   "cell_type": "markdown",
   "id": "ec073dee",
   "metadata": {},
   "source": [
    "# Borrower Reliability Analysis"
   ]
  },
  {
   "cell_type": "markdown",
   "id": "9c40d477",
   "metadata": {},
   "source": [
    "**Customer:** Bank's credit department.\n",
    "\n",
    "**Objective:** Test the hypothesis of whether a client's marital status and the number of children influence their ability to repay a loan on time.\n",
    "\n",
    "**Input Data:** Client solvency statistics provided by the bank.\n",
    "\n",
    "**Project Workflow:**\n",
    "\n",
    "The analysis is conducted in 4 main stages:\n",
    "\n",
    "1. Data Overview\n",
    "2. Data Preprocessing\n",
    "3. Hypothesis Testing\n",
    "4. Conclusion\n",
    "\n",
    "> **Outcome:**\n",
    "The results of this study will inform the development of a credit scoring model — a specialized system used to evaluate a potential borrower's creditworthiness."
   ]
  },
  {
   "cell_type": "markdown",
   "id": "02df6365",
   "metadata": {},
   "source": [
    "## Data Overview"
   ]
  },
  {
   "cell_type": "code",
   "execution_count": 1,
   "id": "86c4d3be",
   "metadata": {},
   "outputs": [],
   "source": [
    "# Importing the pandas library for data manipulation\n",
    "import pandas as pd  "
   ]
  },
  {
   "cell_type": "code",
   "execution_count": 2,
   "id": "8198003c",
   "metadata": {},
   "outputs": [],
   "source": [
    "# Loading the dataset from the specified path\n",
    "df = pd.read_csv('/datasets/data.csv')"
   ]
  },
  {
   "cell_type": "code",
   "execution_count": 3,
   "id": "a9ae1e2a",
   "metadata": {},
   "outputs": [
    {
     "data": {
      "text/html": [
       "<div>\n",
       "<style scoped>\n",
       "    .dataframe tbody tr th:only-of-type {\n",
       "        vertical-align: middle;\n",
       "    }\n",
       "\n",
       "    .dataframe tbody tr th {\n",
       "        vertical-align: top;\n",
       "    }\n",
       "\n",
       "    .dataframe thead th {\n",
       "        text-align: right;\n",
       "    }\n",
       "</style>\n",
       "<table border=\"1\" class=\"dataframe\">\n",
       "  <thead>\n",
       "    <tr style=\"text-align: right;\">\n",
       "      <th></th>\n",
       "      <th>children</th>\n",
       "      <th>days_employed</th>\n",
       "      <th>dob_years</th>\n",
       "      <th>education</th>\n",
       "      <th>education_id</th>\n",
       "      <th>family_status</th>\n",
       "      <th>family_status_id</th>\n",
       "      <th>gender</th>\n",
       "      <th>income_type</th>\n",
       "      <th>debt</th>\n",
       "      <th>total_income</th>\n",
       "      <th>purpose</th>\n",
       "    </tr>\n",
       "  </thead>\n",
       "  <tbody>\n",
       "    <tr>\n",
       "      <th>0</th>\n",
       "      <td>1</td>\n",
       "      <td>-8437.673028</td>\n",
       "      <td>42</td>\n",
       "      <td>высшее</td>\n",
       "      <td>0</td>\n",
       "      <td>женат / замужем</td>\n",
       "      <td>0</td>\n",
       "      <td>F</td>\n",
       "      <td>сотрудник</td>\n",
       "      <td>0</td>\n",
       "      <td>253875.639453</td>\n",
       "      <td>покупка жилья</td>\n",
       "    </tr>\n",
       "    <tr>\n",
       "      <th>1</th>\n",
       "      <td>1</td>\n",
       "      <td>-4024.803754</td>\n",
       "      <td>36</td>\n",
       "      <td>среднее</td>\n",
       "      <td>1</td>\n",
       "      <td>женат / замужем</td>\n",
       "      <td>0</td>\n",
       "      <td>F</td>\n",
       "      <td>сотрудник</td>\n",
       "      <td>0</td>\n",
       "      <td>112080.014102</td>\n",
       "      <td>приобретение автомобиля</td>\n",
       "    </tr>\n",
       "    <tr>\n",
       "      <th>2</th>\n",
       "      <td>0</td>\n",
       "      <td>-5623.422610</td>\n",
       "      <td>33</td>\n",
       "      <td>Среднее</td>\n",
       "      <td>1</td>\n",
       "      <td>женат / замужем</td>\n",
       "      <td>0</td>\n",
       "      <td>M</td>\n",
       "      <td>сотрудник</td>\n",
       "      <td>0</td>\n",
       "      <td>145885.952297</td>\n",
       "      <td>покупка жилья</td>\n",
       "    </tr>\n",
       "    <tr>\n",
       "      <th>3</th>\n",
       "      <td>3</td>\n",
       "      <td>-4124.747207</td>\n",
       "      <td>32</td>\n",
       "      <td>среднее</td>\n",
       "      <td>1</td>\n",
       "      <td>женат / замужем</td>\n",
       "      <td>0</td>\n",
       "      <td>M</td>\n",
       "      <td>сотрудник</td>\n",
       "      <td>0</td>\n",
       "      <td>267628.550329</td>\n",
       "      <td>дополнительное образование</td>\n",
       "    </tr>\n",
       "    <tr>\n",
       "      <th>4</th>\n",
       "      <td>0</td>\n",
       "      <td>340266.072047</td>\n",
       "      <td>53</td>\n",
       "      <td>среднее</td>\n",
       "      <td>1</td>\n",
       "      <td>гражданский брак</td>\n",
       "      <td>1</td>\n",
       "      <td>F</td>\n",
       "      <td>пенсионер</td>\n",
       "      <td>0</td>\n",
       "      <td>158616.077870</td>\n",
       "      <td>сыграть свадьбу</td>\n",
       "    </tr>\n",
       "    <tr>\n",
       "      <th>5</th>\n",
       "      <td>0</td>\n",
       "      <td>-926.185831</td>\n",
       "      <td>27</td>\n",
       "      <td>высшее</td>\n",
       "      <td>0</td>\n",
       "      <td>гражданский брак</td>\n",
       "      <td>1</td>\n",
       "      <td>M</td>\n",
       "      <td>компаньон</td>\n",
       "      <td>0</td>\n",
       "      <td>255763.565419</td>\n",
       "      <td>покупка жилья</td>\n",
       "    </tr>\n",
       "    <tr>\n",
       "      <th>6</th>\n",
       "      <td>0</td>\n",
       "      <td>-2879.202052</td>\n",
       "      <td>43</td>\n",
       "      <td>высшее</td>\n",
       "      <td>0</td>\n",
       "      <td>женат / замужем</td>\n",
       "      <td>0</td>\n",
       "      <td>F</td>\n",
       "      <td>компаньон</td>\n",
       "      <td>0</td>\n",
       "      <td>240525.971920</td>\n",
       "      <td>операции с жильем</td>\n",
       "    </tr>\n",
       "    <tr>\n",
       "      <th>7</th>\n",
       "      <td>0</td>\n",
       "      <td>-152.779569</td>\n",
       "      <td>50</td>\n",
       "      <td>СРЕДНЕЕ</td>\n",
       "      <td>1</td>\n",
       "      <td>женат / замужем</td>\n",
       "      <td>0</td>\n",
       "      <td>M</td>\n",
       "      <td>сотрудник</td>\n",
       "      <td>0</td>\n",
       "      <td>135823.934197</td>\n",
       "      <td>образование</td>\n",
       "    </tr>\n",
       "    <tr>\n",
       "      <th>8</th>\n",
       "      <td>2</td>\n",
       "      <td>-6929.865299</td>\n",
       "      <td>35</td>\n",
       "      <td>ВЫСШЕЕ</td>\n",
       "      <td>0</td>\n",
       "      <td>гражданский брак</td>\n",
       "      <td>1</td>\n",
       "      <td>F</td>\n",
       "      <td>сотрудник</td>\n",
       "      <td>0</td>\n",
       "      <td>95856.832424</td>\n",
       "      <td>на проведение свадьбы</td>\n",
       "    </tr>\n",
       "    <tr>\n",
       "      <th>9</th>\n",
       "      <td>0</td>\n",
       "      <td>-2188.756445</td>\n",
       "      <td>41</td>\n",
       "      <td>среднее</td>\n",
       "      <td>1</td>\n",
       "      <td>женат / замужем</td>\n",
       "      <td>0</td>\n",
       "      <td>M</td>\n",
       "      <td>сотрудник</td>\n",
       "      <td>0</td>\n",
       "      <td>144425.938277</td>\n",
       "      <td>покупка жилья для семьи</td>\n",
       "    </tr>\n",
       "    <tr>\n",
       "      <th>10</th>\n",
       "      <td>2</td>\n",
       "      <td>-4171.483647</td>\n",
       "      <td>36</td>\n",
       "      <td>высшее</td>\n",
       "      <td>0</td>\n",
       "      <td>женат / замужем</td>\n",
       "      <td>0</td>\n",
       "      <td>M</td>\n",
       "      <td>компаньон</td>\n",
       "      <td>0</td>\n",
       "      <td>113943.491460</td>\n",
       "      <td>покупка недвижимости</td>\n",
       "    </tr>\n",
       "    <tr>\n",
       "      <th>11</th>\n",
       "      <td>0</td>\n",
       "      <td>-792.701887</td>\n",
       "      <td>40</td>\n",
       "      <td>среднее</td>\n",
       "      <td>1</td>\n",
       "      <td>женат / замужем</td>\n",
       "      <td>0</td>\n",
       "      <td>F</td>\n",
       "      <td>сотрудник</td>\n",
       "      <td>0</td>\n",
       "      <td>77069.234271</td>\n",
       "      <td>покупка коммерческой недвижимости</td>\n",
       "    </tr>\n",
       "    <tr>\n",
       "      <th>12</th>\n",
       "      <td>0</td>\n",
       "      <td>NaN</td>\n",
       "      <td>65</td>\n",
       "      <td>среднее</td>\n",
       "      <td>1</td>\n",
       "      <td>гражданский брак</td>\n",
       "      <td>1</td>\n",
       "      <td>M</td>\n",
       "      <td>пенсионер</td>\n",
       "      <td>0</td>\n",
       "      <td>NaN</td>\n",
       "      <td>сыграть свадьбу</td>\n",
       "    </tr>\n",
       "    <tr>\n",
       "      <th>13</th>\n",
       "      <td>0</td>\n",
       "      <td>-1846.641941</td>\n",
       "      <td>54</td>\n",
       "      <td>неоконченное высшее</td>\n",
       "      <td>2</td>\n",
       "      <td>женат / замужем</td>\n",
       "      <td>0</td>\n",
       "      <td>F</td>\n",
       "      <td>сотрудник</td>\n",
       "      <td>0</td>\n",
       "      <td>130458.228857</td>\n",
       "      <td>приобретение автомобиля</td>\n",
       "    </tr>\n",
       "    <tr>\n",
       "      <th>14</th>\n",
       "      <td>0</td>\n",
       "      <td>-1844.956182</td>\n",
       "      <td>56</td>\n",
       "      <td>высшее</td>\n",
       "      <td>0</td>\n",
       "      <td>гражданский брак</td>\n",
       "      <td>1</td>\n",
       "      <td>F</td>\n",
       "      <td>компаньон</td>\n",
       "      <td>1</td>\n",
       "      <td>165127.911772</td>\n",
       "      <td>покупка жилой недвижимости</td>\n",
       "    </tr>\n",
       "    <tr>\n",
       "      <th>15</th>\n",
       "      <td>1</td>\n",
       "      <td>-972.364419</td>\n",
       "      <td>26</td>\n",
       "      <td>среднее</td>\n",
       "      <td>1</td>\n",
       "      <td>женат / замужем</td>\n",
       "      <td>0</td>\n",
       "      <td>F</td>\n",
       "      <td>сотрудник</td>\n",
       "      <td>0</td>\n",
       "      <td>116820.904450</td>\n",
       "      <td>строительство собственной недвижимости</td>\n",
       "    </tr>\n",
       "    <tr>\n",
       "      <th>16</th>\n",
       "      <td>0</td>\n",
       "      <td>-1719.934226</td>\n",
       "      <td>35</td>\n",
       "      <td>среднее</td>\n",
       "      <td>1</td>\n",
       "      <td>женат / замужем</td>\n",
       "      <td>0</td>\n",
       "      <td>F</td>\n",
       "      <td>сотрудник</td>\n",
       "      <td>0</td>\n",
       "      <td>289202.704229</td>\n",
       "      <td>недвижимость</td>\n",
       "    </tr>\n",
       "    <tr>\n",
       "      <th>17</th>\n",
       "      <td>0</td>\n",
       "      <td>-2369.999720</td>\n",
       "      <td>33</td>\n",
       "      <td>высшее</td>\n",
       "      <td>0</td>\n",
       "      <td>гражданский брак</td>\n",
       "      <td>1</td>\n",
       "      <td>M</td>\n",
       "      <td>сотрудник</td>\n",
       "      <td>0</td>\n",
       "      <td>90410.586745</td>\n",
       "      <td>строительство недвижимости</td>\n",
       "    </tr>\n",
       "    <tr>\n",
       "      <th>18</th>\n",
       "      <td>0</td>\n",
       "      <td>400281.136913</td>\n",
       "      <td>53</td>\n",
       "      <td>среднее</td>\n",
       "      <td>1</td>\n",
       "      <td>вдовец / вдова</td>\n",
       "      <td>2</td>\n",
       "      <td>F</td>\n",
       "      <td>пенсионер</td>\n",
       "      <td>0</td>\n",
       "      <td>56823.777243</td>\n",
       "      <td>на покупку подержанного автомобиля</td>\n",
       "    </tr>\n",
       "    <tr>\n",
       "      <th>19</th>\n",
       "      <td>0</td>\n",
       "      <td>-10038.818549</td>\n",
       "      <td>48</td>\n",
       "      <td>СРЕДНЕЕ</td>\n",
       "      <td>1</td>\n",
       "      <td>в разводе</td>\n",
       "      <td>3</td>\n",
       "      <td>F</td>\n",
       "      <td>сотрудник</td>\n",
       "      <td>0</td>\n",
       "      <td>242831.107982</td>\n",
       "      <td>на покупку своего автомобиля</td>\n",
       "    </tr>\n",
       "  </tbody>\n",
       "</table>\n",
       "</div>"
      ],
      "text/plain": [
       "    children  days_employed  dob_years            education  education_id  \\\n",
       "0          1   -8437.673028         42               высшее             0   \n",
       "1          1   -4024.803754         36              среднее             1   \n",
       "2          0   -5623.422610         33              Среднее             1   \n",
       "3          3   -4124.747207         32              среднее             1   \n",
       "4          0  340266.072047         53              среднее             1   \n",
       "5          0    -926.185831         27               высшее             0   \n",
       "6          0   -2879.202052         43               высшее             0   \n",
       "7          0    -152.779569         50              СРЕДНЕЕ             1   \n",
       "8          2   -6929.865299         35               ВЫСШЕЕ             0   \n",
       "9          0   -2188.756445         41              среднее             1   \n",
       "10         2   -4171.483647         36               высшее             0   \n",
       "11         0    -792.701887         40              среднее             1   \n",
       "12         0            NaN         65              среднее             1   \n",
       "13         0   -1846.641941         54  неоконченное высшее             2   \n",
       "14         0   -1844.956182         56               высшее             0   \n",
       "15         1    -972.364419         26              среднее             1   \n",
       "16         0   -1719.934226         35              среднее             1   \n",
       "17         0   -2369.999720         33               высшее             0   \n",
       "18         0  400281.136913         53              среднее             1   \n",
       "19         0  -10038.818549         48              СРЕДНЕЕ             1   \n",
       "\n",
       "       family_status  family_status_id gender income_type  debt  \\\n",
       "0    женат / замужем                 0      F   сотрудник     0   \n",
       "1    женат / замужем                 0      F   сотрудник     0   \n",
       "2    женат / замужем                 0      M   сотрудник     0   \n",
       "3    женат / замужем                 0      M   сотрудник     0   \n",
       "4   гражданский брак                 1      F   пенсионер     0   \n",
       "5   гражданский брак                 1      M   компаньон     0   \n",
       "6    женат / замужем                 0      F   компаньон     0   \n",
       "7    женат / замужем                 0      M   сотрудник     0   \n",
       "8   гражданский брак                 1      F   сотрудник     0   \n",
       "9    женат / замужем                 0      M   сотрудник     0   \n",
       "10   женат / замужем                 0      M   компаньон     0   \n",
       "11   женат / замужем                 0      F   сотрудник     0   \n",
       "12  гражданский брак                 1      M   пенсионер     0   \n",
       "13   женат / замужем                 0      F   сотрудник     0   \n",
       "14  гражданский брак                 1      F   компаньон     1   \n",
       "15   женат / замужем                 0      F   сотрудник     0   \n",
       "16   женат / замужем                 0      F   сотрудник     0   \n",
       "17  гражданский брак                 1      M   сотрудник     0   \n",
       "18    вдовец / вдова                 2      F   пенсионер     0   \n",
       "19         в разводе                 3      F   сотрудник     0   \n",
       "\n",
       "     total_income                                 purpose  \n",
       "0   253875.639453                           покупка жилья  \n",
       "1   112080.014102                 приобретение автомобиля  \n",
       "2   145885.952297                           покупка жилья  \n",
       "3   267628.550329              дополнительное образование  \n",
       "4   158616.077870                         сыграть свадьбу  \n",
       "5   255763.565419                           покупка жилья  \n",
       "6   240525.971920                       операции с жильем  \n",
       "7   135823.934197                             образование  \n",
       "8    95856.832424                   на проведение свадьбы  \n",
       "9   144425.938277                 покупка жилья для семьи  \n",
       "10  113943.491460                    покупка недвижимости  \n",
       "11   77069.234271       покупка коммерческой недвижимости  \n",
       "12            NaN                         сыграть свадьбу  \n",
       "13  130458.228857                 приобретение автомобиля  \n",
       "14  165127.911772              покупка жилой недвижимости  \n",
       "15  116820.904450  строительство собственной недвижимости  \n",
       "16  289202.704229                            недвижимость  \n",
       "17   90410.586745              строительство недвижимости  \n",
       "18   56823.777243      на покупку подержанного автомобиля  \n",
       "19  242831.107982            на покупку своего автомобиля  "
      ]
     },
     "execution_count": 3,
     "metadata": {},
     "output_type": "execute_result"
    }
   ],
   "source": [
    "# Displaying the first 20 rows of the dataset\n",
    "df.head(20)"
   ]
  },
  {
   "cell_type": "code",
   "execution_count": 4,
   "id": "21ea22da",
   "metadata": {},
   "outputs": [
    {
     "name": "stdout",
     "output_type": "stream",
     "text": [
      "<class 'pandas.core.frame.DataFrame'>\n",
      "RangeIndex: 21525 entries, 0 to 21524\n",
      "Data columns (total 12 columns):\n",
      " #   Column            Non-Null Count  Dtype  \n",
      "---  ------            --------------  -----  \n",
      " 0   children          21525 non-null  int64  \n",
      " 1   days_employed     19351 non-null  float64\n",
      " 2   dob_years         21525 non-null  int64  \n",
      " 3   education         21525 non-null  object \n",
      " 4   education_id      21525 non-null  int64  \n",
      " 5   family_status     21525 non-null  object \n",
      " 6   family_status_id  21525 non-null  int64  \n",
      " 7   gender            21525 non-null  object \n",
      " 8   income_type       21525 non-null  object \n",
      " 9   debt              21525 non-null  int64  \n",
      " 10  total_income      19351 non-null  float64\n",
      " 11  purpose           21525 non-null  object \n",
      "dtypes: float64(2), int64(5), object(5)\n",
      "memory usage: 2.0+ MB\n"
     ]
    }
   ],
   "source": [
    "# Displaying a summary of the dataset, including data types and non-null values\n",
    "df.info() "
   ]
  },
  {
   "cell_type": "code",
   "execution_count": 5,
   "id": "8b9a10ae",
   "metadata": {},
   "outputs": [
    {
     "data": {
      "text/plain": [
       "children               0\n",
       "days_employed       2174\n",
       "dob_years              0\n",
       "education              0\n",
       "education_id           0\n",
       "family_status          0\n",
       "family_status_id       0\n",
       "gender                 0\n",
       "income_type            0\n",
       "debt                   0\n",
       "total_income        2174\n",
       "purpose                0\n",
       "dtype: int64"
      ]
     },
     "execution_count": 5,
     "metadata": {},
     "output_type": "execute_result"
    }
   ],
   "source": [
    "# Checking for missing values in each column and summing the total number of missing values\n",
    "df.isna().sum()"
   ]
  },
  {
   "cell_type": "code",
   "execution_count": 6,
   "id": "0529ccf8",
   "metadata": {},
   "outputs": [
    {
     "data": {
      "text/plain": [
       "children            0.000000\n",
       "days_employed       0.100999\n",
       "dob_years           0.000000\n",
       "education           0.000000\n",
       "education_id        0.000000\n",
       "family_status       0.000000\n",
       "family_status_id    0.000000\n",
       "gender              0.000000\n",
       "income_type         0.000000\n",
       "debt                0.000000\n",
       "total_income        0.100999\n",
       "purpose             0.000000\n",
       "dtype: float64"
      ]
     },
     "execution_count": 6,
     "metadata": {},
     "output_type": "execute_result"
    }
   ],
   "source": [
    "# Calculating the proportion of missing values in each columndf.isna().mean()\n",
    "df.isna().mean()"
   ]
  },
  {
   "cell_type": "markdown",
   "id": "c4cdef1d",
   "metadata": {},
   "source": [
    "The dataset consists of 12 columns. According to the data documentation:\n",
    "\n",
    "1. children — number of children in the family\n",
    "2. days_employed — total employment duration in days\n",
    "3. dob_years — client's age in years\n",
    "4. education — client's education level\n",
    "5. education_id — education level identifier\n",
    "6. family_status — marital status\n",
    "7. family_status_id — marital status identifier\n",
    "8. gender — client's gender\n",
    "9. income_type — type of employment\n",
    "10. debt — whether the client has a loan repayment default\n",
    "11. total_income — monthly income\n",
    "12. purpose — loan purpose"
   ]
  },
  {
   "cell_type": "code",
   "execution_count": 7,
   "id": "0f1799d1",
   "metadata": {},
   "outputs": [
    {
     "data": {
      "text/plain": [
       "<bound method Series.unique of  0     14149\n",
       " 1      4818\n",
       " 2      2055\n",
       " 3       330\n",
       " 20       76\n",
       "-1        47\n",
       " 4        41\n",
       " 5         9\n",
       "Name: children, dtype: int64>"
      ]
     },
     "metadata": {},
     "output_type": "display_data"
    },
    {
     "data": {
      "text/plain": [
       "<bound method Series.unique of -327.685916     1\n",
       "-1580.622577    1\n",
       "-4122.460569    1\n",
       "-2828.237691    1\n",
       "-2636.090517    1\n",
       "               ..\n",
       "-7120.517564    1\n",
       "-2146.884040    1\n",
       "-881.454684     1\n",
       "-794.666350     1\n",
       "-3382.113891    1\n",
       "Name: days_employed, Length: 19351, dtype: int64>"
      ]
     },
     "metadata": {},
     "output_type": "display_data"
    },
    {
     "data": {
      "text/plain": [
       "<bound method Series.unique of 35    617\n",
       "40    609\n",
       "41    607\n",
       "34    603\n",
       "38    598\n",
       "42    597\n",
       "33    581\n",
       "39    573\n",
       "31    560\n",
       "36    555\n",
       "44    547\n",
       "29    545\n",
       "30    540\n",
       "48    538\n",
       "37    537\n",
       "50    514\n",
       "43    513\n",
       "32    510\n",
       "49    508\n",
       "28    503\n",
       "45    497\n",
       "27    493\n",
       "56    487\n",
       "52    484\n",
       "47    480\n",
       "54    479\n",
       "46    475\n",
       "58    461\n",
       "57    460\n",
       "53    459\n",
       "51    448\n",
       "59    444\n",
       "55    443\n",
       "26    408\n",
       "60    377\n",
       "25    357\n",
       "61    355\n",
       "62    352\n",
       "63    269\n",
       "64    265\n",
       "24    264\n",
       "23    254\n",
       "65    194\n",
       "66    183\n",
       "22    183\n",
       "67    167\n",
       "21    111\n",
       "0     101\n",
       "68     99\n",
       "69     85\n",
       "70     65\n",
       "71     58\n",
       "20     51\n",
       "72     33\n",
       "19     14\n",
       "73      8\n",
       "74      6\n",
       "75      1\n",
       "Name: dob_years, dtype: int64>"
      ]
     },
     "metadata": {},
     "output_type": "display_data"
    },
    {
     "data": {
      "text/plain": [
       "<bound method Series.unique of среднее                13750\n",
       "высшее                  4718\n",
       "СРЕДНЕЕ                  772\n",
       "Среднее                  711\n",
       "неоконченное высшее      668\n",
       "ВЫСШЕЕ                   274\n",
       "Высшее                   268\n",
       "начальное                250\n",
       "Неоконченное высшее       47\n",
       "НЕОКОНЧЕННОЕ ВЫСШЕЕ       29\n",
       "НАЧАЛЬНОЕ                 17\n",
       "Начальное                 15\n",
       "ученая степень             4\n",
       "Ученая степень             1\n",
       "УЧЕНАЯ СТЕПЕНЬ             1\n",
       "Name: education, dtype: int64>"
      ]
     },
     "metadata": {},
     "output_type": "display_data"
    },
    {
     "data": {
      "text/plain": [
       "<bound method Series.unique of 1    15233\n",
       "0     5260\n",
       "2      744\n",
       "3      282\n",
       "4        6\n",
       "Name: education_id, dtype: int64>"
      ]
     },
     "metadata": {},
     "output_type": "display_data"
    },
    {
     "data": {
      "text/plain": [
       "<bound method Series.unique of женат / замужем          12380\n",
       "гражданский брак          4177\n",
       "Не женат / не замужем     2813\n",
       "в разводе                 1195\n",
       "вдовец / вдова             960\n",
       "Name: family_status, dtype: int64>"
      ]
     },
     "metadata": {},
     "output_type": "display_data"
    },
    {
     "data": {
      "text/plain": [
       "<bound method Series.unique of 0    12380\n",
       "1     4177\n",
       "4     2813\n",
       "3     1195\n",
       "2      960\n",
       "Name: family_status_id, dtype: int64>"
      ]
     },
     "metadata": {},
     "output_type": "display_data"
    },
    {
     "data": {
      "text/plain": [
       "<bound method Series.unique of F      14236\n",
       "M       7288\n",
       "XNA        1\n",
       "Name: gender, dtype: int64>"
      ]
     },
     "metadata": {},
     "output_type": "display_data"
    },
    {
     "data": {
      "text/plain": [
       "<bound method Series.unique of сотрудник          11119\n",
       "компаньон           5085\n",
       "пенсионер           3856\n",
       "госслужащий         1459\n",
       "предприниматель        2\n",
       "безработный            2\n",
       "студент                1\n",
       "в декрете              1\n",
       "Name: income_type, dtype: int64>"
      ]
     },
     "metadata": {},
     "output_type": "display_data"
    },
    {
     "data": {
      "text/plain": [
       "<bound method Series.unique of 0    19784\n",
       "1     1741\n",
       "Name: debt, dtype: int64>"
      ]
     },
     "metadata": {},
     "output_type": "display_data"
    },
    {
     "data": {
      "text/plain": [
       "<bound method Series.unique of 169846.427535    1\n",
       "257737.077768    1\n",
       "200508.675866    1\n",
       "106196.235958    1\n",
       "248730.171354    1\n",
       "                ..\n",
       "175057.266090    1\n",
       "101516.604975    1\n",
       "239154.168013    1\n",
       "165009.733021    1\n",
       "189255.286637    1\n",
       "Name: total_income, Length: 19351, dtype: int64>"
      ]
     },
     "metadata": {},
     "output_type": "display_data"
    },
    {
     "data": {
      "text/plain": [
       "<bound method Series.unique of свадьба                                   797\n",
       "на проведение свадьбы                     777\n",
       "сыграть свадьбу                           774\n",
       "операции с недвижимостью                  676\n",
       "покупка коммерческой недвижимости         664\n",
       "покупка жилья для сдачи                   653\n",
       "операции с жильем                         653\n",
       "операции с коммерческой недвижимостью     651\n",
       "покупка жилья                             647\n",
       "жилье                                     647\n",
       "покупка жилья для семьи                   641\n",
       "строительство собственной недвижимости    635\n",
       "недвижимость                              634\n",
       "операции со своей недвижимостью           630\n",
       "строительство жилой недвижимости          626\n",
       "покупка недвижимости                      624\n",
       "покупка своего жилья                      620\n",
       "строительство недвижимости                620\n",
       "ремонт жилью                              612\n",
       "покупка жилой недвижимости                607\n",
       "на покупку своего автомобиля              505\n",
       "заняться высшим образованием              496\n",
       "автомобиль                                495\n",
       "сделка с подержанным автомобилем          489\n",
       "свой автомобиль                           480\n",
       "на покупку подержанного автомобиля        479\n",
       "автомобили                                478\n",
       "на покупку автомобиля                     472\n",
       "приобретение автомобиля                   462\n",
       "дополнительное образование                462\n",
       "сделка с автомобилем                      455\n",
       "высшее образование                        453\n",
       "образование                               447\n",
       "получение дополнительного образования     447\n",
       "получение образования                     443\n",
       "профильное образование                    436\n",
       "получение высшего образования             426\n",
       "заняться образованием                     412\n",
       "Name: purpose, dtype: int64>"
      ]
     },
     "metadata": {},
     "output_type": "display_data"
    }
   ],
   "source": [
    "# Iterating through each column in the DataFrame and displaying the unique value counts for each\n",
    "for column in df:\n",
    "    display(df[column].value_counts().unique) "
   ]
  },
  {
   "cell_type": "code",
   "execution_count": 8,
   "id": "217f4b8b",
   "metadata": {
    "scrolled": true
   },
   "outputs": [
    {
     "data": {
      "text/plain": [
       "54"
      ]
     },
     "execution_count": 8,
     "metadata": {},
     "output_type": "execute_result"
    }
   ],
   "source": [
    "# Checking for explicit duplicates\n",
    "df.duplicated().sum() #проверяем наличие явных дубликатов"
   ]
  },
  {
   "cell_type": "code",
   "execution_count": 9,
   "id": "fee155c8",
   "metadata": {},
   "outputs": [
    {
     "data": {
      "text/html": [
       "<div>\n",
       "<style scoped>\n",
       "    .dataframe tbody tr th:only-of-type {\n",
       "        vertical-align: middle;\n",
       "    }\n",
       "\n",
       "    .dataframe tbody tr th {\n",
       "        vertical-align: top;\n",
       "    }\n",
       "\n",
       "    .dataframe thead th {\n",
       "        text-align: right;\n",
       "    }\n",
       "</style>\n",
       "<table border=\"1\" class=\"dataframe\">\n",
       "  <thead>\n",
       "    <tr style=\"text-align: right;\">\n",
       "      <th></th>\n",
       "      <th>children</th>\n",
       "      <th>days_employed</th>\n",
       "      <th>dob_years</th>\n",
       "      <th>education_id</th>\n",
       "      <th>family_status_id</th>\n",
       "      <th>debt</th>\n",
       "      <th>total_income</th>\n",
       "    </tr>\n",
       "  </thead>\n",
       "  <tbody>\n",
       "    <tr>\n",
       "      <th>count</th>\n",
       "      <td>21525.000000</td>\n",
       "      <td>19351.000000</td>\n",
       "      <td>21525.000000</td>\n",
       "      <td>21525.000000</td>\n",
       "      <td>21525.000000</td>\n",
       "      <td>21525.000000</td>\n",
       "      <td>1.935100e+04</td>\n",
       "    </tr>\n",
       "    <tr>\n",
       "      <th>mean</th>\n",
       "      <td>0.538908</td>\n",
       "      <td>63046.497661</td>\n",
       "      <td>43.293380</td>\n",
       "      <td>0.817236</td>\n",
       "      <td>0.972544</td>\n",
       "      <td>0.080883</td>\n",
       "      <td>1.674223e+05</td>\n",
       "    </tr>\n",
       "    <tr>\n",
       "      <th>std</th>\n",
       "      <td>1.381587</td>\n",
       "      <td>140827.311974</td>\n",
       "      <td>12.574584</td>\n",
       "      <td>0.548138</td>\n",
       "      <td>1.420324</td>\n",
       "      <td>0.272661</td>\n",
       "      <td>1.029716e+05</td>\n",
       "    </tr>\n",
       "    <tr>\n",
       "      <th>min</th>\n",
       "      <td>-1.000000</td>\n",
       "      <td>-18388.949901</td>\n",
       "      <td>0.000000</td>\n",
       "      <td>0.000000</td>\n",
       "      <td>0.000000</td>\n",
       "      <td>0.000000</td>\n",
       "      <td>2.066726e+04</td>\n",
       "    </tr>\n",
       "    <tr>\n",
       "      <th>25%</th>\n",
       "      <td>0.000000</td>\n",
       "      <td>-2747.423625</td>\n",
       "      <td>33.000000</td>\n",
       "      <td>1.000000</td>\n",
       "      <td>0.000000</td>\n",
       "      <td>0.000000</td>\n",
       "      <td>1.030532e+05</td>\n",
       "    </tr>\n",
       "    <tr>\n",
       "      <th>50%</th>\n",
       "      <td>0.000000</td>\n",
       "      <td>-1203.369529</td>\n",
       "      <td>42.000000</td>\n",
       "      <td>1.000000</td>\n",
       "      <td>0.000000</td>\n",
       "      <td>0.000000</td>\n",
       "      <td>1.450179e+05</td>\n",
       "    </tr>\n",
       "    <tr>\n",
       "      <th>75%</th>\n",
       "      <td>1.000000</td>\n",
       "      <td>-291.095954</td>\n",
       "      <td>53.000000</td>\n",
       "      <td>1.000000</td>\n",
       "      <td>1.000000</td>\n",
       "      <td>0.000000</td>\n",
       "      <td>2.034351e+05</td>\n",
       "    </tr>\n",
       "    <tr>\n",
       "      <th>max</th>\n",
       "      <td>20.000000</td>\n",
       "      <td>401755.400475</td>\n",
       "      <td>75.000000</td>\n",
       "      <td>4.000000</td>\n",
       "      <td>4.000000</td>\n",
       "      <td>1.000000</td>\n",
       "      <td>2.265604e+06</td>\n",
       "    </tr>\n",
       "  </tbody>\n",
       "</table>\n",
       "</div>"
      ],
      "text/plain": [
       "           children  days_employed     dob_years  education_id  \\\n",
       "count  21525.000000   19351.000000  21525.000000  21525.000000   \n",
       "mean       0.538908   63046.497661     43.293380      0.817236   \n",
       "std        1.381587  140827.311974     12.574584      0.548138   \n",
       "min       -1.000000  -18388.949901      0.000000      0.000000   \n",
       "25%        0.000000   -2747.423625     33.000000      1.000000   \n",
       "50%        0.000000   -1203.369529     42.000000      1.000000   \n",
       "75%        1.000000    -291.095954     53.000000      1.000000   \n",
       "max       20.000000  401755.400475     75.000000      4.000000   \n",
       "\n",
       "       family_status_id          debt  total_income  \n",
       "count      21525.000000  21525.000000  1.935100e+04  \n",
       "mean           0.972544      0.080883  1.674223e+05  \n",
       "std            1.420324      0.272661  1.029716e+05  \n",
       "min            0.000000      0.000000  2.066726e+04  \n",
       "25%            0.000000      0.000000  1.030532e+05  \n",
       "50%            0.000000      0.000000  1.450179e+05  \n",
       "75%            1.000000      0.000000  2.034351e+05  \n",
       "max            4.000000      1.000000  2.265604e+06  "
      ]
     },
     "execution_count": 9,
     "metadata": {},
     "output_type": "execute_result"
    }
   ],
   "source": [
    "# Summarizing statistics of numerical columns\n",
    "df.describe()"
   ]
  },
  {
   "cell_type": "markdown",
   "id": "3ff4f8da",
   "metadata": {},
   "source": [
    "### Intermediate Findings"
   ]
  },
  {
   "cell_type": "markdown",
   "id": "35ee1a99",
   "metadata": {},
   "source": [
    "1. The number of values in the columns differs, indicating missing data. Two columns, `days_employed` and `total_income`, have the same number of missing values, and the rows with missing data are identical.\n",
    "2. The proportion of missing values in the columns is 10.1%. This percentage is not critical for hypothesis testing, especially for the `days_employed` column. Data related to marital status, loan defaults, and the number of children may be more relevant for the analysis.\n",
    "3. Since both columns are related to the client's employment status (total work experience and monthly income), the missing data in these columns might be interrelated. The hypothesis for the missing data is that it may be due to a technical issue during data entry or extraction, as the missing values always correspond to the same rows.\n",
    "4. Missing data will be imputed using the median. The median is preferred when there are outliers (extremely high or low values). Although the data review suggests these columns may not be critical for the analysis, the missing values will still be handled as per the technical task.\n",
    "5. A check for unique values in some columns revealed the following anomalies:\n",
    "    1. In the `children` column, the values -1 (47 occurrences) and 20 (76 occurrences) are found. These will be replaced with the median.\n",
    "    2. The `days_employed` column contains negative values, which are invalid.\n",
    "    3. The `dob_years` column contains 101 occurrences of the value 0. These will be replaced with the median.\n",
    "    4. The `education` column contains inconsistent capitalization. Values will be standardized to a common format.\n",
    "    5. In the `gender` column, the value XNA appears once. This will be excluded from the analysis.\n",
    "    6. The `purpose` column has many implicit duplicates. Similar values will be grouped together."
   ]
  },
  {
   "cell_type": "markdown",
   "id": "16dbe5b4",
   "metadata": {},
   "source": [
    "## Data Preprocessing"
   ]
  },
  {
   "cell_type": "markdown",
   "id": "d7be2656",
   "metadata": {},
   "source": [
    "### Filling Missing Values"
   ]
  },
  {
   "cell_type": "code",
   "execution_count": 10,
   "id": "b964c3d7",
   "metadata": {},
   "outputs": [
    {
     "data": {
      "text/plain": [
       "0.0"
      ]
     },
     "execution_count": 10,
     "metadata": {},
     "output_type": "execute_result"
    }
   ],
   "source": [
    "# Calculating the median value of the 'children' column\n",
    "df['children'].median()"
   ]
  },
  {
   "cell_type": "code",
   "execution_count": 11,
   "id": "5613a8bd",
   "metadata": {},
   "outputs": [],
   "source": [
    "# Replacing invalid values in the 'children' column\n",
    "df['children'] = df['children'].replace(-1, 0)\n",
    "df['children'] = df['children'].replace(20, 0)"
   ]
  },
  {
   "cell_type": "code",
   "execution_count": 12,
   "id": "c2b39acb",
   "metadata": {},
   "outputs": [
    {
     "data": {
      "text/plain": [
       "income_type\n",
       "безработный        38.0\n",
       "в декрете          39.0\n",
       "госслужащий        40.0\n",
       "компаньон          39.0\n",
       "пенсионер          60.0\n",
       "предприниматель    42.5\n",
       "сотрудник          39.0\n",
       "студент            22.0\n",
       "Name: dob_years, dtype: float64"
      ]
     },
     "execution_count": 12,
     "metadata": {},
     "output_type": "execute_result"
    }
   ],
   "source": [
    "# To fill missing values in the 'dob_years' column, the median will be calculated for each borrower group\n",
    "df.groupby('income_type')['dob_years'].median()"
   ]
  },
  {
   "cell_type": "code",
   "execution_count": 13,
   "id": "d2b88bb8",
   "metadata": {},
   "outputs": [],
   "source": [
    "# Since fillna() only works with NaN or None, it cannot be used for replacing values in 'dob_years'.\n",
    "# Instead, loc is used to fill missing values based on the median of each 'income_type' group.\n",
    "for t in df['income_type'].unique():\n",
    "    df.loc[(df['income_type'] == t) & (df['dob_years'].isna()), 'dob_years'] = \\\n",
    "    df.loc[(df['income_type'] == t), 'dob_years'].median()"
   ]
  },
  {
   "cell_type": "markdown",
   "id": "42e8efdc",
   "metadata": {},
   "source": [
    "Since the `days_employed` column contains many outliers due to negative values, and this column is not critical for further analysis, we will only fill the missing values with the median. Since work experience is directly related to the borrower's age, we will create age groups and calculate the median for each group.\n",
    "\n",
    "- Group: 19-25\n",
    "- Group: 25-35\n",
    "- Group: 35-45\n",
    "- Group: 45-55\n",
    "- Group: 55-65\n",
    "- Group: 65-75"
   ]
  },
  {
   "cell_type": "code",
   "execution_count": 14,
   "id": "f5b88e91",
   "metadata": {},
   "outputs": [],
   "source": [
    "# Function to assign age groups based on 'dob_years'\n",
    "def days_employed(row):  \n",
    "    age = row['dob_years']\n",
    "\n",
    "    if age <= 25:\n",
    "        return 'Group 1'\n",
    "    \n",
    "    if age <= 35 and age > 25:\n",
    "        return 'Group 2'\n",
    "    \n",
    "    if age <= 45 and age > 35:\n",
    "        return 'Group 3'\n",
    "\n",
    "    if age <= 55 and age > 45:\n",
    "        return 'Group 4'\n",
    "    \n",
    "    if age <= 65 and age > 55:\n",
    "        return 'Group 5'\n",
    "    \n",
    "    if age <= 75 and age > 65:\n",
    "        return 'Group 6'"
   ]
  },
  {
   "cell_type": "code",
   "execution_count": 15,
   "id": "02f1fc66",
   "metadata": {},
   "outputs": [],
   "source": [
    "# Creating a new column 'age_group' with the results of the 'days_employed' function\n",
    "df['age_group'] = df.apply(days_employed, axis=1) "
   ]
  },
  {
   "cell_type": "code",
   "execution_count": 16,
   "id": "f6fc6014",
   "metadata": {},
   "outputs": [
    {
     "data": {
      "text/plain": [
       "age_group\n",
       "Group 1      -812.631159\n",
       "Group 2     -1337.959217\n",
       "Group 3     -1834.869762\n",
       "Group 4     -1672.165344\n",
       "Group 5    344187.361114\n",
       "Group 6    360948.880425\n",
       "Name: days_employed, dtype: float64"
      ]
     },
     "execution_count": 16,
     "metadata": {},
     "output_type": "execute_result"
    }
   ],
   "source": [
    "# Calculating the median of 'days_employed' for each age group\n",
    "df.groupby('age_group')['days_employed'].median() "
   ]
  },
  {
   "cell_type": "code",
   "execution_count": 17,
   "id": "8bc5cd25",
   "metadata": {},
   "outputs": [],
   "source": [
    "# Removing negative values by converting 'days_employed' to absolute values\n",
    "df['days_employed'] = df['days_employed'].abs() "
   ]
  },
  {
   "cell_type": "code",
   "execution_count": 18,
   "id": "bb4e60c7",
   "metadata": {},
   "outputs": [
    {
     "data": {
      "text/plain": [
       "age_group\n",
       "Group 1       846.213341\n",
       "Group 2      1350.995300\n",
       "Group 3      1917.145342\n",
       "Group 4      2886.495612\n",
       "Group 5    344187.361114\n",
       "Group 6    360948.880425\n",
       "Name: days_employed, dtype: float64"
      ]
     },
     "execution_count": 18,
     "metadata": {},
     "output_type": "execute_result"
    }
   ],
   "source": [
    "# Calculating the median 'days_employed' for each 'age_group'\n",
    "df.groupby('age_group')['days_employed'].median()"
   ]
  },
  {
   "cell_type": "markdown",
   "id": "8297bea5",
   "metadata": {},
   "source": [
    "> Negative values in this column are observed only in the two oldest age groups. There is a hypothesis that the format for recording work experience has changed."
   ]
  },
  {
   "cell_type": "code",
   "execution_count": 19,
   "id": "7efc0fc2",
   "metadata": {},
   "outputs": [
    {
     "data": {
      "text/plain": [
       "children               0\n",
       "days_employed       2174\n",
       "dob_years              0\n",
       "education              0\n",
       "education_id           0\n",
       "family_status          0\n",
       "family_status_id       0\n",
       "gender                 0\n",
       "income_type            0\n",
       "debt                   0\n",
       "total_income        2174\n",
       "purpose                0\n",
       "age_group              0\n",
       "dtype: int64"
      ]
     },
     "execution_count": 19,
     "metadata": {},
     "output_type": "execute_result"
    }
   ],
   "source": [
    "# Checking the number of missing values to verify if the function worked correctly\n",
    "df.isna().sum()"
   ]
  },
  {
   "cell_type": "code",
   "execution_count": 20,
   "id": "8804b371",
   "metadata": {},
   "outputs": [
    {
     "data": {
      "text/plain": [
       "income_type\n",
       "безработный        131339.751676\n",
       "в декрете           53829.130729\n",
       "госслужащий        150447.935283\n",
       "компаньон          172357.950966\n",
       "пенсионер          118514.486412\n",
       "предприниматель    499163.144947\n",
       "сотрудник          142594.396847\n",
       "студент             98201.625314\n",
       "Name: total_income, dtype: float64"
      ]
     },
     "execution_count": 20,
     "metadata": {},
     "output_type": "execute_result"
    }
   ],
   "source": [
    "# Calculating the median 'total_income' for each 'income_type' group\n",
    "df.groupby('income_type')['total_income'].median()"
   ]
  },
  {
   "cell_type": "code",
   "execution_count": 21,
   "id": "f2815eb8",
   "metadata": {},
   "outputs": [],
   "source": [
    "# Filling missing values in 'total_income' by replacing them with the median income for each 'income_type'\n",
    "for t in df['income_type'].unique():\n",
    "    df.loc[(df['income_type'] == t) & (df['total_income'].isna()), 'total_income'] = \\\n",
    "    df.loc[(df['income_type'] == t), 'total_income'].median()"
   ]
  },
  {
   "cell_type": "code",
   "execution_count": 22,
   "id": "44c04333",
   "metadata": {},
   "outputs": [
    {
     "data": {
      "text/plain": [
       "children               0\n",
       "days_employed       2174\n",
       "dob_years              0\n",
       "education              0\n",
       "education_id           0\n",
       "family_status          0\n",
       "family_status_id       0\n",
       "gender                 0\n",
       "income_type            0\n",
       "debt                   0\n",
       "total_income           0\n",
       "purpose                0\n",
       "age_group              0\n",
       "dtype: int64"
      ]
     },
     "execution_count": 22,
     "metadata": {},
     "output_type": "execute_result"
    }
   ],
   "source": [
    "# Checking the number of missing values after filling\n",
    "df.isna().sum()"
   ]
  },
  {
   "cell_type": "code",
   "execution_count": 23,
   "id": "5960d7ac",
   "metadata": {},
   "outputs": [],
   "source": [
    "# Filling missing 'days_employed' values by replacing them with the median for each 'age_group'\n",
    "for t in df['age_group'].unique():\n",
    "    df.loc[(df['age_group'] == t) & (df['days_employed'].isna()), 'days_employed'] = \\\n",
    "    df.loc[(df['age_group'] == t), 'days_employed'].median()"
   ]
  },
  {
   "cell_type": "code",
   "execution_count": 24,
   "id": "fb0ac8ad",
   "metadata": {},
   "outputs": [
    {
     "data": {
      "text/plain": [
       "children            0\n",
       "days_employed       0\n",
       "dob_years           0\n",
       "education           0\n",
       "education_id        0\n",
       "family_status       0\n",
       "family_status_id    0\n",
       "gender              0\n",
       "income_type         0\n",
       "debt                0\n",
       "total_income        0\n",
       "purpose             0\n",
       "age_group           0\n",
       "dtype: int64"
      ]
     },
     "execution_count": 24,
     "metadata": {},
     "output_type": "execute_result"
    }
   ],
   "source": [
    "# Checking the number of missing values after filling\n",
    "df.isna().sum()"
   ]
  },
  {
   "cell_type": "code",
   "execution_count": 25,
   "id": "266bf991",
   "metadata": {},
   "outputs": [],
   "source": [
    "# Excluding 'XNA' from the 'gender' column and resetting the index\n",
    "df = df[df['gender'] != 'XNA'].reset_index(drop=True)"
   ]
  },
  {
   "cell_type": "markdown",
   "id": "b125f73a",
   "metadata": {},
   "source": [
    "### Data Anomaly Detection and Correction"
   ]
  },
  {
   "cell_type": "code",
   "execution_count": 26,
   "id": "e01dcdab",
   "metadata": {},
   "outputs": [
    {
     "data": {
      "text/plain": [
       "0    14271\n",
       "1     4818\n",
       "2     2055\n",
       "3      330\n",
       "4       41\n",
       "5        9\n",
       "Name: children, dtype: int64"
      ]
     },
     "execution_count": 26,
     "metadata": {},
     "output_type": "execute_result"
    }
   ],
   "source": [
    "# Checking if the applied methods worked correctly\n",
    "df['children'].value_counts()"
   ]
  },
  {
   "cell_type": "code",
   "execution_count": 27,
   "id": "f668639d",
   "metadata": {},
   "outputs": [
    {
     "data": {
      "text/plain": [
       "array(['F', 'M'], dtype=object)"
      ]
     },
     "execution_count": 27,
     "metadata": {},
     "output_type": "execute_result"
    }
   ],
   "source": [
    "# Checking the unique values in the 'gender' column\n",
    "df['gender'].unique()"
   ]
  },
  {
   "cell_type": "code",
   "execution_count": 28,
   "id": "2dbba21d",
   "metadata": {},
   "outputs": [
    {
     "name": "stdout",
     "output_type": "stream",
     "text": [
      "<class 'pandas.core.frame.DataFrame'>\n",
      "RangeIndex: 21524 entries, 0 to 21523\n",
      "Data columns (total 13 columns):\n",
      " #   Column            Non-Null Count  Dtype  \n",
      "---  ------            --------------  -----  \n",
      " 0   children          21524 non-null  int64  \n",
      " 1   days_employed     21524 non-null  float64\n",
      " 2   dob_years         21524 non-null  float64\n",
      " 3   education         21524 non-null  object \n",
      " 4   education_id      21524 non-null  int64  \n",
      " 5   family_status     21524 non-null  object \n",
      " 6   family_status_id  21524 non-null  int64  \n",
      " 7   gender            21524 non-null  object \n",
      " 8   income_type       21524 non-null  object \n",
      " 9   debt              21524 non-null  int64  \n",
      " 10  total_income      21524 non-null  float64\n",
      " 11  purpose           21524 non-null  object \n",
      " 12  age_group         21524 non-null  object \n",
      "dtypes: float64(3), int64(4), object(6)\n",
      "memory usage: 2.1+ MB\n"
     ]
    }
   ],
   "source": [
    "# Displaying information about the DataFrame, including column types and non-null values\n",
    "df.info()"
   ]
  },
  {
   "cell_type": "code",
   "execution_count": 29,
   "id": "ef01d06b",
   "metadata": {},
   "outputs": [
    {
     "data": {
      "text/html": [
       "<div>\n",
       "<style scoped>\n",
       "    .dataframe tbody tr th:only-of-type {\n",
       "        vertical-align: middle;\n",
       "    }\n",
       "\n",
       "    .dataframe tbody tr th {\n",
       "        vertical-align: top;\n",
       "    }\n",
       "\n",
       "    .dataframe thead th {\n",
       "        text-align: right;\n",
       "    }\n",
       "</style>\n",
       "<table border=\"1\" class=\"dataframe\">\n",
       "  <thead>\n",
       "    <tr style=\"text-align: right;\">\n",
       "      <th></th>\n",
       "      <th>children</th>\n",
       "      <th>days_employed</th>\n",
       "      <th>dob_years</th>\n",
       "      <th>education_id</th>\n",
       "      <th>family_status_id</th>\n",
       "      <th>debt</th>\n",
       "      <th>total_income</th>\n",
       "    </tr>\n",
       "  </thead>\n",
       "  <tbody>\n",
       "    <tr>\n",
       "      <th>count</th>\n",
       "      <td>21524.000000</td>\n",
       "      <td>21524.000000</td>\n",
       "      <td>21524.000000</td>\n",
       "      <td>21524.000000</td>\n",
       "      <td>21524.000000</td>\n",
       "      <td>21524.000000</td>\n",
       "      <td>2.152400e+04</td>\n",
       "    </tr>\n",
       "    <tr>\n",
       "      <th>mean</th>\n",
       "      <td>0.470498</td>\n",
       "      <td>67749.324333</td>\n",
       "      <td>43.294276</td>\n",
       "      <td>0.817181</td>\n",
       "      <td>0.972542</td>\n",
       "      <td>0.080886</td>\n",
       "      <td>1.652235e+05</td>\n",
       "    </tr>\n",
       "    <tr>\n",
       "      <th>std</th>\n",
       "      <td>0.750544</td>\n",
       "      <td>139249.097819</td>\n",
       "      <td>12.574188</td>\n",
       "      <td>0.548092</td>\n",
       "      <td>1.420357</td>\n",
       "      <td>0.272667</td>\n",
       "      <td>9.804559e+04</td>\n",
       "    </tr>\n",
       "    <tr>\n",
       "      <th>min</th>\n",
       "      <td>0.000000</td>\n",
       "      <td>24.141633</td>\n",
       "      <td>0.000000</td>\n",
       "      <td>0.000000</td>\n",
       "      <td>0.000000</td>\n",
       "      <td>0.000000</td>\n",
       "      <td>2.066726e+04</td>\n",
       "    </tr>\n",
       "    <tr>\n",
       "      <th>25%</th>\n",
       "      <td>0.000000</td>\n",
       "      <td>1005.821788</td>\n",
       "      <td>33.000000</td>\n",
       "      <td>1.000000</td>\n",
       "      <td>0.000000</td>\n",
       "      <td>0.000000</td>\n",
       "      <td>1.077960e+05</td>\n",
       "    </tr>\n",
       "    <tr>\n",
       "      <th>50%</th>\n",
       "      <td>0.000000</td>\n",
       "      <td>2143.533786</td>\n",
       "      <td>42.000000</td>\n",
       "      <td>1.000000</td>\n",
       "      <td>0.000000</td>\n",
       "      <td>0.000000</td>\n",
       "      <td>1.425944e+05</td>\n",
       "    </tr>\n",
       "    <tr>\n",
       "      <th>75%</th>\n",
       "      <td>1.000000</td>\n",
       "      <td>5430.905847</td>\n",
       "      <td>53.000000</td>\n",
       "      <td>1.000000</td>\n",
       "      <td>1.000000</td>\n",
       "      <td>0.000000</td>\n",
       "      <td>1.955452e+05</td>\n",
       "    </tr>\n",
       "    <tr>\n",
       "      <th>max</th>\n",
       "      <td>5.000000</td>\n",
       "      <td>401755.400475</td>\n",
       "      <td>75.000000</td>\n",
       "      <td>4.000000</td>\n",
       "      <td>4.000000</td>\n",
       "      <td>1.000000</td>\n",
       "      <td>2.265604e+06</td>\n",
       "    </tr>\n",
       "  </tbody>\n",
       "</table>\n",
       "</div>"
      ],
      "text/plain": [
       "           children  days_employed     dob_years  education_id  \\\n",
       "count  21524.000000   21524.000000  21524.000000  21524.000000   \n",
       "mean       0.470498   67749.324333     43.294276      0.817181   \n",
       "std        0.750544  139249.097819     12.574188      0.548092   \n",
       "min        0.000000      24.141633      0.000000      0.000000   \n",
       "25%        0.000000    1005.821788     33.000000      1.000000   \n",
       "50%        0.000000    2143.533786     42.000000      1.000000   \n",
       "75%        1.000000    5430.905847     53.000000      1.000000   \n",
       "max        5.000000  401755.400475     75.000000      4.000000   \n",
       "\n",
       "       family_status_id          debt  total_income  \n",
       "count      21524.000000  21524.000000  2.152400e+04  \n",
       "mean           0.972542      0.080886  1.652235e+05  \n",
       "std            1.420357      0.272667  9.804559e+04  \n",
       "min            0.000000      0.000000  2.066726e+04  \n",
       "25%            0.000000      0.000000  1.077960e+05  \n",
       "50%            0.000000      0.000000  1.425944e+05  \n",
       "75%            1.000000      0.000000  1.955452e+05  \n",
       "max            4.000000      1.000000  2.265604e+06  "
      ]
     },
     "execution_count": 29,
     "metadata": {},
     "output_type": "execute_result"
    }
   ],
   "source": [
    "# Generating summary statistics for numerical columns in the DataFrame\n",
    "df.describe()"
   ]
  },
  {
   "cell_type": "markdown",
   "id": "d1f4baa4",
   "metadata": {},
   "source": [
    "### Data Type Conversion"
   ]
  },
  {
   "cell_type": "code",
   "execution_count": 30,
   "id": "6f345f0e",
   "metadata": {},
   "outputs": [],
   "source": [
    "# Converting 'total_income' from float to integer data type\n",
    "df['total_income'] = df['total_income'].astype('int')"
   ]
  },
  {
   "cell_type": "code",
   "execution_count": 31,
   "id": "5d8a228f",
   "metadata": {},
   "outputs": [
    {
     "name": "stdout",
     "output_type": "stream",
     "text": [
      "<class 'pandas.core.frame.DataFrame'>\n",
      "RangeIndex: 21524 entries, 0 to 21523\n",
      "Data columns (total 13 columns):\n",
      " #   Column            Non-Null Count  Dtype  \n",
      "---  ------            --------------  -----  \n",
      " 0   children          21524 non-null  int64  \n",
      " 1   days_employed     21524 non-null  float64\n",
      " 2   dob_years         21524 non-null  float64\n",
      " 3   education         21524 non-null  object \n",
      " 4   education_id      21524 non-null  int64  \n",
      " 5   family_status     21524 non-null  object \n",
      " 6   family_status_id  21524 non-null  int64  \n",
      " 7   gender            21524 non-null  object \n",
      " 8   income_type       21524 non-null  object \n",
      " 9   debt              21524 non-null  int64  \n",
      " 10  total_income      21524 non-null  int64  \n",
      " 11  purpose           21524 non-null  object \n",
      " 12  age_group         21524 non-null  object \n",
      "dtypes: float64(2), int64(5), object(6)\n",
      "memory usage: 2.1+ MB\n"
     ]
    }
   ],
   "source": [
    "df.info()"
   ]
  },
  {
   "cell_type": "markdown",
   "id": "2d12b012",
   "metadata": {},
   "source": [
    "### Removing Duplicates"
   ]
  },
  {
   "cell_type": "markdown",
   "id": "0c9acb48",
   "metadata": {},
   "source": [
    "Removing explicit duplicates. We identified 54 duplicates during the [data overview](#intro) step."
   ]
  },
  {
   "cell_type": "code",
   "execution_count": 32,
   "id": "a38f4e8d",
   "metadata": {},
   "outputs": [],
   "source": [
    "# Removing duplicates and resetting the index to avoid gaps\n",
    "df = df.drop_duplicates().reset_index()"
   ]
  },
  {
   "cell_type": "code",
   "execution_count": 33,
   "id": "57d2aeb4",
   "metadata": {},
   "outputs": [
    {
     "data": {
      "text/plain": [
       "0"
      ]
     },
     "execution_count": 33,
     "metadata": {},
     "output_type": "execute_result"
    }
   ],
   "source": [
    "# Checking the number of duplicate rows in the DataFrame\n",
    "df.duplicated().sum() "
   ]
  },
  {
   "cell_type": "markdown",
   "id": "33809698",
   "metadata": {},
   "source": [
    "Handling duplicates in the `education` column caused by inconsistent formatting.\n",
    "Creating a function to convert all implicit duplicates to snake_case."
   ]
  },
  {
   "cell_type": "code",
   "execution_count": 34,
   "id": "0d2bae09",
   "metadata": {},
   "outputs": [
    {
     "data": {
      "text/plain": [
       "array(['ВЫСШЕЕ', 'Высшее', 'НАЧАЛЬНОЕ', 'НЕОКОНЧЕННОЕ ВЫСШЕЕ',\n",
       "       'Начальное', 'Неоконченное высшее', 'СРЕДНЕЕ', 'Среднее',\n",
       "       'УЧЕНАЯ СТЕПЕНЬ', 'Ученая степень', 'высшее', 'начальное',\n",
       "       'неоконченное высшее', 'среднее', 'ученая степень'], dtype=object)"
      ]
     },
     "execution_count": 34,
     "metadata": {},
     "output_type": "execute_result"
    }
   ],
   "source": [
    "# Viewing unique values in the 'education' column after sorting\n",
    "df['education'].sort_values().unique()"
   ]
  },
  {
   "cell_type": "code",
   "execution_count": 35,
   "id": "6e8b56e3",
   "metadata": {},
   "outputs": [],
   "source": [
    "# Converting all values in the 'education' column to lowercase\n",
    "df['education'] = df['education'].str.lower()"
   ]
  },
  {
   "cell_type": "code",
   "execution_count": 36,
   "id": "473d0708",
   "metadata": {},
   "outputs": [
    {
     "data": {
      "text/plain": [
       "array(['высшее', 'начальное', 'неоконченное высшее', 'среднее',\n",
       "       'ученая степень'], dtype=object)"
      ]
     },
     "execution_count": 36,
     "metadata": {},
     "output_type": "execute_result"
    }
   ],
   "source": [
    "# Checking the unique values in the 'education' column after the corrections\n",
    "df['education'].sort_values().unique() #проверяем исправления"
   ]
  },
  {
   "cell_type": "markdown",
   "id": "a67ab30a",
   "metadata": {},
   "source": [
    "### Creating Additional DataFrames and Decomposing the Original DataFrame"
   ]
  },
  {
   "cell_type": "code",
   "execution_count": 37,
   "id": "413d70ef",
   "metadata": {},
   "outputs": [],
   "source": [
    "# Creating a new DataFrame 'df_education' with unique 'education' and 'education_id' pairs\n",
    "df_education = df[['education','education_id']] "
   ]
  },
  {
   "cell_type": "code",
   "execution_count": 38,
   "id": "43ade200",
   "metadata": {},
   "outputs": [
    {
     "data": {
      "text/html": [
       "<div>\n",
       "<style scoped>\n",
       "    .dataframe tbody tr th:only-of-type {\n",
       "        vertical-align: middle;\n",
       "    }\n",
       "\n",
       "    .dataframe tbody tr th {\n",
       "        vertical-align: top;\n",
       "    }\n",
       "\n",
       "    .dataframe thead th {\n",
       "        text-align: right;\n",
       "    }\n",
       "</style>\n",
       "<table border=\"1\" class=\"dataframe\">\n",
       "  <thead>\n",
       "    <tr style=\"text-align: right;\">\n",
       "      <th></th>\n",
       "      <th>education</th>\n",
       "      <th>education_id</th>\n",
       "    </tr>\n",
       "  </thead>\n",
       "  <tbody>\n",
       "    <tr>\n",
       "      <th>0</th>\n",
       "      <td>высшее</td>\n",
       "      <td>0</td>\n",
       "    </tr>\n",
       "    <tr>\n",
       "      <th>1</th>\n",
       "      <td>среднее</td>\n",
       "      <td>1</td>\n",
       "    </tr>\n",
       "    <tr>\n",
       "      <th>2</th>\n",
       "      <td>неоконченное высшее</td>\n",
       "      <td>2</td>\n",
       "    </tr>\n",
       "    <tr>\n",
       "      <th>3</th>\n",
       "      <td>начальное</td>\n",
       "      <td>3</td>\n",
       "    </tr>\n",
       "    <tr>\n",
       "      <th>4</th>\n",
       "      <td>ученая степень</td>\n",
       "      <td>4</td>\n",
       "    </tr>\n",
       "  </tbody>\n",
       "</table>\n",
       "</div>"
      ],
      "text/plain": [
       "             education  education_id\n",
       "0               высшее             0\n",
       "1              среднее             1\n",
       "2  неоконченное высшее             2\n",
       "3            начальное             3\n",
       "4       ученая степень             4"
      ]
     },
     "execution_count": 38,
     "metadata": {},
     "output_type": "execute_result"
    }
   ],
   "source": [
    "# Removing duplicates\n",
    "df_education = df_education.drop_duplicates().reset_index(drop=True) \n",
    "df_education"
   ]
  },
  {
   "cell_type": "code",
   "execution_count": 39,
   "id": "76caeb7f",
   "metadata": {},
   "outputs": [
    {
     "data": {
      "text/html": [
       "<div>\n",
       "<style scoped>\n",
       "    .dataframe tbody tr th:only-of-type {\n",
       "        vertical-align: middle;\n",
       "    }\n",
       "\n",
       "    .dataframe tbody tr th {\n",
       "        vertical-align: top;\n",
       "    }\n",
       "\n",
       "    .dataframe thead th {\n",
       "        text-align: right;\n",
       "    }\n",
       "</style>\n",
       "<table border=\"1\" class=\"dataframe\">\n",
       "  <thead>\n",
       "    <tr style=\"text-align: right;\">\n",
       "      <th></th>\n",
       "      <th>family_status</th>\n",
       "      <th>family_status_id</th>\n",
       "    </tr>\n",
       "  </thead>\n",
       "  <tbody>\n",
       "    <tr>\n",
       "      <th>0</th>\n",
       "      <td>женат / замужем</td>\n",
       "      <td>0</td>\n",
       "    </tr>\n",
       "    <tr>\n",
       "      <th>1</th>\n",
       "      <td>гражданский брак</td>\n",
       "      <td>1</td>\n",
       "    </tr>\n",
       "    <tr>\n",
       "      <th>2</th>\n",
       "      <td>вдовец / вдова</td>\n",
       "      <td>2</td>\n",
       "    </tr>\n",
       "    <tr>\n",
       "      <th>3</th>\n",
       "      <td>в разводе</td>\n",
       "      <td>3</td>\n",
       "    </tr>\n",
       "    <tr>\n",
       "      <th>4</th>\n",
       "      <td>Не женат / не замужем</td>\n",
       "      <td>4</td>\n",
       "    </tr>\n",
       "  </tbody>\n",
       "</table>\n",
       "</div>"
      ],
      "text/plain": [
       "           family_status  family_status_id\n",
       "0        женат / замужем                 0\n",
       "1       гражданский брак                 1\n",
       "2         вдовец / вдова                 2\n",
       "3              в разводе                 3\n",
       "4  Не женат / не замужем                 4"
      ]
     },
     "execution_count": 39,
     "metadata": {},
     "output_type": "execute_result"
    }
   ],
   "source": [
    "# Creating a new DataFrame 'df_family_status' with unique 'family_status' and 'family_status_id' pairs\n",
    "df_family_status = df[['family_status','family_status_id']] \n",
    "df_family_status = df_family_status.drop_duplicates().reset_index(drop=True)\n",
    "df_family_status"
   ]
  },
  {
   "cell_type": "code",
   "execution_count": 40,
   "id": "7fe9ab53",
   "metadata": {},
   "outputs": [],
   "source": [
    "# Removing 'education' and 'family_status' columns from the original DataFrame\n",
    "df = df.drop('education', axis=1) #удаляем из исходного датафрейма столбцы education и family_status"
   ]
  },
  {
   "cell_type": "code",
   "execution_count": 41,
   "id": "6e6e4887",
   "metadata": {},
   "outputs": [],
   "source": [
    "# Dropping the 'family_status' column from the DataFrame\n",
    "df = df.drop('family_status', axis=1)"
   ]
  },
  {
   "cell_type": "code",
   "execution_count": 42,
   "id": "b722e235",
   "metadata": {},
   "outputs": [
    {
     "data": {
      "text/html": [
       "<div>\n",
       "<style scoped>\n",
       "    .dataframe tbody tr th:only-of-type {\n",
       "        vertical-align: middle;\n",
       "    }\n",
       "\n",
       "    .dataframe tbody tr th {\n",
       "        vertical-align: top;\n",
       "    }\n",
       "\n",
       "    .dataframe thead th {\n",
       "        text-align: right;\n",
       "    }\n",
       "</style>\n",
       "<table border=\"1\" class=\"dataframe\">\n",
       "  <thead>\n",
       "    <tr style=\"text-align: right;\">\n",
       "      <th></th>\n",
       "      <th>index</th>\n",
       "      <th>children</th>\n",
       "      <th>days_employed</th>\n",
       "      <th>dob_years</th>\n",
       "      <th>education_id</th>\n",
       "      <th>family_status_id</th>\n",
       "      <th>gender</th>\n",
       "      <th>income_type</th>\n",
       "      <th>debt</th>\n",
       "      <th>total_income</th>\n",
       "      <th>purpose</th>\n",
       "      <th>age_group</th>\n",
       "    </tr>\n",
       "  </thead>\n",
       "  <tbody>\n",
       "    <tr>\n",
       "      <th>0</th>\n",
       "      <td>0</td>\n",
       "      <td>1</td>\n",
       "      <td>8437.673028</td>\n",
       "      <td>42.0</td>\n",
       "      <td>0</td>\n",
       "      <td>0</td>\n",
       "      <td>F</td>\n",
       "      <td>сотрудник</td>\n",
       "      <td>0</td>\n",
       "      <td>253875</td>\n",
       "      <td>покупка жилья</td>\n",
       "      <td>Group 3</td>\n",
       "    </tr>\n",
       "    <tr>\n",
       "      <th>1</th>\n",
       "      <td>1</td>\n",
       "      <td>1</td>\n",
       "      <td>4024.803754</td>\n",
       "      <td>36.0</td>\n",
       "      <td>1</td>\n",
       "      <td>0</td>\n",
       "      <td>F</td>\n",
       "      <td>сотрудник</td>\n",
       "      <td>0</td>\n",
       "      <td>112080</td>\n",
       "      <td>приобретение автомобиля</td>\n",
       "      <td>Group 3</td>\n",
       "    </tr>\n",
       "    <tr>\n",
       "      <th>2</th>\n",
       "      <td>2</td>\n",
       "      <td>0</td>\n",
       "      <td>5623.422610</td>\n",
       "      <td>33.0</td>\n",
       "      <td>1</td>\n",
       "      <td>0</td>\n",
       "      <td>M</td>\n",
       "      <td>сотрудник</td>\n",
       "      <td>0</td>\n",
       "      <td>145885</td>\n",
       "      <td>покупка жилья</td>\n",
       "      <td>Group 2</td>\n",
       "    </tr>\n",
       "    <tr>\n",
       "      <th>3</th>\n",
       "      <td>3</td>\n",
       "      <td>3</td>\n",
       "      <td>4124.747207</td>\n",
       "      <td>32.0</td>\n",
       "      <td>1</td>\n",
       "      <td>0</td>\n",
       "      <td>M</td>\n",
       "      <td>сотрудник</td>\n",
       "      <td>0</td>\n",
       "      <td>267628</td>\n",
       "      <td>дополнительное образование</td>\n",
       "      <td>Group 2</td>\n",
       "    </tr>\n",
       "    <tr>\n",
       "      <th>4</th>\n",
       "      <td>4</td>\n",
       "      <td>0</td>\n",
       "      <td>340266.072047</td>\n",
       "      <td>53.0</td>\n",
       "      <td>1</td>\n",
       "      <td>1</td>\n",
       "      <td>F</td>\n",
       "      <td>пенсионер</td>\n",
       "      <td>0</td>\n",
       "      <td>158616</td>\n",
       "      <td>сыграть свадьбу</td>\n",
       "      <td>Group 4</td>\n",
       "    </tr>\n",
       "  </tbody>\n",
       "</table>\n",
       "</div>"
      ],
      "text/plain": [
       "   index  children  days_employed  dob_years  education_id  family_status_id  \\\n",
       "0      0         1    8437.673028       42.0             0                 0   \n",
       "1      1         1    4024.803754       36.0             1                 0   \n",
       "2      2         0    5623.422610       33.0             1                 0   \n",
       "3      3         3    4124.747207       32.0             1                 0   \n",
       "4      4         0  340266.072047       53.0             1                 1   \n",
       "\n",
       "  gender income_type  debt  total_income                     purpose age_group  \n",
       "0      F   сотрудник     0        253875               покупка жилья   Group 3  \n",
       "1      F   сотрудник     0        112080     приобретение автомобиля   Group 3  \n",
       "2      M   сотрудник     0        145885               покупка жилья   Group 2  \n",
       "3      M   сотрудник     0        267628  дополнительное образование   Group 2  \n",
       "4      F   пенсионер     0        158616             сыграть свадьбу   Group 4  "
      ]
     },
     "execution_count": 42,
     "metadata": {},
     "output_type": "execute_result"
    }
   ],
   "source": [
    "df.head()"
   ]
  },
  {
   "cell_type": "markdown",
   "id": "edd901e8",
   "metadata": {},
   "source": [
    "### Income Categorization"
   ]
  },
  {
   "cell_type": "markdown",
   "id": "79a5b643",
   "metadata": {},
   "source": [
    "Creating a new column `total_income_category` with income categories:\n",
    "* 0–30000 — 'E';\n",
    "* 30001–50000 — 'D';\n",
    "* 50001–200000 — 'C';\n",
    "* 200001–1000000 — 'B';\n",
    "* 1000001 and above — 'A'."
   ]
  },
  {
   "cell_type": "code",
   "execution_count": 43,
   "id": "e23b4372",
   "metadata": {},
   "outputs": [],
   "source": [
    "# Function to assign income categories\n",
    "def income_category(row):\n",
    "    \n",
    "    income = row['total_income']\n",
    "\n",
    "    if income <= 30000:\n",
    "        return 'E'\n",
    "    \n",
    "    if income <= 50000 and income > 30001:\n",
    "        return 'D'\n",
    "    \n",
    "    if income <= 200000 and income > 50001:\n",
    "        return 'C'\n",
    "\n",
    "    if income <= 1000000 and income > 200001:\n",
    "        return 'B'\n",
    "    \n",
    "    if income > 1000001:\n",
    "        return 'A'"
   ]
  },
  {
   "cell_type": "code",
   "execution_count": 44,
   "id": "946e93a6",
   "metadata": {},
   "outputs": [
    {
     "data": {
      "text/html": [
       "<div>\n",
       "<style scoped>\n",
       "    .dataframe tbody tr th:only-of-type {\n",
       "        vertical-align: middle;\n",
       "    }\n",
       "\n",
       "    .dataframe tbody tr th {\n",
       "        vertical-align: top;\n",
       "    }\n",
       "\n",
       "    .dataframe thead th {\n",
       "        text-align: right;\n",
       "    }\n",
       "</style>\n",
       "<table border=\"1\" class=\"dataframe\">\n",
       "  <thead>\n",
       "    <tr style=\"text-align: right;\">\n",
       "      <th></th>\n",
       "      <th>index</th>\n",
       "      <th>children</th>\n",
       "      <th>days_employed</th>\n",
       "      <th>dob_years</th>\n",
       "      <th>education_id</th>\n",
       "      <th>family_status_id</th>\n",
       "      <th>gender</th>\n",
       "      <th>income_type</th>\n",
       "      <th>debt</th>\n",
       "      <th>total_income</th>\n",
       "      <th>purpose</th>\n",
       "      <th>age_group</th>\n",
       "      <th>total_income_category</th>\n",
       "    </tr>\n",
       "  </thead>\n",
       "  <tbody>\n",
       "    <tr>\n",
       "      <th>0</th>\n",
       "      <td>0</td>\n",
       "      <td>1</td>\n",
       "      <td>8437.673028</td>\n",
       "      <td>42.0</td>\n",
       "      <td>0</td>\n",
       "      <td>0</td>\n",
       "      <td>F</td>\n",
       "      <td>сотрудник</td>\n",
       "      <td>0</td>\n",
       "      <td>253875</td>\n",
       "      <td>покупка жилья</td>\n",
       "      <td>Group 3</td>\n",
       "      <td>B</td>\n",
       "    </tr>\n",
       "    <tr>\n",
       "      <th>1</th>\n",
       "      <td>1</td>\n",
       "      <td>1</td>\n",
       "      <td>4024.803754</td>\n",
       "      <td>36.0</td>\n",
       "      <td>1</td>\n",
       "      <td>0</td>\n",
       "      <td>F</td>\n",
       "      <td>сотрудник</td>\n",
       "      <td>0</td>\n",
       "      <td>112080</td>\n",
       "      <td>приобретение автомобиля</td>\n",
       "      <td>Group 3</td>\n",
       "      <td>C</td>\n",
       "    </tr>\n",
       "    <tr>\n",
       "      <th>2</th>\n",
       "      <td>2</td>\n",
       "      <td>0</td>\n",
       "      <td>5623.422610</td>\n",
       "      <td>33.0</td>\n",
       "      <td>1</td>\n",
       "      <td>0</td>\n",
       "      <td>M</td>\n",
       "      <td>сотрудник</td>\n",
       "      <td>0</td>\n",
       "      <td>145885</td>\n",
       "      <td>покупка жилья</td>\n",
       "      <td>Group 2</td>\n",
       "      <td>C</td>\n",
       "    </tr>\n",
       "    <tr>\n",
       "      <th>3</th>\n",
       "      <td>3</td>\n",
       "      <td>3</td>\n",
       "      <td>4124.747207</td>\n",
       "      <td>32.0</td>\n",
       "      <td>1</td>\n",
       "      <td>0</td>\n",
       "      <td>M</td>\n",
       "      <td>сотрудник</td>\n",
       "      <td>0</td>\n",
       "      <td>267628</td>\n",
       "      <td>дополнительное образование</td>\n",
       "      <td>Group 2</td>\n",
       "      <td>B</td>\n",
       "    </tr>\n",
       "    <tr>\n",
       "      <th>4</th>\n",
       "      <td>4</td>\n",
       "      <td>0</td>\n",
       "      <td>340266.072047</td>\n",
       "      <td>53.0</td>\n",
       "      <td>1</td>\n",
       "      <td>1</td>\n",
       "      <td>F</td>\n",
       "      <td>пенсионер</td>\n",
       "      <td>0</td>\n",
       "      <td>158616</td>\n",
       "      <td>сыграть свадьбу</td>\n",
       "      <td>Group 4</td>\n",
       "      <td>C</td>\n",
       "    </tr>\n",
       "  </tbody>\n",
       "</table>\n",
       "</div>"
      ],
      "text/plain": [
       "   index  children  days_employed  dob_years  education_id  family_status_id  \\\n",
       "0      0         1    8437.673028       42.0             0                 0   \n",
       "1      1         1    4024.803754       36.0             1                 0   \n",
       "2      2         0    5623.422610       33.0             1                 0   \n",
       "3      3         3    4124.747207       32.0             1                 0   \n",
       "4      4         0  340266.072047       53.0             1                 1   \n",
       "\n",
       "  gender income_type  debt  total_income                     purpose  \\\n",
       "0      F   сотрудник     0        253875               покупка жилья   \n",
       "1      F   сотрудник     0        112080     приобретение автомобиля   \n",
       "2      M   сотрудник     0        145885               покупка жилья   \n",
       "3      M   сотрудник     0        267628  дополнительное образование   \n",
       "4      F   пенсионер     0        158616             сыграть свадьбу   \n",
       "\n",
       "  age_group total_income_category  \n",
       "0   Group 3                     B  \n",
       "1   Group 3                     C  \n",
       "2   Group 2                     C  \n",
       "3   Group 2                     B  \n",
       "4   Group 4                     C  "
      ]
     },
     "execution_count": 44,
     "metadata": {},
     "output_type": "execute_result"
    }
   ],
   "source": [
    "# Apply the function to each row\n",
    "df['total_income_category'] = df.apply(income_category, axis=1)\n",
    "df.head()"
   ]
  },
  {
   "cell_type": "markdown",
   "id": "872db59f",
   "metadata": {},
   "source": [
    "### Categorizing Loan Purposes"
   ]
  },
  {
   "cell_type": "markdown",
   "id": "e21ffea6",
   "metadata": {},
   "source": [
    "We will create a function that, based on the data in the `purpose` column, will generate a new column called `purpose_category` with the following categories:\n",
    "\n",
    "* 'vehicle-related transactions'\n",
    "* 'real estate transactions'\n",
    "* 'wedding-related expenses'\n",
    "* 'education expenses'."
   ]
  },
  {
   "cell_type": "code",
   "execution_count": 45,
   "id": "34264336",
   "metadata": {},
   "outputs": [
    {
     "data": {
      "text/plain": [
       "array(['покупка жилья', 'приобретение автомобиля',\n",
       "       'дополнительное образование', 'сыграть свадьбу',\n",
       "       'операции с жильем', 'образование', 'на проведение свадьбы',\n",
       "       'покупка жилья для семьи', 'покупка недвижимости',\n",
       "       'покупка коммерческой недвижимости', 'покупка жилой недвижимости',\n",
       "       'строительство собственной недвижимости', 'недвижимость',\n",
       "       'строительство недвижимости', 'на покупку подержанного автомобиля',\n",
       "       'на покупку своего автомобиля',\n",
       "       'операции с коммерческой недвижимостью',\n",
       "       'строительство жилой недвижимости', 'жилье',\n",
       "       'операции со своей недвижимостью', 'автомобили',\n",
       "       'заняться образованием', 'сделка с подержанным автомобилем',\n",
       "       'получение образования', 'автомобиль', 'свадьба',\n",
       "       'получение дополнительного образования', 'покупка своего жилья',\n",
       "       'операции с недвижимостью', 'получение высшего образования',\n",
       "       'свой автомобиль', 'сделка с автомобилем',\n",
       "       'профильное образование', 'высшее образование',\n",
       "       'покупка жилья для сдачи', 'на покупку автомобиля', 'ремонт жилью',\n",
       "       'заняться высшим образованием'], dtype=object)"
      ]
     },
     "execution_count": 45,
     "metadata": {},
     "output_type": "execute_result"
    }
   ],
   "source": [
    "df['purpose'].unique()"
   ]
  },
  {
   "cell_type": "code",
   "execution_count": 50,
   "id": "21a716c0",
   "metadata": {},
   "outputs": [],
   "source": [
    "# Function to categorize loan purposes based on the 'purpose' column\n",
    "def purpose_category(row):\n",
    "    \n",
    "    purpose = row['purpose']\n",
    "    \n",
    "    if 'авто'in purpose:\n",
    "        return 'vehicle-related transactions'\n",
    "    \n",
    "    if 'жил' in purpose or 'недвиж' in purpose:\n",
    "        return 'real estate transactions'\n",
    "    \n",
    "    if 'свадьб' in purpose:\n",
    "        return 'wedding-related expenses'\n",
    "    \n",
    "    if 'обр' in purpose:\n",
    "        return 'education expenses' "
   ]
  },
  {
   "cell_type": "code",
   "execution_count": 53,
   "id": "69bd6c82",
   "metadata": {},
   "outputs": [],
   "source": [
    "# Create a new column 'purpose_category' based on the 'purpose' column using the function purpose_category\n",
    "df['purpose_category'] = df.apply(purpose_category, axis=1) "
   ]
  },
  {
   "cell_type": "code",
   "execution_count": 54,
   "id": "3dee1f07",
   "metadata": {},
   "outputs": [
    {
     "data": {
      "text/plain": [
       "array(['real estate transactions', 'vehicle-related transactions',\n",
       "       'education expenses', 'wedding-related expenses'], dtype=object)"
      ]
     },
     "execution_count": 54,
     "metadata": {},
     "output_type": "execute_result"
    }
   ],
   "source": [
    "# Check unique values in the 'purpose_category' column\n",
    "df['purpose_category'].unique()"
   ]
  },
  {
   "cell_type": "markdown",
   "id": "4c89a9c2",
   "metadata": {},
   "source": [
    "### Intermediate Findings"
   ]
  },
  {
   "cell_type": "markdown",
   "id": "50b30b76",
   "metadata": {},
   "source": [
    "At this stage, the data was modified as follows:\n",
    "\n",
    "1. Missing values in the `dob_years` and `total_income` columns were replaced with median values.\n",
    "2. Anomalies in the `children` and `dob_years` columns were processed and replaced with median values.\n",
    "3. Negative values in the `days_employed` column were converted to positive values.\n",
    "4. Borrowers were grouped by age and income, with the results stored in the `age_group` and `income_category` columns.\n",
    "5. 54 explicit duplicates and 1 row with an undefined gender value were removed.\n",
    "6. Values in the `purpose` column were standardized.\n",
    "7. The `education` and `family_status` columns were removed from the dataframe."
   ]
  },
  {
   "cell_type": "markdown",
   "id": "10f1a40b",
   "metadata": {},
   "source": [
    "## Answers to the Questions"
   ]
  },
  {
   "cell_type": "markdown",
   "id": "c941a0d3",
   "metadata": {},
   "source": [
    "### Question 1: Is there a relationship between the number of children and timely loan repayment?"
   ]
  },
  {
   "cell_type": "code",
   "execution_count": 55,
   "id": "ca91eda1",
   "metadata": {},
   "outputs": [
    {
     "data": {
      "text/html": [
       "<div>\n",
       "<style scoped>\n",
       "    .dataframe tbody tr th:only-of-type {\n",
       "        vertical-align: middle;\n",
       "    }\n",
       "\n",
       "    .dataframe tbody tr th {\n",
       "        vertical-align: top;\n",
       "    }\n",
       "\n",
       "    .dataframe thead tr th {\n",
       "        text-align: left;\n",
       "    }\n",
       "\n",
       "    .dataframe thead tr:last-of-type th {\n",
       "        text-align: right;\n",
       "    }\n",
       "</style>\n",
       "<table border=\"1\" class=\"dataframe\">\n",
       "  <thead>\n",
       "    <tr>\n",
       "      <th></th>\n",
       "      <th>count</th>\n",
       "      <th>mean</th>\n",
       "    </tr>\n",
       "    <tr>\n",
       "      <th></th>\n",
       "      <th>debt</th>\n",
       "      <th>debt</th>\n",
       "    </tr>\n",
       "    <tr>\n",
       "      <th>children</th>\n",
       "      <th></th>\n",
       "      <th></th>\n",
       "    </tr>\n",
       "  </thead>\n",
       "  <tbody>\n",
       "    <tr>\n",
       "      <th>0</th>\n",
       "      <td>14229</td>\n",
       "      <td>0.075339</td>\n",
       "    </tr>\n",
       "    <tr>\n",
       "      <th>1</th>\n",
       "      <td>4809</td>\n",
       "      <td>0.092327</td>\n",
       "    </tr>\n",
       "    <tr>\n",
       "      <th>2</th>\n",
       "      <td>2052</td>\n",
       "      <td>0.094542</td>\n",
       "    </tr>\n",
       "    <tr>\n",
       "      <th>3</th>\n",
       "      <td>330</td>\n",
       "      <td>0.081818</td>\n",
       "    </tr>\n",
       "    <tr>\n",
       "      <th>4</th>\n",
       "      <td>41</td>\n",
       "      <td>0.097561</td>\n",
       "    </tr>\n",
       "    <tr>\n",
       "      <th>5</th>\n",
       "      <td>9</td>\n",
       "      <td>0.000000</td>\n",
       "    </tr>\n",
       "  </tbody>\n",
       "</table>\n",
       "</div>"
      ],
      "text/plain": [
       "          count      mean\n",
       "           debt      debt\n",
       "children                 \n",
       "0         14229  0.075339\n",
       "1          4809  0.092327\n",
       "2          2052  0.094542\n",
       "3           330  0.081818\n",
       "4            41  0.097561\n",
       "5             9  0.000000"
      ]
     },
     "execution_count": 55,
     "metadata": {},
     "output_type": "execute_result"
    }
   ],
   "source": [
    "# Creates a pivot table to analyze the relationship between the number of children and debt repayment\n",
    "df.pivot_table(index=['children'], values='debt', aggfunc=['count','mean'])"
   ]
  },
  {
   "cell_type": "markdown",
   "id": "485ac213",
   "metadata": {},
   "source": [
    "#### Conclusion 1"
   ]
  },
  {
   "cell_type": "markdown",
   "id": "93670588",
   "metadata": {},
   "source": [
    "The samples by the number of children vary significantly, ranging from thousands to just a few, making it difficult to draw conclusions about the relationship based on the current data.\n",
    "\n",
    "However, if we consider only the comparable categories—borrowers without children and borrowers with 1 or 2 children—we can observe a trend: **the more children in the family, the more likely borrowers are to have outstanding debts.**\n"
   ]
  },
  {
   "cell_type": "markdown",
   "id": "641e3b94",
   "metadata": {},
   "source": [
    "### Question 2: Is there a relationship between marital status and timely loan repayment?"
   ]
  },
  {
   "cell_type": "code",
   "execution_count": 57,
   "id": "fee74dfa",
   "metadata": {},
   "outputs": [
    {
     "data": {
      "text/html": [
       "<div>\n",
       "<style scoped>\n",
       "    .dataframe tbody tr th:only-of-type {\n",
       "        vertical-align: middle;\n",
       "    }\n",
       "\n",
       "    .dataframe tbody tr th {\n",
       "        vertical-align: top;\n",
       "    }\n",
       "\n",
       "    .dataframe thead tr th {\n",
       "        text-align: left;\n",
       "    }\n",
       "\n",
       "    .dataframe thead tr:last-of-type th {\n",
       "        text-align: right;\n",
       "    }\n",
       "</style>\n",
       "<table border=\"1\" class=\"dataframe\">\n",
       "  <thead>\n",
       "    <tr>\n",
       "      <th></th>\n",
       "      <th>count</th>\n",
       "      <th>mean</th>\n",
       "    </tr>\n",
       "    <tr>\n",
       "      <th></th>\n",
       "      <th>debt</th>\n",
       "      <th>debt</th>\n",
       "    </tr>\n",
       "    <tr>\n",
       "      <th>family_status_id</th>\n",
       "      <th></th>\n",
       "      <th></th>\n",
       "    </tr>\n",
       "  </thead>\n",
       "  <tbody>\n",
       "    <tr>\n",
       "      <th>0</th>\n",
       "      <td>12344</td>\n",
       "      <td>0.075421</td>\n",
       "    </tr>\n",
       "    <tr>\n",
       "      <th>1</th>\n",
       "      <td>4162</td>\n",
       "      <td>0.093224</td>\n",
       "    </tr>\n",
       "    <tr>\n",
       "      <th>2</th>\n",
       "      <td>959</td>\n",
       "      <td>0.065693</td>\n",
       "    </tr>\n",
       "    <tr>\n",
       "      <th>3</th>\n",
       "      <td>1195</td>\n",
       "      <td>0.071130</td>\n",
       "    </tr>\n",
       "    <tr>\n",
       "      <th>4</th>\n",
       "      <td>2810</td>\n",
       "      <td>0.097509</td>\n",
       "    </tr>\n",
       "  </tbody>\n",
       "</table>\n",
       "</div>"
      ],
      "text/plain": [
       "                  count      mean\n",
       "                   debt      debt\n",
       "family_status_id                 \n",
       "0                 12344  0.075421\n",
       "1                  4162  0.093224\n",
       "2                   959  0.065693\n",
       "3                  1195  0.071130\n",
       "4                  2810  0.097509"
      ]
     },
     "execution_count": 57,
     "metadata": {},
     "output_type": "execute_result"
    }
   ],
   "source": [
    "# Create a pivot table to analyze the relationship between marital status and loan repayment.\n",
    "df.pivot_table(index=['family_status_id'], values='debt', aggfunc=['count','mean'])"
   ]
  },
  {
   "cell_type": "markdown",
   "id": "f4c8fc88",
   "metadata": {},
   "source": [
    "#### Conclusion 2"
   ]
  },
  {
   "cell_type": "markdown",
   "id": "a18afc90",
   "metadata": {},
   "source": [
    "On the current sample, we observe the following relationship between marital status and loan repayment:\n",
    "\n",
    "From the group with the least tendency towards loan default to the group with the highest tendency towards defaults:\n",
    "\n",
    "- Widowed (вдовец / вдова)\n",
    "- Divorced (в разводе)\n",
    "- Married (женат / замужем)\n",
    "- Cohabiting (гражданский брак)\n",
    "- Single (не женат / не замужем)"
   ]
  },
  {
   "cell_type": "markdown",
   "id": "01cb1f9a",
   "metadata": {},
   "source": [
    "### Question 3: Is there a relationship between income level and timely loan repayment?"
   ]
  },
  {
   "cell_type": "code",
   "execution_count": 59,
   "id": "0529fd49",
   "metadata": {},
   "outputs": [
    {
     "data": {
      "text/html": [
       "<div>\n",
       "<style scoped>\n",
       "    .dataframe tbody tr th:only-of-type {\n",
       "        vertical-align: middle;\n",
       "    }\n",
       "\n",
       "    .dataframe tbody tr th {\n",
       "        vertical-align: top;\n",
       "    }\n",
       "\n",
       "    .dataframe thead tr th {\n",
       "        text-align: left;\n",
       "    }\n",
       "\n",
       "    .dataframe thead tr:last-of-type th {\n",
       "        text-align: right;\n",
       "    }\n",
       "</style>\n",
       "<table border=\"1\" class=\"dataframe\">\n",
       "  <thead>\n",
       "    <tr>\n",
       "      <th></th>\n",
       "      <th>count</th>\n",
       "      <th>mean</th>\n",
       "    </tr>\n",
       "    <tr>\n",
       "      <th></th>\n",
       "      <th>debt</th>\n",
       "      <th>debt</th>\n",
       "    </tr>\n",
       "    <tr>\n",
       "      <th>total_income_category</th>\n",
       "      <th></th>\n",
       "      <th></th>\n",
       "    </tr>\n",
       "  </thead>\n",
       "  <tbody>\n",
       "    <tr>\n",
       "      <th>A</th>\n",
       "      <td>25</td>\n",
       "      <td>0.080000</td>\n",
       "    </tr>\n",
       "    <tr>\n",
       "      <th>B</th>\n",
       "      <td>5040</td>\n",
       "      <td>0.070635</td>\n",
       "    </tr>\n",
       "    <tr>\n",
       "      <th>C</th>\n",
       "      <td>16032</td>\n",
       "      <td>0.084830</td>\n",
       "    </tr>\n",
       "    <tr>\n",
       "      <th>D</th>\n",
       "      <td>350</td>\n",
       "      <td>0.060000</td>\n",
       "    </tr>\n",
       "    <tr>\n",
       "      <th>E</th>\n",
       "      <td>22</td>\n",
       "      <td>0.090909</td>\n",
       "    </tr>\n",
       "  </tbody>\n",
       "</table>\n",
       "</div>"
      ],
      "text/plain": [
       "                       count      mean\n",
       "                        debt      debt\n",
       "total_income_category                 \n",
       "A                         25  0.080000\n",
       "B                       5040  0.070635\n",
       "C                      16032  0.084830\n",
       "D                        350  0.060000\n",
       "E                         22  0.090909"
      ]
     },
     "execution_count": 59,
     "metadata": {},
     "output_type": "execute_result"
    }
   ],
   "source": [
    "#Creating a pivot table to analyze the relationship between income category and loan repayment. \n",
    "df.pivot_table(index=['total_income_category'], values='debt', aggfunc=['count','mean'])"
   ]
  },
  {
   "cell_type": "markdown",
   "id": "16d4656b",
   "metadata": {},
   "source": [
    "#### Conclusion 3"
   ]
  },
  {
   "cell_type": "markdown",
   "id": "67f5d387",
   "metadata": {},
   "source": [
    "The situation with the small sample size repeats itself—there are far fewer borrowers in category A, but even so, it is difficult to identify a clear relationship in the data. Borrowers in category A and category E have almost identical debt ratios, despite having incomes differing by nearly a million.\n",
    "\n",
    "Taking into account the well-known fact that people with lower incomes tend to repay their debts more diligently than those with higher incomes, we can conclude that **this effect is evident in our data, even if it is based on a relatively small sample size.** "
   ]
  },
  {
   "cell_type": "markdown",
   "id": "8e602414",
   "metadata": {},
   "source": [
    "### Question 4: How do different loan purposes affect timely repayment?"
   ]
  },
  {
   "cell_type": "code",
   "execution_count": 60,
   "id": "eed64bf6",
   "metadata": {},
   "outputs": [
    {
     "data": {
      "text/html": [
       "<div>\n",
       "<style scoped>\n",
       "    .dataframe tbody tr th:only-of-type {\n",
       "        vertical-align: middle;\n",
       "    }\n",
       "\n",
       "    .dataframe tbody tr th {\n",
       "        vertical-align: top;\n",
       "    }\n",
       "\n",
       "    .dataframe thead tr th {\n",
       "        text-align: left;\n",
       "    }\n",
       "\n",
       "    .dataframe thead tr:last-of-type th {\n",
       "        text-align: right;\n",
       "    }\n",
       "</style>\n",
       "<table border=\"1\" class=\"dataframe\">\n",
       "  <thead>\n",
       "    <tr>\n",
       "      <th></th>\n",
       "      <th>count</th>\n",
       "      <th>mean</th>\n",
       "    </tr>\n",
       "    <tr>\n",
       "      <th></th>\n",
       "      <th>debt</th>\n",
       "      <th>debt</th>\n",
       "    </tr>\n",
       "    <tr>\n",
       "      <th>purpose_category</th>\n",
       "      <th></th>\n",
       "      <th></th>\n",
       "    </tr>\n",
       "  </thead>\n",
       "  <tbody>\n",
       "    <tr>\n",
       "      <th>education expenses</th>\n",
       "      <td>4014</td>\n",
       "      <td>0.092177</td>\n",
       "    </tr>\n",
       "    <tr>\n",
       "      <th>real estate transactions</th>\n",
       "      <td>10813</td>\n",
       "      <td>0.072320</td>\n",
       "    </tr>\n",
       "    <tr>\n",
       "      <th>vehicle-related transactions</th>\n",
       "      <td>4308</td>\n",
       "      <td>0.093547</td>\n",
       "    </tr>\n",
       "    <tr>\n",
       "      <th>wedding-related expenses</th>\n",
       "      <td>2335</td>\n",
       "      <td>0.079657</td>\n",
       "    </tr>\n",
       "  </tbody>\n",
       "</table>\n",
       "</div>"
      ],
      "text/plain": [
       "                              count      mean\n",
       "                               debt      debt\n",
       "purpose_category                             \n",
       "education expenses             4014  0.092177\n",
       "real estate transactions      10813  0.072320\n",
       "vehicle-related transactions   4308  0.093547\n",
       "wedding-related expenses       2335  0.079657"
      ]
     },
     "execution_count": 60,
     "metadata": {},
     "output_type": "execute_result"
    }
   ],
   "source": [
    "# Creates a pivot table to analyze the relationship between loan purposes and timely repayment. \n",
    "df.pivot_table(index=['purpose_category'], values='debt', aggfunc=['count','mean'])"
   ]
  },
  {
   "cell_type": "markdown",
   "id": "dfb6be6f",
   "metadata": {},
   "source": [
    "#### Conclusion 4"
   ]
  },
  {
   "cell_type": "markdown",
   "id": "61ec8ffc",
   "metadata": {},
   "source": [
    "There is a clear dependency observed: borrowers in the categories of `real estate transactions` and `wedding-related expenses` tend to repay their loans on time more often, while borrowers in the categories of `vehicle-related transactions` and `education expenses` are more likely to have loan arrears."
   ]
  },
  {
   "cell_type": "markdown",
   "id": "71ca7723",
   "metadata": {},
   "source": [
    "## General Conclusion"
   ]
  },
  {
   "cell_type": "markdown",
   "id": "354c2a3a",
   "metadata": {},
   "source": [
    "During the course of this work, critical anomalies in the provided data were addressed, explicit and implicit duplicates were removed, and missing values were filled.\n",
    "\n",
    "**Here are the key conclusions:**\n",
    "\n",
    "1. **Larger Family Size and Loan Arrears:** The more children a family has, the more likely borrowers are to experience loan arrears. It is important to note that the samples for the number of children are not proportional, which makes this finding less conclusive.\n",
    "\n",
    "2. **Widows/Widowers vs. Single Borrowers:** Borrowers in the \"widow/widower\" group tend to repay their loans on time more frequently than those in the \"never married\" group, suggesting that marital status may play a role in loan repayment behavior.\n",
    "\n",
    "3. **Income and Loan Repayment:** It is challenging to establish a clear and logical relationship between income level and timely loan repayment. Interestingly, borrowers in both the highest income category (A) and the lowest income category (E) show almost identical default rates, despite a nearly one million difference in their incomes. This might indicate that income alone does not sufficiently explain repayment behavior, and other factors, such as financial discipline or obligations, may play a role.\n",
    "\n",
    "4. **Purpose of Loan and Repayment:** Borrowers in the \"real estate transactions\" and \"wedding-related expenses\" categories are more likely to repay their loans on time. On the other hand, those in the \"vehicle-related transactions\" and \"education expenses\" categories tend to have more loan arrears. This suggests that the purpose of the loan might influence the borrower's likelihood of meeting repayment deadlines, with non-essential purchases (like cars) and investments in education showing higher rates of arrears."
   ]
  }
 ],
 "metadata": {
  "ExecuteTimeLog": [
   {
    "duration": 48,
    "start_time": "2022-06-04T13:02:36.704Z"
   },
   {
    "duration": 502,
    "start_time": "2022-06-04T13:53:49.319Z"
   },
   {
    "duration": 8,
    "start_time": "2022-06-04T13:54:07.944Z"
   },
   {
    "duration": 614,
    "start_time": "2022-06-04T13:54:40.107Z"
   },
   {
    "duration": 17,
    "start_time": "2022-06-04T13:55:47.426Z"
   },
   {
    "duration": 42,
    "start_time": "2022-06-08T07:40:03.245Z"
   },
   {
    "duration": 760,
    "start_time": "2022-06-08T12:14:34.539Z"
   },
   {
    "duration": 18,
    "start_time": "2022-06-08T12:14:39.643Z"
   },
   {
    "duration": 14,
    "start_time": "2022-06-08T12:16:33.564Z"
   },
   {
    "duration": 13,
    "start_time": "2022-06-08T12:16:36.820Z"
   },
   {
    "duration": 42,
    "start_time": "2022-06-08T18:17:46.769Z"
   },
   {
    "duration": 6,
    "start_time": "2022-06-08T18:17:54.469Z"
   },
   {
    "duration": 700,
    "start_time": "2022-06-08T18:18:00.966Z"
   },
   {
    "duration": 14,
    "start_time": "2022-06-08T18:18:02.740Z"
   },
   {
    "duration": 11,
    "start_time": "2022-06-08T18:18:03.889Z"
   },
   {
    "duration": 16,
    "start_time": "2022-06-08T18:18:06.104Z"
   },
   {
    "duration": 5,
    "start_time": "2022-06-08T18:20:14.939Z"
   },
   {
    "duration": 26,
    "start_time": "2022-06-08T18:22:31.081Z"
   },
   {
    "duration": 12,
    "start_time": "2022-06-08T18:22:36.651Z"
   },
   {
    "duration": 8,
    "start_time": "2022-06-08T18:22:44.456Z"
   },
   {
    "duration": 6,
    "start_time": "2022-06-08T18:23:07.188Z"
   },
   {
    "duration": 4,
    "start_time": "2022-06-08T18:24:11.467Z"
   },
   {
    "duration": 6,
    "start_time": "2022-06-08T18:24:13.427Z"
   },
   {
    "duration": 5,
    "start_time": "2022-06-08T18:32:06.569Z"
   },
   {
    "duration": 14,
    "start_time": "2022-06-08T18:33:51.947Z"
   },
   {
    "duration": 6,
    "start_time": "2022-06-08T18:37:02.556Z"
   },
   {
    "duration": 14,
    "start_time": "2022-06-08T18:39:55.013Z"
   },
   {
    "duration": 13,
    "start_time": "2022-06-08T18:43:34.989Z"
   },
   {
    "duration": 6,
    "start_time": "2022-06-08T18:50:01.903Z"
   },
   {
    "duration": 42,
    "start_time": "2022-06-09T14:06:13.611Z"
   },
   {
    "duration": 520,
    "start_time": "2022-06-09T14:06:18.108Z"
   },
   {
    "duration": 14,
    "start_time": "2022-06-09T14:06:19.926Z"
   },
   {
    "duration": 9,
    "start_time": "2022-06-09T14:06:20.960Z"
   },
   {
    "duration": 17,
    "start_time": "2022-06-09T14:06:22.964Z"
   },
   {
    "duration": 17,
    "start_time": "2022-06-09T14:06:50.760Z"
   },
   {
    "duration": 13,
    "start_time": "2022-06-09T14:06:53.102Z"
   },
   {
    "duration": 6,
    "start_time": "2022-06-09T14:07:10.026Z"
   },
   {
    "duration": 609,
    "start_time": "2022-06-09T14:07:56.058Z"
   },
   {
    "duration": 35,
    "start_time": "2022-06-09T14:11:16.997Z"
   },
   {
    "duration": 25,
    "start_time": "2022-06-09T14:11:57.864Z"
   },
   {
    "duration": 22,
    "start_time": "2022-06-09T14:12:21.567Z"
   },
   {
    "duration": 5,
    "start_time": "2022-06-09T14:12:29.017Z"
   },
   {
    "duration": 5,
    "start_time": "2022-06-09T14:12:36.771Z"
   },
   {
    "duration": 415,
    "start_time": "2022-06-09T14:34:09.027Z"
   },
   {
    "duration": 19,
    "start_time": "2022-06-09T14:34:20.425Z"
   },
   {
    "duration": 15,
    "start_time": "2022-06-09T14:40:35.265Z"
   },
   {
    "duration": 66,
    "start_time": "2022-06-12T13:23:38.052Z"
   },
   {
    "duration": 767,
    "start_time": "2022-06-12T13:23:42.444Z"
   },
   {
    "duration": 19,
    "start_time": "2022-06-12T13:23:44.720Z"
   },
   {
    "duration": 12,
    "start_time": "2022-06-12T13:23:45.749Z"
   },
   {
    "duration": 8,
    "start_time": "2022-06-12T13:23:47.304Z"
   },
   {
    "duration": 8,
    "start_time": "2022-06-12T13:23:48.058Z"
   },
   {
    "duration": 10,
    "start_time": "2022-06-12T13:23:48.841Z"
   },
   {
    "duration": 23,
    "start_time": "2022-06-12T13:23:49.563Z"
   },
   {
    "duration": 15,
    "start_time": "2022-06-12T13:23:50.434Z"
   },
   {
    "duration": 14,
    "start_time": "2022-06-12T13:23:51.281Z"
   },
   {
    "duration": 19,
    "start_time": "2022-06-12T13:23:52.118Z"
   },
   {
    "duration": 18,
    "start_time": "2022-06-12T13:23:52.857Z"
   },
   {
    "duration": 18,
    "start_time": "2022-06-12T13:23:53.654Z"
   },
   {
    "duration": 30,
    "start_time": "2022-06-12T13:29:26.009Z"
   },
   {
    "duration": 6,
    "start_time": "2022-06-12T13:29:32.404Z"
   },
   {
    "duration": 7,
    "start_time": "2022-06-12T13:29:46.614Z"
   },
   {
    "duration": 10,
    "start_time": "2022-06-12T13:51:45.071Z"
   },
   {
    "duration": 6,
    "start_time": "2022-06-12T13:52:08.034Z"
   },
   {
    "duration": 7,
    "start_time": "2022-06-12T13:52:36.701Z"
   },
   {
    "duration": 7,
    "start_time": "2022-06-12T13:52:45.108Z"
   },
   {
    "duration": 5,
    "start_time": "2022-06-12T13:52:52.084Z"
   },
   {
    "duration": 6,
    "start_time": "2022-06-12T13:53:36.088Z"
   },
   {
    "duration": 7,
    "start_time": "2022-06-12T13:54:41.492Z"
   },
   {
    "duration": 25,
    "start_time": "2022-06-12T13:56:15.815Z"
   },
   {
    "duration": 25,
    "start_time": "2022-06-12T13:56:37.953Z"
   },
   {
    "duration": 27,
    "start_time": "2022-06-12T14:00:06.664Z"
   },
   {
    "duration": 20,
    "start_time": "2022-06-12T14:00:10.430Z"
   },
   {
    "duration": 91,
    "start_time": "2022-06-12T15:16:47.646Z"
   },
   {
    "duration": 6,
    "start_time": "2022-06-12T15:19:42.144Z"
   },
   {
    "duration": 4,
    "start_time": "2022-06-12T15:20:18.255Z"
   },
   {
    "duration": 84,
    "start_time": "2022-06-12T15:22:49.113Z"
   },
   {
    "duration": 15,
    "start_time": "2022-06-12T15:22:50.175Z"
   },
   {
    "duration": 12,
    "start_time": "2022-06-12T15:22:50.991Z"
   },
   {
    "duration": 8,
    "start_time": "2022-06-12T15:22:51.743Z"
   },
   {
    "duration": 25,
    "start_time": "2022-06-12T15:22:53.266Z"
   },
   {
    "duration": 18,
    "start_time": "2022-06-12T15:22:53.997Z"
   },
   {
    "duration": 6,
    "start_time": "2022-06-12T15:22:58.596Z"
   },
   {
    "duration": 5,
    "start_time": "2022-06-12T15:23:10.715Z"
   },
   {
    "duration": 5,
    "start_time": "2022-06-12T15:23:26.176Z"
   },
   {
    "duration": 5,
    "start_time": "2022-06-12T15:38:30.353Z"
   },
   {
    "duration": 5,
    "start_time": "2022-06-12T15:38:44.046Z"
   },
   {
    "duration": 5,
    "start_time": "2022-06-12T15:39:04.754Z"
   },
   {
    "duration": 4,
    "start_time": "2022-06-12T15:44:46.076Z"
   },
   {
    "duration": 7,
    "start_time": "2022-06-12T15:45:01.267Z"
   },
   {
    "duration": 5,
    "start_time": "2022-06-12T15:45:32.399Z"
   },
   {
    "duration": 4,
    "start_time": "2022-06-12T15:45:40.321Z"
   },
   {
    "duration": 6,
    "start_time": "2022-06-12T15:45:41.097Z"
   },
   {
    "duration": 5,
    "start_time": "2022-06-12T15:46:29.834Z"
   },
   {
    "duration": 6,
    "start_time": "2022-06-12T15:46:59.575Z"
   },
   {
    "duration": 5,
    "start_time": "2022-06-12T15:47:01.721Z"
   },
   {
    "duration": 42,
    "start_time": "2022-06-12T16:02:28.590Z"
   },
   {
    "duration": 29,
    "start_time": "2022-06-12T16:14:20.388Z"
   },
   {
    "duration": 31,
    "start_time": "2022-06-12T16:14:26.982Z"
   },
   {
    "duration": 29,
    "start_time": "2022-06-12T16:15:27.919Z"
   },
   {
    "duration": 6,
    "start_time": "2022-06-12T16:15:30.927Z"
   },
   {
    "duration": 5,
    "start_time": "2022-06-12T16:15:31.469Z"
   },
   {
    "duration": 6,
    "start_time": "2022-06-12T16:15:34.171Z"
   },
   {
    "duration": 30,
    "start_time": "2022-06-12T16:15:35.021Z"
   },
   {
    "duration": 78,
    "start_time": "2022-06-12T16:15:49.409Z"
   },
   {
    "duration": 15,
    "start_time": "2022-06-12T16:15:50.069Z"
   },
   {
    "duration": 9,
    "start_time": "2022-06-12T16:15:50.819Z"
   },
   {
    "duration": 6,
    "start_time": "2022-06-12T16:15:51.397Z"
   },
   {
    "duration": 25,
    "start_time": "2022-06-12T16:15:52.737Z"
   },
   {
    "duration": 18,
    "start_time": "2022-06-12T16:15:53.463Z"
   },
   {
    "duration": 32,
    "start_time": "2022-06-12T16:15:54.204Z"
   },
   {
    "duration": 6,
    "start_time": "2022-06-12T16:16:07.651Z"
   },
   {
    "duration": 5,
    "start_time": "2022-06-12T16:16:08.297Z"
   },
   {
    "duration": 5,
    "start_time": "2022-06-12T16:18:04.325Z"
   },
   {
    "duration": 7,
    "start_time": "2022-06-12T16:21:10.226Z"
   },
   {
    "duration": 5,
    "start_time": "2022-06-12T16:21:12.132Z"
   },
   {
    "duration": 8,
    "start_time": "2022-06-12T16:21:12.611Z"
   },
   {
    "duration": 8,
    "start_time": "2022-06-12T16:22:00.533Z"
   },
   {
    "duration": 26,
    "start_time": "2022-06-12T16:23:06.411Z"
   },
   {
    "duration": 10,
    "start_time": "2022-06-12T16:23:13.275Z"
   },
   {
    "duration": 10,
    "start_time": "2022-06-12T16:28:31.817Z"
   },
   {
    "duration": 11,
    "start_time": "2022-06-12T16:28:49.363Z"
   },
   {
    "duration": 7,
    "start_time": "2022-06-12T16:29:51.071Z"
   },
   {
    "duration": 6,
    "start_time": "2022-06-12T16:29:53.553Z"
   },
   {
    "duration": 10,
    "start_time": "2022-06-12T16:30:09.112Z"
   },
   {
    "duration": 9,
    "start_time": "2022-06-12T16:30:19.169Z"
   },
   {
    "duration": 6,
    "start_time": "2022-06-12T16:30:19.650Z"
   },
   {
    "duration": 12,
    "start_time": "2022-06-12T16:32:12.201Z"
   },
   {
    "duration": 7,
    "start_time": "2022-06-12T16:32:19.535Z"
   },
   {
    "duration": 46,
    "start_time": "2022-06-12T16:32:20.648Z"
   },
   {
    "duration": 9,
    "start_time": "2022-06-12T16:32:31.641Z"
   },
   {
    "duration": 19,
    "start_time": "2022-06-12T16:32:49.789Z"
   },
   {
    "duration": 10,
    "start_time": "2022-06-12T16:34:12.691Z"
   },
   {
    "duration": 9,
    "start_time": "2022-06-12T16:34:16.696Z"
   },
   {
    "duration": 8,
    "start_time": "2022-06-12T16:34:18.926Z"
   },
   {
    "duration": 41,
    "start_time": "2022-06-12T16:34:19.752Z"
   },
   {
    "duration": 16,
    "start_time": "2022-06-12T16:34:30.080Z"
   },
   {
    "duration": 9,
    "start_time": "2022-06-12T16:34:32.192Z"
   },
   {
    "duration": 10,
    "start_time": "2022-06-12T16:35:36.727Z"
   },
   {
    "duration": 8,
    "start_time": "2022-06-12T16:35:41.143Z"
   },
   {
    "duration": 30,
    "start_time": "2022-06-12T16:36:22.692Z"
   },
   {
    "duration": 11,
    "start_time": "2022-06-12T16:36:26.319Z"
   },
   {
    "duration": 32,
    "start_time": "2022-06-12T16:36:39.070Z"
   },
   {
    "duration": 26,
    "start_time": "2022-06-12T16:36:58.430Z"
   },
   {
    "duration": 41,
    "start_time": "2022-06-12T16:37:08.352Z"
   },
   {
    "duration": 32,
    "start_time": "2022-06-12T16:37:09.195Z"
   },
   {
    "duration": 52,
    "start_time": "2022-06-12T16:37:09.984Z"
   },
   {
    "duration": 6,
    "start_time": "2022-06-12T16:37:12.828Z"
   },
   {
    "duration": 6,
    "start_time": "2022-06-12T16:37:13.553Z"
   },
   {
    "duration": 11,
    "start_time": "2022-06-12T16:37:14.994Z"
   },
   {
    "duration": 19,
    "start_time": "2022-06-12T16:37:19.368Z"
   },
   {
    "duration": 9,
    "start_time": "2022-06-12T16:37:20.268Z"
   },
   {
    "duration": 5,
    "start_time": "2022-06-12T16:37:26.548Z"
   },
   {
    "duration": 5,
    "start_time": "2022-06-12T16:37:27.566Z"
   },
   {
    "duration": 10,
    "start_time": "2022-06-12T16:37:29.166Z"
   },
   {
    "duration": 22,
    "start_time": "2022-06-12T16:38:00.348Z"
   },
   {
    "duration": 37,
    "start_time": "2022-06-12T16:38:01.057Z"
   },
   {
    "duration": 5,
    "start_time": "2022-06-12T16:38:03.719Z"
   },
   {
    "duration": 6,
    "start_time": "2022-06-12T16:38:04.527Z"
   },
   {
    "duration": 12,
    "start_time": "2022-06-12T16:38:06.265Z"
   },
   {
    "duration": 11,
    "start_time": "2022-06-12T16:38:09.091Z"
   },
   {
    "duration": 90,
    "start_time": "2022-06-12T16:38:20.414Z"
   },
   {
    "duration": 16,
    "start_time": "2022-06-12T16:38:21.518Z"
   },
   {
    "duration": 12,
    "start_time": "2022-06-12T16:38:22.204Z"
   },
   {
    "duration": 6,
    "start_time": "2022-06-12T16:38:23.316Z"
   },
   {
    "duration": 27,
    "start_time": "2022-06-12T16:38:25.151Z"
   },
   {
    "duration": 19,
    "start_time": "2022-06-12T16:38:25.922Z"
   },
   {
    "duration": 37,
    "start_time": "2022-06-12T16:38:26.767Z"
   },
   {
    "duration": 7,
    "start_time": "2022-06-12T16:38:30.599Z"
   },
   {
    "duration": 5,
    "start_time": "2022-06-12T16:38:31.663Z"
   },
   {
    "duration": 9,
    "start_time": "2022-06-12T16:38:33.406Z"
   },
   {
    "duration": 2,
    "start_time": "2022-06-12T16:38:34.741Z"
   },
   {
    "duration": 8,
    "start_time": "2022-06-12T16:38:36.895Z"
   },
   {
    "duration": 17,
    "start_time": "2022-06-12T16:38:43.907Z"
   },
   {
    "duration": 10,
    "start_time": "2022-06-12T16:38:45.201Z"
   },
   {
    "duration": 28,
    "start_time": "2022-06-12T16:39:06.143Z"
   },
   {
    "duration": 20,
    "start_time": "2022-06-12T16:39:24.959Z"
   },
   {
    "duration": 30,
    "start_time": "2022-06-12T16:39:25.658Z"
   },
   {
    "duration": 8,
    "start_time": "2022-06-12T16:39:28.189Z"
   },
   {
    "duration": 6,
    "start_time": "2022-06-12T16:39:28.898Z"
   },
   {
    "duration": 11,
    "start_time": "2022-06-12T16:39:30.247Z"
   },
   {
    "duration": 21,
    "start_time": "2022-06-12T16:39:30.939Z"
   },
   {
    "duration": 87,
    "start_time": "2022-06-12T16:39:35.699Z"
   },
   {
    "duration": 22,
    "start_time": "2022-06-12T16:39:36.296Z"
   },
   {
    "duration": 22,
    "start_time": "2022-06-12T16:39:37.020Z"
   },
   {
    "duration": 7,
    "start_time": "2022-06-12T16:39:37.882Z"
   },
   {
    "duration": 28,
    "start_time": "2022-06-12T16:39:39.179Z"
   },
   {
    "duration": 19,
    "start_time": "2022-06-12T16:39:40.251Z"
   },
   {
    "duration": 40,
    "start_time": "2022-06-12T16:39:40.757Z"
   },
   {
    "duration": 6,
    "start_time": "2022-06-12T16:39:43.501Z"
   },
   {
    "duration": 5,
    "start_time": "2022-06-12T16:39:44.115Z"
   },
   {
    "duration": 10,
    "start_time": "2022-06-12T16:39:45.775Z"
   },
   {
    "duration": 18,
    "start_time": "2022-06-12T16:39:46.974Z"
   },
   {
    "duration": 8,
    "start_time": "2022-06-12T16:39:47.944Z"
   },
   {
    "duration": 22,
    "start_time": "2022-06-12T16:40:32.352Z"
   },
   {
    "duration": 7,
    "start_time": "2022-06-12T16:40:37.040Z"
   },
   {
    "duration": 6,
    "start_time": "2022-06-12T16:40:37.864Z"
   },
   {
    "duration": 12,
    "start_time": "2022-06-12T16:40:39.050Z"
   },
   {
    "duration": 22,
    "start_time": "2022-06-12T16:40:39.844Z"
   },
   {
    "duration": 14,
    "start_time": "2022-06-12T16:40:41.428Z"
   },
   {
    "duration": 11,
    "start_time": "2022-06-12T16:41:12.230Z"
   },
   {
    "duration": 7,
    "start_time": "2022-06-12T16:41:17.809Z"
   },
   {
    "duration": 11,
    "start_time": "2022-06-12T16:41:20.060Z"
   },
   {
    "duration": 11,
    "start_time": "2022-06-12T16:41:24.427Z"
   },
   {
    "duration": 6,
    "start_time": "2022-06-12T16:41:25.320Z"
   },
   {
    "duration": 11,
    "start_time": "2022-06-12T16:41:25.894Z"
   },
   {
    "duration": 13,
    "start_time": "2022-06-12T16:41:35.520Z"
   },
   {
    "duration": 7,
    "start_time": "2022-06-12T16:41:36.184Z"
   },
   {
    "duration": 9,
    "start_time": "2022-06-12T16:41:36.760Z"
   },
   {
    "duration": 111,
    "start_time": "2022-06-12T16:41:42.828Z"
   },
   {
    "duration": 25,
    "start_time": "2022-06-12T16:41:43.360Z"
   },
   {
    "duration": 13,
    "start_time": "2022-06-12T16:41:44.062Z"
   },
   {
    "duration": 6,
    "start_time": "2022-06-12T16:41:44.737Z"
   },
   {
    "duration": 40,
    "start_time": "2022-06-12T16:41:45.953Z"
   },
   {
    "duration": 17,
    "start_time": "2022-06-12T16:41:47.148Z"
   },
   {
    "duration": 30,
    "start_time": "2022-06-12T16:41:47.691Z"
   },
   {
    "duration": 4,
    "start_time": "2022-06-12T16:41:50.489Z"
   },
   {
    "duration": 5,
    "start_time": "2022-06-12T16:41:51.131Z"
   },
   {
    "duration": 9,
    "start_time": "2022-06-12T16:41:52.714Z"
   },
   {
    "duration": 5,
    "start_time": "2022-06-12T16:41:53.339Z"
   },
   {
    "duration": 9,
    "start_time": "2022-06-12T16:41:53.992Z"
   },
   {
    "duration": 6,
    "start_time": "2022-06-12T16:41:57.215Z"
   },
   {
    "duration": 33,
    "start_time": "2022-06-12T16:41:58.591Z"
   },
   {
    "duration": 34,
    "start_time": "2022-06-12T16:48:04.088Z"
   },
   {
    "duration": 7,
    "start_time": "2022-06-12T16:57:49.807Z"
   },
   {
    "duration": 6,
    "start_time": "2022-06-12T17:00:19.719Z"
   },
   {
    "duration": 14,
    "start_time": "2022-06-12T17:03:28.450Z"
   },
   {
    "duration": 40,
    "start_time": "2022-06-12T17:05:01.606Z"
   },
   {
    "duration": 50,
    "start_time": "2022-06-12T17:05:18.882Z"
   },
   {
    "duration": 32,
    "start_time": "2022-06-12T17:05:21.247Z"
   },
   {
    "duration": 100,
    "start_time": "2022-06-12T17:05:29.688Z"
   },
   {
    "duration": 18,
    "start_time": "2022-06-12T17:05:30.420Z"
   },
   {
    "duration": 11,
    "start_time": "2022-06-12T17:05:31.102Z"
   },
   {
    "duration": 7,
    "start_time": "2022-06-12T17:05:31.799Z"
   },
   {
    "duration": 34,
    "start_time": "2022-06-12T17:05:33.002Z"
   },
   {
    "duration": 18,
    "start_time": "2022-06-12T17:05:34.228Z"
   },
   {
    "duration": 52,
    "start_time": "2022-06-12T17:05:34.856Z"
   },
   {
    "duration": 6,
    "start_time": "2022-06-12T17:05:37.019Z"
   },
   {
    "duration": 6,
    "start_time": "2022-06-12T17:05:37.621Z"
   },
   {
    "duration": 10,
    "start_time": "2022-06-12T17:05:38.646Z"
   },
   {
    "duration": 30,
    "start_time": "2022-06-12T17:05:39.888Z"
   },
   {
    "duration": 42,
    "start_time": "2022-06-12T17:05:40.852Z"
   },
   {
    "duration": 1188,
    "start_time": "2022-06-13T17:40:57.150Z"
   },
   {
    "duration": 27,
    "start_time": "2022-06-13T17:40:58.624Z"
   },
   {
    "duration": 22,
    "start_time": "2022-06-13T17:41:00.120Z"
   },
   {
    "duration": 12,
    "start_time": "2022-06-13T17:41:01.213Z"
   },
   {
    "duration": 59,
    "start_time": "2022-06-13T17:41:03.218Z"
   },
   {
    "duration": 33,
    "start_time": "2022-06-13T17:41:05.025Z"
   },
   {
    "duration": 57,
    "start_time": "2022-06-13T17:41:05.864Z"
   },
   {
    "duration": 11,
    "start_time": "2022-06-13T17:41:19.112Z"
   },
   {
    "duration": 11,
    "start_time": "2022-06-13T17:41:20.041Z"
   },
   {
    "duration": 14,
    "start_time": "2022-06-13T17:41:33.945Z"
   },
   {
    "duration": 146,
    "start_time": "2022-06-13T17:41:37.226Z"
   },
   {
    "duration": 46,
    "start_time": "2022-06-13T17:45:45.718Z"
   },
   {
    "duration": 29,
    "start_time": "2022-06-13T17:45:56.640Z"
   },
   {
    "duration": 81,
    "start_time": "2022-06-13T17:46:01.366Z"
   },
   {
    "duration": 12,
    "start_time": "2022-06-13T17:46:38.617Z"
   },
   {
    "duration": 26,
    "start_time": "2022-06-13T17:53:43.525Z"
   },
   {
    "duration": 10,
    "start_time": "2022-06-13T17:59:12.151Z"
   },
   {
    "duration": 12,
    "start_time": "2022-06-13T17:59:36.902Z"
   },
   {
    "duration": 4,
    "start_time": "2022-06-13T18:10:55.623Z"
   },
   {
    "duration": 4,
    "start_time": "2022-06-13T18:11:00.099Z"
   },
   {
    "duration": 4,
    "start_time": "2022-06-13T18:11:03.395Z"
   },
   {
    "duration": 4,
    "start_time": "2022-06-13T18:11:06.893Z"
   },
   {
    "duration": 22,
    "start_time": "2022-06-13T18:13:44.195Z"
   },
   {
    "duration": 4,
    "start_time": "2022-06-13T18:13:49.703Z"
   },
   {
    "duration": 10,
    "start_time": "2022-06-13T18:13:52.543Z"
   },
   {
    "duration": 153,
    "start_time": "2022-06-13T18:15:33.610Z"
   },
   {
    "duration": 8,
    "start_time": "2022-06-13T18:15:36.587Z"
   },
   {
    "duration": 18,
    "start_time": "2022-06-13T18:16:16.860Z"
   },
   {
    "duration": 160,
    "start_time": "2022-06-13T18:17:15.625Z"
   },
   {
    "duration": 19,
    "start_time": "2022-06-13T18:18:34.981Z"
   },
   {
    "duration": 9,
    "start_time": "2022-06-13T18:19:04.482Z"
   },
   {
    "duration": 8,
    "start_time": "2022-06-13T18:19:26.992Z"
   },
   {
    "duration": 27,
    "start_time": "2022-06-13T18:29:59.785Z"
   },
   {
    "duration": 16,
    "start_time": "2022-06-13T18:30:12.954Z"
   },
   {
    "duration": 7,
    "start_time": "2022-06-13T18:32:48.301Z"
   },
   {
    "duration": 14,
    "start_time": "2022-06-13T18:32:55.537Z"
   },
   {
    "duration": 5,
    "start_time": "2022-06-13T18:34:33.615Z"
   },
   {
    "duration": 15,
    "start_time": "2022-06-13T18:34:42.089Z"
   },
   {
    "duration": 9,
    "start_time": "2022-06-13T18:35:23.238Z"
   },
   {
    "duration": 12,
    "start_time": "2022-06-13T18:35:28.538Z"
   },
   {
    "duration": 5,
    "start_time": "2022-06-13T18:38:06.517Z"
   },
   {
    "duration": 14,
    "start_time": "2022-06-13T18:38:23.155Z"
   },
   {
    "duration": 13,
    "start_time": "2022-06-13T18:39:11.046Z"
   },
   {
    "duration": 21,
    "start_time": "2022-06-13T18:39:56.080Z"
   },
   {
    "duration": 20,
    "start_time": "2022-06-13T18:40:51.124Z"
   },
   {
    "duration": 14,
    "start_time": "2022-06-13T18:41:03.257Z"
   },
   {
    "duration": 28,
    "start_time": "2022-06-13T18:44:54.089Z"
   },
   {
    "duration": 55,
    "start_time": "2022-06-13T18:46:07.517Z"
   },
   {
    "duration": 477,
    "start_time": "2022-06-14T09:06:04.560Z"
   },
   {
    "duration": 13,
    "start_time": "2022-06-14T09:06:05.853Z"
   },
   {
    "duration": 8,
    "start_time": "2022-06-14T09:06:07.512Z"
   },
   {
    "duration": 5,
    "start_time": "2022-06-14T09:06:08.344Z"
   },
   {
    "duration": 22,
    "start_time": "2022-06-14T09:06:09.893Z"
   },
   {
    "duration": 16,
    "start_time": "2022-06-14T09:06:11.782Z"
   },
   {
    "duration": 28,
    "start_time": "2022-06-14T09:06:12.670Z"
   },
   {
    "duration": 6,
    "start_time": "2022-06-14T09:06:16.074Z"
   },
   {
    "duration": 4,
    "start_time": "2022-06-14T09:06:16.865Z"
   },
   {
    "duration": 7,
    "start_time": "2022-06-14T09:06:18.659Z"
   },
   {
    "duration": 22,
    "start_time": "2022-06-14T09:14:58.367Z"
   },
   {
    "duration": 14,
    "start_time": "2022-06-14T09:14:59.650Z"
   },
   {
    "duration": 28,
    "start_time": "2022-06-14T09:15:00.116Z"
   },
   {
    "duration": 5,
    "start_time": "2022-06-14T09:15:02.289Z"
   },
   {
    "duration": 4,
    "start_time": "2022-06-14T09:15:02.886Z"
   },
   {
    "duration": 9,
    "start_time": "2022-06-14T09:15:04.189Z"
   },
   {
    "duration": 27,
    "start_time": "2022-06-14T09:23:33.737Z"
   },
   {
    "duration": 4,
    "start_time": "2022-06-14T09:24:20.415Z"
   },
   {
    "duration": 129,
    "start_time": "2022-06-14T09:24:23.180Z"
   },
   {
    "duration": 8,
    "start_time": "2022-06-14T09:24:24.605Z"
   },
   {
    "duration": 11,
    "start_time": "2022-06-14T09:24:27.663Z"
   },
   {
    "duration": 79,
    "start_time": "2022-06-14T09:26:56.256Z"
   },
   {
    "duration": 18,
    "start_time": "2022-06-14T09:27:43.611Z"
   },
   {
    "duration": 3,
    "start_time": "2022-06-14T09:28:11.238Z"
   },
   {
    "duration": 117,
    "start_time": "2022-06-14T09:28:11.811Z"
   },
   {
    "duration": 6,
    "start_time": "2022-06-14T09:28:12.309Z"
   },
   {
    "duration": 10,
    "start_time": "2022-06-14T09:28:12.852Z"
   },
   {
    "duration": 17,
    "start_time": "2022-06-14T09:28:13.684Z"
   },
   {
    "duration": 71,
    "start_time": "2022-06-14T09:28:19.704Z"
   },
   {
    "duration": 17,
    "start_time": "2022-06-14T09:28:20.288Z"
   },
   {
    "duration": 9,
    "start_time": "2022-06-14T09:28:20.898Z"
   },
   {
    "duration": 5,
    "start_time": "2022-06-14T09:28:21.437Z"
   },
   {
    "duration": 25,
    "start_time": "2022-06-14T09:28:22.599Z"
   },
   {
    "duration": 16,
    "start_time": "2022-06-14T09:28:23.708Z"
   },
   {
    "duration": 28,
    "start_time": "2022-06-14T09:28:24.253Z"
   },
   {
    "duration": 4,
    "start_time": "2022-06-14T09:28:26.568Z"
   },
   {
    "duration": 4,
    "start_time": "2022-06-14T09:28:27.164Z"
   },
   {
    "duration": 8,
    "start_time": "2022-06-14T09:28:28.566Z"
   },
   {
    "duration": 44,
    "start_time": "2022-06-14T09:28:30.004Z"
   },
   {
    "duration": 3,
    "start_time": "2022-06-14T09:28:32.101Z"
   },
   {
    "duration": 119,
    "start_time": "2022-06-14T09:28:32.798Z"
   },
   {
    "duration": 7,
    "start_time": "2022-06-14T09:28:33.513Z"
   },
   {
    "duration": 11,
    "start_time": "2022-06-14T09:28:34.340Z"
   },
   {
    "duration": 17,
    "start_time": "2022-06-14T09:28:35.309Z"
   },
   {
    "duration": 72,
    "start_time": "2022-06-14T09:35:50.714Z"
   },
   {
    "duration": 13,
    "start_time": "2022-06-14T09:35:51.391Z"
   },
   {
    "duration": 8,
    "start_time": "2022-06-14T09:35:52.158Z"
   },
   {
    "duration": 5,
    "start_time": "2022-06-14T09:35:52.701Z"
   },
   {
    "duration": 22,
    "start_time": "2022-06-14T09:35:54.109Z"
   },
   {
    "duration": 15,
    "start_time": "2022-06-14T09:35:55.582Z"
   },
   {
    "duration": 28,
    "start_time": "2022-06-14T09:35:57.784Z"
   },
   {
    "duration": 5,
    "start_time": "2022-06-14T09:36:00.461Z"
   },
   {
    "duration": 5,
    "start_time": "2022-06-14T09:36:01.016Z"
   },
   {
    "duration": 8,
    "start_time": "2022-06-14T09:36:02.221Z"
   },
   {
    "duration": 36,
    "start_time": "2022-06-14T09:36:03.555Z"
   },
   {
    "duration": 3,
    "start_time": "2022-06-14T09:36:05.480Z"
   },
   {
    "duration": 121,
    "start_time": "2022-06-14T09:36:06.060Z"
   },
   {
    "duration": 7,
    "start_time": "2022-06-14T09:36:06.631Z"
   },
   {
    "duration": 10,
    "start_time": "2022-06-14T09:36:07.559Z"
   },
   {
    "duration": 18,
    "start_time": "2022-06-14T09:36:08.547Z"
   },
   {
    "duration": 19,
    "start_time": "2022-06-14T11:41:34.017Z"
   },
   {
    "duration": 28,
    "start_time": "2022-06-14T11:44:03.613Z"
   },
   {
    "duration": 118,
    "start_time": "2022-06-14T11:48:28.872Z"
   },
   {
    "duration": 7,
    "start_time": "2022-06-14T11:48:29.487Z"
   },
   {
    "duration": 4,
    "start_time": "2022-06-14T11:48:40.710Z"
   },
   {
    "duration": 4,
    "start_time": "2022-06-14T11:49:03.349Z"
   },
   {
    "duration": 115,
    "start_time": "2022-06-14T11:49:19.079Z"
   },
   {
    "duration": 7,
    "start_time": "2022-06-14T11:49:19.752Z"
   },
   {
    "duration": 11,
    "start_time": "2022-06-14T11:49:21.060Z"
   },
   {
    "duration": 30,
    "start_time": "2022-06-14T11:49:21.962Z"
   },
   {
    "duration": 3,
    "start_time": "2022-06-14T11:55:51.821Z"
   },
   {
    "duration": 14,
    "start_time": "2022-06-14T11:57:19.462Z"
   },
   {
    "duration": 8,
    "start_time": "2022-06-14T11:59:40.397Z"
   },
   {
    "duration": 7,
    "start_time": "2022-06-14T11:59:58.505Z"
   },
   {
    "duration": 27,
    "start_time": "2022-06-14T12:02:04.863Z"
   },
   {
    "duration": 5,
    "start_time": "2022-06-14T12:02:17.124Z"
   },
   {
    "duration": 5,
    "start_time": "2022-06-14T12:04:03.896Z"
   },
   {
    "duration": 13,
    "start_time": "2022-06-14T12:09:10.933Z"
   },
   {
    "duration": 13,
    "start_time": "2022-06-14T12:09:15.546Z"
   },
   {
    "duration": 3,
    "start_time": "2022-06-14T12:09:16.189Z"
   },
   {
    "duration": 4,
    "start_time": "2022-06-14T12:09:16.779Z"
   },
   {
    "duration": 6,
    "start_time": "2022-06-14T12:09:17.321Z"
   },
   {
    "duration": 4,
    "start_time": "2022-06-14T12:09:17.841Z"
   },
   {
    "duration": 5,
    "start_time": "2022-06-14T12:09:18.391Z"
   },
   {
    "duration": 5,
    "start_time": "2022-06-14T12:09:18.908Z"
   },
   {
    "duration": 12,
    "start_time": "2022-06-14T12:09:19.489Z"
   },
   {
    "duration": 7,
    "start_time": "2022-06-14T12:11:13.762Z"
   },
   {
    "duration": 556,
    "start_time": "2022-06-14T14:55:47.166Z"
   },
   {
    "duration": 13,
    "start_time": "2022-06-14T14:55:47.992Z"
   },
   {
    "duration": 73,
    "start_time": "2022-06-14T14:55:51.431Z"
   },
   {
    "duration": 14,
    "start_time": "2022-06-14T14:55:52.627Z"
   },
   {
    "duration": 8,
    "start_time": "2022-06-14T14:55:53.442Z"
   },
   {
    "duration": 5,
    "start_time": "2022-06-14T14:55:54.183Z"
   },
   {
    "duration": 23,
    "start_time": "2022-06-14T14:55:55.882Z"
   },
   {
    "duration": 17,
    "start_time": "2022-06-14T14:55:57.859Z"
   },
   {
    "duration": 31,
    "start_time": "2022-06-14T14:55:58.568Z"
   },
   {
    "duration": 5,
    "start_time": "2022-06-14T14:56:02.094Z"
   },
   {
    "duration": 4,
    "start_time": "2022-06-14T14:56:03.204Z"
   },
   {
    "duration": 7,
    "start_time": "2022-06-14T14:56:04.866Z"
   },
   {
    "duration": 38,
    "start_time": "2022-06-14T14:56:06.404Z"
   },
   {
    "duration": 4,
    "start_time": "2022-06-14T14:56:09.647Z"
   },
   {
    "duration": 121,
    "start_time": "2022-06-14T14:56:12.384Z"
   },
   {
    "duration": 7,
    "start_time": "2022-06-14T14:56:14.080Z"
   },
   {
    "duration": 11,
    "start_time": "2022-06-14T14:56:15.848Z"
   },
   {
    "duration": 28,
    "start_time": "2022-06-14T14:56:16.876Z"
   },
   {
    "duration": 12,
    "start_time": "2022-06-14T14:56:17.717Z"
   },
   {
    "duration": 2,
    "start_time": "2022-06-14T14:56:18.620Z"
   },
   {
    "duration": 5,
    "start_time": "2022-06-14T14:56:19.525Z"
   },
   {
    "duration": 4,
    "start_time": "2022-06-14T14:56:20.267Z"
   },
   {
    "duration": 5,
    "start_time": "2022-06-14T14:56:20.974Z"
   },
   {
    "duration": 4,
    "start_time": "2022-06-14T14:56:21.663Z"
   },
   {
    "duration": 5,
    "start_time": "2022-06-14T14:56:22.315Z"
   },
   {
    "duration": 14,
    "start_time": "2022-06-14T14:56:23.077Z"
   },
   {
    "duration": 39,
    "start_time": "2022-06-14T14:56:23.768Z"
   },
   {
    "duration": 55,
    "start_time": "2022-06-14T14:57:11.416Z"
   },
   {
    "duration": 76,
    "start_time": "2022-06-14T14:57:31.411Z"
   },
   {
    "duration": 13,
    "start_time": "2022-06-14T14:57:32.306Z"
   },
   {
    "duration": 8,
    "start_time": "2022-06-14T14:57:33.161Z"
   },
   {
    "duration": 7,
    "start_time": "2022-06-14T14:57:33.781Z"
   },
   {
    "duration": 22,
    "start_time": "2022-06-14T14:57:35.237Z"
   },
   {
    "duration": 16,
    "start_time": "2022-06-14T14:57:36.684Z"
   },
   {
    "duration": 35,
    "start_time": "2022-06-14T14:57:37.303Z"
   },
   {
    "duration": 5,
    "start_time": "2022-06-14T14:57:40.305Z"
   },
   {
    "duration": 4,
    "start_time": "2022-06-14T14:57:40.945Z"
   },
   {
    "duration": 8,
    "start_time": "2022-06-14T14:57:42.301Z"
   },
   {
    "duration": 36,
    "start_time": "2022-06-14T14:57:43.513Z"
   },
   {
    "duration": 4,
    "start_time": "2022-06-14T14:57:46.099Z"
   },
   {
    "duration": 154,
    "start_time": "2022-06-14T14:57:47.652Z"
   },
   {
    "duration": 7,
    "start_time": "2022-06-14T14:57:48.261Z"
   },
   {
    "duration": 10,
    "start_time": "2022-06-14T14:57:49.815Z"
   },
   {
    "duration": 28,
    "start_time": "2022-06-14T14:57:50.450Z"
   },
   {
    "duration": 11,
    "start_time": "2022-06-14T14:57:51.115Z"
   },
   {
    "duration": 2,
    "start_time": "2022-06-14T14:57:51.800Z"
   },
   {
    "duration": 5,
    "start_time": "2022-06-14T14:57:52.484Z"
   },
   {
    "duration": 5,
    "start_time": "2022-06-14T14:57:53.018Z"
   },
   {
    "duration": 6,
    "start_time": "2022-06-14T14:57:53.618Z"
   },
   {
    "duration": 5,
    "start_time": "2022-06-14T14:57:54.178Z"
   },
   {
    "duration": 5,
    "start_time": "2022-06-14T14:57:54.700Z"
   },
   {
    "duration": 13,
    "start_time": "2022-06-14T14:57:55.322Z"
   },
   {
    "duration": 24,
    "start_time": "2022-06-14T14:58:59.427Z"
   },
   {
    "duration": 7,
    "start_time": "2022-06-14T14:59:04.227Z"
   },
   {
    "duration": 7,
    "start_time": "2022-06-14T14:59:06.314Z"
   },
   {
    "duration": 13,
    "start_time": "2022-06-14T14:59:10.926Z"
   },
   {
    "duration": 4,
    "start_time": "2022-06-14T14:59:13.756Z"
   },
   {
    "duration": 4,
    "start_time": "2022-06-14T14:59:14.427Z"
   },
   {
    "duration": 5,
    "start_time": "2022-06-14T14:59:15.006Z"
   },
   {
    "duration": 13,
    "start_time": "2022-06-14T14:59:15.567Z"
   },
   {
    "duration": 60,
    "start_time": "2022-06-14T19:03:08.301Z"
   },
   {
    "duration": 8,
    "start_time": "2022-06-14T19:03:17.560Z"
   },
   {
    "duration": 724,
    "start_time": "2022-06-14T19:03:24.947Z"
   },
   {
    "duration": 16,
    "start_time": "2022-06-14T19:03:26.979Z"
   },
   {
    "duration": 11,
    "start_time": "2022-06-14T19:03:28.215Z"
   },
   {
    "duration": 7,
    "start_time": "2022-06-14T19:03:29.364Z"
   },
   {
    "duration": 49,
    "start_time": "2022-06-14T19:03:31.911Z"
   },
   {
    "duration": 89,
    "start_time": "2022-06-14T19:04:13.197Z"
   },
   {
    "duration": 16,
    "start_time": "2022-06-14T19:04:16.470Z"
   },
   {
    "duration": 10,
    "start_time": "2022-06-14T19:04:17.350Z"
   },
   {
    "duration": 7,
    "start_time": "2022-06-14T19:04:18.170Z"
   },
   {
    "duration": 28,
    "start_time": "2022-06-14T19:04:19.752Z"
   },
   {
    "duration": 27,
    "start_time": "2022-06-14T19:04:21.355Z"
   },
   {
    "duration": 35,
    "start_time": "2022-06-14T19:04:22.253Z"
   },
   {
    "duration": 6,
    "start_time": "2022-06-14T19:04:26.134Z"
   },
   {
    "duration": 4,
    "start_time": "2022-06-14T19:04:26.827Z"
   },
   {
    "duration": 12,
    "start_time": "2022-06-14T19:04:28.096Z"
   },
   {
    "duration": 44,
    "start_time": "2022-06-14T19:04:35.439Z"
   },
   {
    "duration": 4,
    "start_time": "2022-06-14T19:05:15.195Z"
   },
   {
    "duration": 134,
    "start_time": "2022-06-14T19:05:16.287Z"
   },
   {
    "duration": 9,
    "start_time": "2022-06-14T19:05:17.392Z"
   },
   {
    "duration": 19,
    "start_time": "2022-06-14T19:05:19.736Z"
   },
   {
    "duration": 39,
    "start_time": "2022-06-14T19:05:21.639Z"
   },
   {
    "duration": 17,
    "start_time": "2022-06-14T19:05:22.401Z"
   },
   {
    "duration": 3,
    "start_time": "2022-06-14T19:05:23.846Z"
   },
   {
    "duration": 6,
    "start_time": "2022-06-14T19:05:24.707Z"
   },
   {
    "duration": 5,
    "start_time": "2022-06-14T19:05:25.359Z"
   },
   {
    "duration": 7,
    "start_time": "2022-06-14T19:05:25.859Z"
   },
   {
    "duration": 7,
    "start_time": "2022-06-14T19:05:26.423Z"
   },
   {
    "duration": 6,
    "start_time": "2022-06-14T19:05:26.912Z"
   },
   {
    "duration": 16,
    "start_time": "2022-06-14T19:05:27.466Z"
   },
   {
    "duration": 32,
    "start_time": "2022-06-14T19:05:28.956Z"
   },
   {
    "duration": 18,
    "start_time": "2022-06-14T19:16:00.231Z"
   },
   {
    "duration": 2,
    "start_time": "2022-06-14T19:16:16.618Z"
   },
   {
    "duration": 3,
    "start_time": "2022-06-14T19:17:26.819Z"
   },
   {
    "duration": 6,
    "start_time": "2022-06-14T19:17:27.411Z"
   },
   {
    "duration": 6,
    "start_time": "2022-06-14T19:17:27.990Z"
   },
   {
    "duration": 6,
    "start_time": "2022-06-14T19:17:28.545Z"
   },
   {
    "duration": 7,
    "start_time": "2022-06-14T19:17:29.109Z"
   },
   {
    "duration": 6,
    "start_time": "2022-06-14T19:17:29.750Z"
   },
   {
    "duration": 18,
    "start_time": "2022-06-14T19:17:31.488Z"
   },
   {
    "duration": 33,
    "start_time": "2022-06-14T19:18:01.295Z"
   },
   {
    "duration": 85,
    "start_time": "2022-06-14T19:33:16.583Z"
   },
   {
    "duration": 15,
    "start_time": "2022-06-14T19:33:18.179Z"
   },
   {
    "duration": 10,
    "start_time": "2022-06-14T19:33:19.038Z"
   },
   {
    "duration": 6,
    "start_time": "2022-06-14T19:33:19.774Z"
   },
   {
    "duration": 25,
    "start_time": "2022-06-14T19:33:21.124Z"
   },
   {
    "duration": 18,
    "start_time": "2022-06-14T19:33:22.435Z"
   },
   {
    "duration": 29,
    "start_time": "2022-06-14T19:33:23.069Z"
   },
   {
    "duration": 5,
    "start_time": "2022-06-14T19:33:27.194Z"
   },
   {
    "duration": 5,
    "start_time": "2022-06-14T19:33:27.770Z"
   },
   {
    "duration": 9,
    "start_time": "2022-06-14T19:33:29.270Z"
   },
   {
    "duration": 47,
    "start_time": "2022-06-14T19:33:30.937Z"
   },
   {
    "duration": 4,
    "start_time": "2022-06-14T19:33:33.347Z"
   },
   {
    "duration": 132,
    "start_time": "2022-06-14T19:33:35.269Z"
   },
   {
    "duration": 9,
    "start_time": "2022-06-14T19:33:36.048Z"
   },
   {
    "duration": 13,
    "start_time": "2022-06-14T19:33:38.608Z"
   },
   {
    "duration": 32,
    "start_time": "2022-06-14T19:33:39.447Z"
   },
   {
    "duration": 26,
    "start_time": "2022-06-14T19:33:40.371Z"
   },
   {
    "duration": 35,
    "start_time": "2022-06-14T19:34:54.789Z"
   },
   {
    "duration": 284,
    "start_time": "2022-06-14T19:38:56.688Z"
   },
   {
    "duration": 35,
    "start_time": "2022-06-14T19:39:00.987Z"
   },
   {
    "duration": 321,
    "start_time": "2022-06-14T19:39:03.594Z"
   },
   {
    "duration": 96,
    "start_time": "2022-06-14T19:39:14.102Z"
   },
   {
    "duration": 20,
    "start_time": "2022-06-14T19:39:14.651Z"
   },
   {
    "duration": 13,
    "start_time": "2022-06-14T19:39:15.242Z"
   },
   {
    "duration": 6,
    "start_time": "2022-06-14T19:39:15.824Z"
   },
   {
    "duration": 25,
    "start_time": "2022-06-14T19:39:16.948Z"
   },
   {
    "duration": 19,
    "start_time": "2022-06-14T19:39:18.057Z"
   },
   {
    "duration": 31,
    "start_time": "2022-06-14T19:39:18.598Z"
   },
   {
    "duration": 6,
    "start_time": "2022-06-14T19:39:20.911Z"
   },
   {
    "duration": 5,
    "start_time": "2022-06-14T19:39:21.450Z"
   },
   {
    "duration": 9,
    "start_time": "2022-06-14T19:39:22.327Z"
   },
   {
    "duration": 44,
    "start_time": "2022-06-14T19:39:23.143Z"
   },
   {
    "duration": 6,
    "start_time": "2022-06-14T19:39:24.490Z"
   },
   {
    "duration": 132,
    "start_time": "2022-06-14T19:39:24.945Z"
   },
   {
    "duration": 8,
    "start_time": "2022-06-14T19:39:25.543Z"
   },
   {
    "duration": 14,
    "start_time": "2022-06-14T19:39:26.814Z"
   },
   {
    "duration": 51,
    "start_time": "2022-06-14T19:39:27.289Z"
   },
   {
    "duration": 8,
    "start_time": "2022-06-14T19:39:28.268Z"
   },
   {
    "duration": 4,
    "start_time": "2022-06-14T20:08:37.894Z"
   },
   {
    "duration": 136,
    "start_time": "2022-06-14T20:08:38.549Z"
   },
   {
    "duration": 6,
    "start_time": "2022-06-14T20:08:43.167Z"
   },
   {
    "duration": 4,
    "start_time": "2022-06-14T20:08:43.684Z"
   },
   {
    "duration": 8,
    "start_time": "2022-06-14T20:08:45.197Z"
   },
   {
    "duration": 11,
    "start_time": "2022-06-14T20:10:14.314Z"
   },
   {
    "duration": 79,
    "start_time": "2022-06-14T20:10:18.832Z"
   },
   {
    "duration": 18,
    "start_time": "2022-06-14T20:10:19.502Z"
   },
   {
    "duration": 11,
    "start_time": "2022-06-14T20:10:20.106Z"
   },
   {
    "duration": 11,
    "start_time": "2022-06-14T20:10:21.087Z"
   },
   {
    "duration": 13,
    "start_time": "2022-06-14T20:10:53.079Z"
   },
   {
    "duration": 10,
    "start_time": "2022-06-14T20:10:54.127Z"
   },
   {
    "duration": 6,
    "start_time": "2022-06-14T20:10:54.852Z"
   },
   {
    "duration": 25,
    "start_time": "2022-06-14T20:10:56.367Z"
   },
   {
    "duration": 16,
    "start_time": "2022-06-14T20:11:15.336Z"
   },
   {
    "duration": 30,
    "start_time": "2022-06-14T20:11:16.035Z"
   },
   {
    "duration": 6,
    "start_time": "2022-06-14T20:11:19.402Z"
   },
   {
    "duration": 5,
    "start_time": "2022-06-14T20:11:20.294Z"
   },
   {
    "duration": 9,
    "start_time": "2022-06-14T20:11:22.218Z"
   },
   {
    "duration": 42,
    "start_time": "2022-06-14T20:11:24.297Z"
   },
   {
    "duration": 4,
    "start_time": "2022-06-14T20:11:26.924Z"
   },
   {
    "duration": 128,
    "start_time": "2022-06-14T20:11:27.729Z"
   },
   {
    "duration": 9,
    "start_time": "2022-06-14T20:11:28.664Z"
   },
   {
    "duration": 13,
    "start_time": "2022-06-14T20:11:30.662Z"
   },
   {
    "duration": 34,
    "start_time": "2022-06-14T20:11:32.608Z"
   },
   {
    "duration": 8,
    "start_time": "2022-06-14T20:11:33.305Z"
   },
   {
    "duration": 234,
    "start_time": "2022-06-14T20:11:34.403Z"
   },
   {
    "duration": 244,
    "start_time": "2022-06-14T20:12:20.366Z"
   },
   {
    "duration": 10,
    "start_time": "2022-06-14T20:12:35.260Z"
   },
   {
    "duration": 11,
    "start_time": "2022-06-14T20:12:48.764Z"
   },
   {
    "duration": 15,
    "start_time": "2022-06-14T20:12:58.858Z"
   },
   {
    "duration": 95,
    "start_time": "2022-06-14T20:13:04.981Z"
   },
   {
    "duration": 15,
    "start_time": "2022-06-14T20:13:06.381Z"
   },
   {
    "duration": 15,
    "start_time": "2022-06-14T20:13:07.120Z"
   },
   {
    "duration": 7,
    "start_time": "2022-06-14T20:13:07.812Z"
   },
   {
    "duration": 25,
    "start_time": "2022-06-14T20:13:09.096Z"
   },
   {
    "duration": 18,
    "start_time": "2022-06-14T20:13:10.281Z"
   },
   {
    "duration": 30,
    "start_time": "2022-06-14T20:13:10.823Z"
   },
   {
    "duration": 4,
    "start_time": "2022-06-14T20:13:12.978Z"
   },
   {
    "duration": 5,
    "start_time": "2022-06-14T20:13:13.634Z"
   },
   {
    "duration": 8,
    "start_time": "2022-06-14T20:13:14.719Z"
   },
   {
    "duration": 42,
    "start_time": "2022-06-14T20:13:15.981Z"
   },
   {
    "duration": 4,
    "start_time": "2022-06-14T20:13:17.674Z"
   },
   {
    "duration": 134,
    "start_time": "2022-06-14T20:13:18.257Z"
   },
   {
    "duration": 9,
    "start_time": "2022-06-14T20:13:18.733Z"
   },
   {
    "duration": 13,
    "start_time": "2022-06-14T20:13:19.855Z"
   },
   {
    "duration": 42,
    "start_time": "2022-06-14T20:13:22.324Z"
   },
   {
    "duration": 8,
    "start_time": "2022-06-14T20:13:23.271Z"
   },
   {
    "duration": 226,
    "start_time": "2022-06-14T20:13:24.121Z"
   },
   {
    "duration": 21,
    "start_time": "2022-06-14T20:13:47.237Z"
   },
   {
    "duration": 283,
    "start_time": "2022-06-14T20:13:53.948Z"
   },
   {
    "duration": 68,
    "start_time": "2022-06-14T20:14:07.830Z"
   },
   {
    "duration": 7,
    "start_time": "2022-06-14T20:14:11.875Z"
   },
   {
    "duration": 513,
    "start_time": "2022-06-14T20:14:33.127Z"
   },
   {
    "duration": 16,
    "start_time": "2022-06-14T20:14:34.912Z"
   },
   {
    "duration": 12,
    "start_time": "2022-06-14T20:14:35.729Z"
   },
   {
    "duration": 8,
    "start_time": "2022-06-14T20:14:36.386Z"
   },
   {
    "duration": 30,
    "start_time": "2022-06-14T20:14:37.981Z"
   },
   {
    "duration": 18,
    "start_time": "2022-06-14T20:14:39.295Z"
   },
   {
    "duration": 34,
    "start_time": "2022-06-14T20:14:39.954Z"
   },
   {
    "duration": 6,
    "start_time": "2022-06-14T20:14:42.378Z"
   },
   {
    "duration": 5,
    "start_time": "2022-06-14T20:14:43.005Z"
   },
   {
    "duration": 12,
    "start_time": "2022-06-14T20:14:44.186Z"
   },
   {
    "duration": 45,
    "start_time": "2022-06-14T20:14:45.676Z"
   },
   {
    "duration": 4,
    "start_time": "2022-06-14T20:14:47.848Z"
   },
   {
    "duration": 134,
    "start_time": "2022-06-14T20:14:48.446Z"
   },
   {
    "duration": 9,
    "start_time": "2022-06-14T20:14:49.239Z"
   },
   {
    "duration": 13,
    "start_time": "2022-06-14T20:14:50.650Z"
   },
   {
    "duration": 31,
    "start_time": "2022-06-14T20:14:51.776Z"
   },
   {
    "duration": 10,
    "start_time": "2022-06-14T20:14:55.797Z"
   },
   {
    "duration": 45,
    "start_time": "2022-06-14T20:14:57.145Z"
   },
   {
    "duration": 271,
    "start_time": "2022-06-14T20:15:52.521Z"
   },
   {
    "duration": 15,
    "start_time": "2022-06-14T20:16:00.464Z"
   },
   {
    "duration": 11,
    "start_time": "2022-06-14T20:16:03.023Z"
   },
   {
    "duration": 218,
    "start_time": "2022-06-14T20:16:04.202Z"
   },
   {
    "duration": 15,
    "start_time": "2022-06-14T20:16:10.226Z"
   },
   {
    "duration": 484,
    "start_time": "2022-06-14T20:16:23.162Z"
   },
   {
    "duration": 17,
    "start_time": "2022-06-14T20:16:23.870Z"
   },
   {
    "duration": 13,
    "start_time": "2022-06-14T20:16:24.696Z"
   },
   {
    "duration": 6,
    "start_time": "2022-06-14T20:16:25.487Z"
   },
   {
    "duration": 26,
    "start_time": "2022-06-14T20:16:26.998Z"
   },
   {
    "duration": 18,
    "start_time": "2022-06-14T20:16:28.314Z"
   },
   {
    "duration": 35,
    "start_time": "2022-06-14T20:16:28.951Z"
   },
   {
    "duration": 7,
    "start_time": "2022-06-14T20:16:31.435Z"
   },
   {
    "duration": 6,
    "start_time": "2022-06-14T20:16:32.096Z"
   },
   {
    "duration": 9,
    "start_time": "2022-06-14T20:16:33.452Z"
   },
   {
    "duration": 43,
    "start_time": "2022-06-14T20:16:34.896Z"
   },
   {
    "duration": 4,
    "start_time": "2022-06-14T20:16:37.024Z"
   },
   {
    "duration": 130,
    "start_time": "2022-06-14T20:16:38.051Z"
   },
   {
    "duration": 7,
    "start_time": "2022-06-14T20:16:38.897Z"
   },
   {
    "duration": 12,
    "start_time": "2022-06-14T20:16:40.518Z"
   },
   {
    "duration": 31,
    "start_time": "2022-06-14T20:16:42.199Z"
   },
   {
    "duration": 10,
    "start_time": "2022-06-14T20:16:43.411Z"
   },
   {
    "duration": 76,
    "start_time": "2022-06-14T20:16:44.793Z"
   },
   {
    "duration": 13,
    "start_time": "2022-06-14T20:17:20.408Z"
   },
   {
    "duration": 225,
    "start_time": "2022-06-14T20:17:29.603Z"
   },
   {
    "duration": 81,
    "start_time": "2022-06-14T20:17:36.997Z"
   },
   {
    "duration": 14,
    "start_time": "2022-06-14T20:17:38.465Z"
   },
   {
    "duration": 11,
    "start_time": "2022-06-14T20:17:39.231Z"
   },
   {
    "duration": 5,
    "start_time": "2022-06-14T20:17:40.429Z"
   },
   {
    "duration": 28,
    "start_time": "2022-06-14T20:17:41.696Z"
   },
   {
    "duration": 17,
    "start_time": "2022-06-14T20:17:42.859Z"
   },
   {
    "duration": 33,
    "start_time": "2022-06-14T20:17:43.405Z"
   },
   {
    "duration": 6,
    "start_time": "2022-06-14T20:17:45.727Z"
   },
   {
    "duration": 5,
    "start_time": "2022-06-14T20:17:46.651Z"
   },
   {
    "duration": 12,
    "start_time": "2022-06-14T20:17:47.502Z"
   },
   {
    "duration": 44,
    "start_time": "2022-06-14T20:17:48.623Z"
   },
   {
    "duration": 4,
    "start_time": "2022-06-14T20:17:50.494Z"
   },
   {
    "duration": 140,
    "start_time": "2022-06-14T20:17:51.097Z"
   },
   {
    "duration": 8,
    "start_time": "2022-06-14T20:17:51.746Z"
   },
   {
    "duration": 14,
    "start_time": "2022-06-14T20:17:53.026Z"
   },
   {
    "duration": 32,
    "start_time": "2022-06-14T20:17:53.824Z"
   },
   {
    "duration": 15,
    "start_time": "2022-06-14T20:17:56.476Z"
   },
   {
    "duration": 328,
    "start_time": "2022-06-14T20:19:59.746Z"
   },
   {
    "duration": 12,
    "start_time": "2022-06-14T20:20:40.751Z"
   },
   {
    "duration": 349,
    "start_time": "2022-06-14T20:21:33.131Z"
   },
   {
    "duration": 373,
    "start_time": "2022-06-14T20:21:39.646Z"
   },
   {
    "duration": 288,
    "start_time": "2022-06-14T20:22:13.533Z"
   },
   {
    "duration": 328,
    "start_time": "2022-06-14T20:22:32.324Z"
   },
   {
    "duration": 34,
    "start_time": "2022-06-14T20:22:38.958Z"
   },
   {
    "duration": 313,
    "start_time": "2022-06-14T20:22:41.226Z"
   },
   {
    "duration": 103,
    "start_time": "2022-06-14T20:22:52.801Z"
   },
   {
    "duration": 15,
    "start_time": "2022-06-14T20:22:53.572Z"
   },
   {
    "duration": 10,
    "start_time": "2022-06-14T20:22:54.162Z"
   },
   {
    "duration": 7,
    "start_time": "2022-06-14T20:22:54.707Z"
   },
   {
    "duration": 39,
    "start_time": "2022-06-14T20:22:55.639Z"
   },
   {
    "duration": 28,
    "start_time": "2022-06-14T20:22:56.464Z"
   },
   {
    "duration": 34,
    "start_time": "2022-06-14T20:22:56.841Z"
   },
   {
    "duration": 6,
    "start_time": "2022-06-14T20:22:58.236Z"
   },
   {
    "duration": 5,
    "start_time": "2022-06-14T20:22:58.736Z"
   },
   {
    "duration": 11,
    "start_time": "2022-06-14T20:22:59.206Z"
   },
   {
    "duration": 67,
    "start_time": "2022-06-14T20:22:59.831Z"
   },
   {
    "duration": 5,
    "start_time": "2022-06-14T20:23:00.762Z"
   },
   {
    "duration": 152,
    "start_time": "2022-06-14T20:23:01.104Z"
   },
   {
    "duration": 9,
    "start_time": "2022-06-14T20:23:01.395Z"
   },
   {
    "duration": 20,
    "start_time": "2022-06-14T20:23:02.090Z"
   },
   {
    "duration": 44,
    "start_time": "2022-06-14T20:23:02.445Z"
   },
   {
    "duration": 409,
    "start_time": "2022-06-14T20:23:04.051Z"
   },
   {
    "duration": 32,
    "start_time": "2022-06-14T20:23:21.579Z"
   },
   {
    "duration": 16,
    "start_time": "2022-06-14T20:23:26.459Z"
   },
   {
    "duration": 9,
    "start_time": "2022-06-14T20:23:36.864Z"
   },
   {
    "duration": 18,
    "start_time": "2022-06-14T20:23:37.621Z"
   },
   {
    "duration": 7,
    "start_time": "2022-06-14T20:23:50.055Z"
   },
   {
    "duration": 11,
    "start_time": "2022-06-14T20:24:24.051Z"
   },
   {
    "duration": 348,
    "start_time": "2022-06-14T20:24:44.515Z"
   },
   {
    "duration": 17,
    "start_time": "2022-06-14T20:24:51.975Z"
   },
   {
    "duration": 18,
    "start_time": "2022-06-14T20:25:11.381Z"
   },
   {
    "duration": 23,
    "start_time": "2022-06-14T20:25:12.603Z"
   },
   {
    "duration": 43,
    "start_time": "2022-06-14T20:25:47.918Z"
   },
   {
    "duration": 27,
    "start_time": "2022-06-14T20:26:41.243Z"
   },
   {
    "duration": 35,
    "start_time": "2022-06-14T20:26:57.897Z"
   },
   {
    "duration": 21,
    "start_time": "2022-06-14T20:26:58.482Z"
   },
   {
    "duration": 28,
    "start_time": "2022-06-14T20:26:59.518Z"
   },
   {
    "duration": 50,
    "start_time": "2022-06-14T20:27:19.093Z"
   },
   {
    "duration": 26,
    "start_time": "2022-06-14T20:27:20.219Z"
   },
   {
    "duration": 481,
    "start_time": "2022-06-14T21:12:09.034Z"
   },
   {
    "duration": 15,
    "start_time": "2022-06-14T21:12:12.514Z"
   },
   {
    "duration": 11,
    "start_time": "2022-06-14T21:12:13.487Z"
   },
   {
    "duration": 6,
    "start_time": "2022-06-14T21:12:14.028Z"
   },
   {
    "duration": 26,
    "start_time": "2022-06-14T21:12:15.684Z"
   },
   {
    "duration": 17,
    "start_time": "2022-06-14T21:12:16.717Z"
   },
   {
    "duration": 29,
    "start_time": "2022-06-14T21:12:17.235Z"
   },
   {
    "duration": 6,
    "start_time": "2022-06-14T21:12:19.473Z"
   },
   {
    "duration": 5,
    "start_time": "2022-06-14T21:12:20.043Z"
   },
   {
    "duration": 8,
    "start_time": "2022-06-14T21:12:21.714Z"
   },
   {
    "duration": 46,
    "start_time": "2022-06-14T21:12:22.212Z"
   },
   {
    "duration": 4,
    "start_time": "2022-06-14T21:12:24.081Z"
   },
   {
    "duration": 128,
    "start_time": "2022-06-14T21:12:24.685Z"
   },
   {
    "duration": 8,
    "start_time": "2022-06-14T21:12:29.119Z"
   },
   {
    "duration": 13,
    "start_time": "2022-06-14T21:12:30.336Z"
   },
   {
    "duration": 36,
    "start_time": "2022-06-14T21:12:30.970Z"
   },
   {
    "duration": 17,
    "start_time": "2022-06-14T21:12:33.664Z"
   },
   {
    "duration": 6,
    "start_time": "2022-06-14T21:12:37.014Z"
   },
   {
    "duration": 37,
    "start_time": "2022-06-14T21:12:38.355Z"
   },
   {
    "duration": 15,
    "start_time": "2022-06-14T21:12:41.297Z"
   },
   {
    "duration": 9,
    "start_time": "2022-06-14T21:14:01.641Z"
   },
   {
    "duration": 6,
    "start_time": "2022-06-14T21:14:45.126Z"
   },
   {
    "duration": 65,
    "start_time": "2022-06-14T21:15:10.284Z"
   },
   {
    "duration": 7,
    "start_time": "2022-06-14T21:15:18.987Z"
   },
   {
    "duration": 22,
    "start_time": "2022-06-14T21:15:30.982Z"
   },
   {
    "duration": 9,
    "start_time": "2022-06-14T21:15:32.696Z"
   },
   {
    "duration": 30,
    "start_time": "2022-06-14T21:16:00.121Z"
   },
   {
    "duration": 8,
    "start_time": "2022-06-14T21:16:31.687Z"
   },
   {
    "duration": 32,
    "start_time": "2022-06-14T21:16:36.620Z"
   },
   {
    "duration": 9,
    "start_time": "2022-06-14T21:23:18.567Z"
   },
   {
    "duration": 11,
    "start_time": "2022-06-14T21:23:31.377Z"
   },
   {
    "duration": 35,
    "start_time": "2022-06-14T21:24:09.710Z"
   },
   {
    "duration": 47,
    "start_time": "2022-06-14T21:24:44.541Z"
   },
   {
    "duration": 30,
    "start_time": "2022-06-14T21:24:46.245Z"
   },
   {
    "duration": 80,
    "start_time": "2022-06-14T21:25:04.719Z"
   },
   {
    "duration": 15,
    "start_time": "2022-06-14T21:25:05.481Z"
   },
   {
    "duration": 10,
    "start_time": "2022-06-14T21:25:06.219Z"
   },
   {
    "duration": 81,
    "start_time": "2022-06-14T21:25:09.249Z"
   },
   {
    "duration": 15,
    "start_time": "2022-06-14T21:25:10.149Z"
   },
   {
    "duration": 11,
    "start_time": "2022-06-14T21:25:10.926Z"
   },
   {
    "duration": 6,
    "start_time": "2022-06-14T21:25:11.834Z"
   },
   {
    "duration": 25,
    "start_time": "2022-06-14T21:25:13.083Z"
   },
   {
    "duration": 21,
    "start_time": "2022-06-14T21:25:14.429Z"
   },
   {
    "duration": 30,
    "start_time": "2022-06-14T21:25:14.847Z"
   },
   {
    "duration": 5,
    "start_time": "2022-06-14T21:25:16.828Z"
   },
   {
    "duration": 4,
    "start_time": "2022-06-14T21:25:17.225Z"
   },
   {
    "duration": 9,
    "start_time": "2022-06-14T21:25:17.952Z"
   },
   {
    "duration": 40,
    "start_time": "2022-06-14T21:25:18.943Z"
   },
   {
    "duration": 4,
    "start_time": "2022-06-14T21:25:20.547Z"
   },
   {
    "duration": 127,
    "start_time": "2022-06-14T21:25:21.025Z"
   },
   {
    "duration": 8,
    "start_time": "2022-06-14T21:25:21.582Z"
   },
   {
    "duration": 14,
    "start_time": "2022-06-14T21:25:22.542Z"
   },
   {
    "duration": 33,
    "start_time": "2022-06-14T21:25:23.026Z"
   },
   {
    "duration": 9,
    "start_time": "2022-06-14T21:25:23.545Z"
   },
   {
    "duration": 28,
    "start_time": "2022-06-14T21:25:24.286Z"
   },
   {
    "duration": 14,
    "start_time": "2022-06-14T21:25:58.236Z"
   },
   {
    "duration": 5,
    "start_time": "2022-06-14T21:26:53.047Z"
   },
   {
    "duration": 9,
    "start_time": "2022-06-14T21:28:37.383Z"
   },
   {
    "duration": 530,
    "start_time": "2022-06-15T07:11:39.891Z"
   },
   {
    "duration": 15,
    "start_time": "2022-06-15T07:11:41.478Z"
   },
   {
    "duration": 10,
    "start_time": "2022-06-15T07:11:42.462Z"
   },
   {
    "duration": 7,
    "start_time": "2022-06-15T07:11:43.078Z"
   },
   {
    "duration": 34,
    "start_time": "2022-06-15T07:11:44.591Z"
   },
   {
    "duration": 16,
    "start_time": "2022-06-15T07:11:47.663Z"
   },
   {
    "duration": 32,
    "start_time": "2022-06-15T07:11:48.423Z"
   },
   {
    "duration": 5,
    "start_time": "2022-06-15T07:11:51.045Z"
   },
   {
    "duration": 4,
    "start_time": "2022-06-15T07:11:51.836Z"
   },
   {
    "duration": 8,
    "start_time": "2022-06-15T07:11:53.532Z"
   },
   {
    "duration": 52,
    "start_time": "2022-06-15T07:11:55.252Z"
   },
   {
    "duration": 4,
    "start_time": "2022-06-15T07:11:58.653Z"
   },
   {
    "duration": 128,
    "start_time": "2022-06-15T07:11:59.390Z"
   },
   {
    "duration": 9,
    "start_time": "2022-06-15T07:12:00.003Z"
   },
   {
    "duration": 12,
    "start_time": "2022-06-15T07:12:01.883Z"
   },
   {
    "duration": 31,
    "start_time": "2022-06-15T07:12:02.848Z"
   },
   {
    "duration": 11,
    "start_time": "2022-06-15T07:12:03.894Z"
   },
   {
    "duration": 5,
    "start_time": "2022-06-15T07:12:04.850Z"
   },
   {
    "duration": 6,
    "start_time": "2022-06-15T07:12:30.652Z"
   },
   {
    "duration": 28,
    "start_time": "2022-06-15T07:12:31.158Z"
   },
   {
    "duration": 12,
    "start_time": "2022-06-15T07:12:39.833Z"
   },
   {
    "duration": 3,
    "start_time": "2022-06-15T07:12:40.645Z"
   },
   {
    "duration": 6,
    "start_time": "2022-06-15T07:12:41.744Z"
   },
   {
    "duration": 5,
    "start_time": "2022-06-15T07:12:42.273Z"
   },
   {
    "duration": 6,
    "start_time": "2022-06-15T07:12:42.924Z"
   },
   {
    "duration": 5,
    "start_time": "2022-06-15T07:12:43.734Z"
   },
   {
    "duration": 6,
    "start_time": "2022-06-15T07:12:44.273Z"
   },
   {
    "duration": 13,
    "start_time": "2022-06-15T07:12:44.662Z"
   },
   {
    "duration": 4,
    "start_time": "2022-06-15T07:27:57.260Z"
   },
   {
    "duration": 60,
    "start_time": "2022-06-15T07:29:24.853Z"
   },
   {
    "duration": 15,
    "start_time": "2022-06-15T07:29:32.148Z"
   },
   {
    "duration": 4,
    "start_time": "2022-06-15T07:29:38.403Z"
   },
   {
    "duration": 14,
    "start_time": "2022-06-15T07:29:38.963Z"
   },
   {
    "duration": 24,
    "start_time": "2022-06-15T08:45:55.231Z"
   },
   {
    "duration": 27,
    "start_time": "2022-06-15T08:46:02.483Z"
   },
   {
    "duration": 19,
    "start_time": "2022-06-15T08:46:56.548Z"
   },
   {
    "duration": 86,
    "start_time": "2022-06-15T08:47:12.693Z"
   },
   {
    "duration": 13,
    "start_time": "2022-06-15T08:47:13.892Z"
   },
   {
    "duration": 9,
    "start_time": "2022-06-15T08:47:14.788Z"
   },
   {
    "duration": 6,
    "start_time": "2022-06-15T08:47:15.678Z"
   },
   {
    "duration": 23,
    "start_time": "2022-06-15T08:47:17.346Z"
   },
   {
    "duration": 15,
    "start_time": "2022-06-15T08:47:18.544Z"
   },
   {
    "duration": 33,
    "start_time": "2022-06-15T08:57:12.045Z"
   },
   {
    "duration": 15,
    "start_time": "2022-06-15T08:57:30.596Z"
   },
   {
    "duration": 22,
    "start_time": "2022-06-15T08:58:53.763Z"
   },
   {
    "duration": 14,
    "start_time": "2022-06-15T08:59:20.191Z"
   },
   {
    "duration": 13,
    "start_time": "2022-06-15T08:59:22.583Z"
   },
   {
    "duration": 19,
    "start_time": "2022-06-15T09:00:43.447Z"
   },
   {
    "duration": 17,
    "start_time": "2022-06-15T09:01:05.970Z"
   },
   {
    "duration": 87,
    "start_time": "2022-06-15T09:18:57.897Z"
   },
   {
    "duration": 12,
    "start_time": "2022-06-15T09:18:59.015Z"
   },
   {
    "duration": 9,
    "start_time": "2022-06-15T09:18:59.855Z"
   },
   {
    "duration": 5,
    "start_time": "2022-06-15T09:19:00.404Z"
   },
   {
    "duration": 23,
    "start_time": "2022-06-15T09:19:01.945Z"
   },
   {
    "duration": 15,
    "start_time": "2022-06-15T09:19:03.160Z"
   },
   {
    "duration": 30,
    "start_time": "2022-06-15T09:19:03.722Z"
   },
   {
    "duration": 4,
    "start_time": "2022-06-15T09:19:06.129Z"
   },
   {
    "duration": 3,
    "start_time": "2022-06-15T09:19:06.858Z"
   },
   {
    "duration": 8,
    "start_time": "2022-06-15T09:19:07.951Z"
   },
   {
    "duration": 40,
    "start_time": "2022-06-15T09:19:09.054Z"
   },
   {
    "duration": 3,
    "start_time": "2022-06-15T09:19:11.059Z"
   },
   {
    "duration": 118,
    "start_time": "2022-06-15T09:19:11.564Z"
   },
   {
    "duration": 7,
    "start_time": "2022-06-15T09:19:12.093Z"
   },
   {
    "duration": 11,
    "start_time": "2022-06-15T09:19:14.195Z"
   },
   {
    "duration": 27,
    "start_time": "2022-06-15T09:19:14.712Z"
   },
   {
    "duration": 9,
    "start_time": "2022-06-15T09:19:15.300Z"
   },
   {
    "duration": 6,
    "start_time": "2022-06-15T09:19:16.289Z"
   },
   {
    "duration": 5,
    "start_time": "2022-06-15T09:19:17.371Z"
   },
   {
    "duration": 5,
    "start_time": "2022-06-15T09:19:22.102Z"
   },
   {
    "duration": 27,
    "start_time": "2022-06-15T09:19:27.502Z"
   },
   {
    "duration": 4,
    "start_time": "2022-06-15T09:20:09.080Z"
   },
   {
    "duration": 5,
    "start_time": "2022-06-15T09:20:21.348Z"
   },
   {
    "duration": 5,
    "start_time": "2022-06-15T09:20:22.224Z"
   },
   {
    "duration": 14,
    "start_time": "2022-06-15T09:21:24.112Z"
   },
   {
    "duration": 6,
    "start_time": "2022-06-15T09:22:18.782Z"
   },
   {
    "duration": 120,
    "start_time": "2022-06-15T16:27:02.993Z"
   },
   {
    "duration": 16,
    "start_time": "2022-06-15T16:27:04.783Z"
   },
   {
    "duration": 10,
    "start_time": "2022-06-15T16:27:04.990Z"
   },
   {
    "duration": 6,
    "start_time": "2022-06-15T16:27:05.943Z"
   },
   {
    "duration": 26,
    "start_time": "2022-06-15T16:27:06.880Z"
   },
   {
    "duration": 17,
    "start_time": "2022-06-15T16:27:07.397Z"
   },
   {
    "duration": 31,
    "start_time": "2022-06-15T16:27:07.592Z"
   },
   {
    "duration": 4,
    "start_time": "2022-06-15T16:27:08.657Z"
   },
   {
    "duration": 4,
    "start_time": "2022-06-15T16:27:08.976Z"
   },
   {
    "duration": 9,
    "start_time": "2022-06-15T16:27:09.493Z"
   },
   {
    "duration": 44,
    "start_time": "2022-06-15T16:27:10.027Z"
   },
   {
    "duration": 3,
    "start_time": "2022-06-15T16:27:10.720Z"
   },
   {
    "duration": 124,
    "start_time": "2022-06-15T16:27:11.066Z"
   },
   {
    "duration": 8,
    "start_time": "2022-06-15T16:27:11.234Z"
   },
   {
    "duration": 13,
    "start_time": "2022-06-15T16:27:11.755Z"
   },
   {
    "duration": 31,
    "start_time": "2022-06-15T16:27:12.119Z"
   },
   {
    "duration": 11,
    "start_time": "2022-06-15T16:27:12.265Z"
   },
   {
    "duration": 5,
    "start_time": "2022-06-15T16:27:13.165Z"
   },
   {
    "duration": 5,
    "start_time": "2022-06-15T16:27:13.930Z"
   },
   {
    "duration": 14,
    "start_time": "2022-06-15T16:27:14.292Z"
   },
   {
    "duration": 32,
    "start_time": "2022-06-15T16:27:14.907Z"
   },
   {
    "duration": 4,
    "start_time": "2022-06-15T16:27:16.323Z"
   },
   {
    "duration": 14,
    "start_time": "2022-06-15T16:27:16.911Z"
   },
   {
    "duration": 20,
    "start_time": "2022-06-15T16:27:18.407Z"
   },
   {
    "duration": 21,
    "start_time": "2022-06-15T16:27:18.932Z"
   },
   {
    "duration": 14,
    "start_time": "2022-06-15T16:27:19.985Z"
   },
   {
    "duration": 3,
    "start_time": "2022-06-15T16:27:20.505Z"
   },
   {
    "duration": 5,
    "start_time": "2022-06-15T16:27:21.089Z"
   },
   {
    "duration": 6,
    "start_time": "2022-06-15T16:27:21.603Z"
   },
   {
    "duration": 6,
    "start_time": "2022-06-15T16:27:22.082Z"
   },
   {
    "duration": 5,
    "start_time": "2022-06-15T16:27:22.181Z"
   },
   {
    "duration": 6,
    "start_time": "2022-06-15T16:27:22.618Z"
   },
   {
    "duration": 16,
    "start_time": "2022-06-15T16:27:23.130Z"
   },
   {
    "duration": 13,
    "start_time": "2022-06-15T17:03:29.659Z"
   },
   {
    "duration": 10,
    "start_time": "2022-06-15T17:11:02.027Z"
   },
   {
    "duration": 33,
    "start_time": "2022-06-15T17:15:22.848Z"
   },
   {
    "duration": 196,
    "start_time": "2022-06-15T17:20:10.008Z"
   },
   {
    "duration": 17,
    "start_time": "2022-06-15T17:20:40.820Z"
   },
   {
    "duration": 17,
    "start_time": "2022-06-15T17:20:59.951Z"
   },
   {
    "duration": 17,
    "start_time": "2022-06-15T17:21:11.800Z"
   },
   {
    "duration": 4,
    "start_time": "2022-06-15T17:33:21.099Z"
   },
   {
    "duration": 8,
    "start_time": "2022-06-15T17:33:33.157Z"
   },
   {
    "duration": 13,
    "start_time": "2022-06-15T17:37:41.069Z"
   },
   {
    "duration": 15,
    "start_time": "2022-06-15T17:37:54.280Z"
   },
   {
    "duration": 6,
    "start_time": "2022-06-15T17:39:37.453Z"
   },
   {
    "duration": 10,
    "start_time": "2022-06-15T17:40:58.915Z"
   },
   {
    "duration": 14,
    "start_time": "2022-06-15T17:41:12.605Z"
   },
   {
    "duration": 5,
    "start_time": "2022-06-15T17:44:48.714Z"
   },
   {
    "duration": 5,
    "start_time": "2022-06-15T17:45:05.684Z"
   },
   {
    "duration": 12,
    "start_time": "2022-06-15T17:45:39.763Z"
   },
   {
    "duration": 15,
    "start_time": "2022-06-15T17:45:51.162Z"
   },
   {
    "duration": 9,
    "start_time": "2022-06-15T17:45:54.602Z"
   },
   {
    "duration": 10,
    "start_time": "2022-06-15T17:45:55.682Z"
   },
   {
    "duration": 9,
    "start_time": "2022-06-15T17:45:59.802Z"
   },
   {
    "duration": 9,
    "start_time": "2022-06-15T17:46:09.722Z"
   },
   {
    "duration": 12,
    "start_time": "2022-06-15T17:46:10.603Z"
   },
   {
    "duration": 3,
    "start_time": "2022-06-15T17:46:20.498Z"
   },
   {
    "duration": 447,
    "start_time": "2022-06-15T17:46:21.122Z"
   },
   {
    "duration": 100,
    "start_time": "2022-06-15T17:46:26.685Z"
   },
   {
    "duration": 13,
    "start_time": "2022-06-15T17:46:28.284Z"
   },
   {
    "duration": 11,
    "start_time": "2022-06-15T17:46:29.203Z"
   },
   {
    "duration": 7,
    "start_time": "2022-06-15T17:46:29.848Z"
   },
   {
    "duration": 24,
    "start_time": "2022-06-15T17:46:31.082Z"
   },
   {
    "duration": 17,
    "start_time": "2022-06-15T17:46:32.972Z"
   },
   {
    "duration": 32,
    "start_time": "2022-06-15T17:46:35.403Z"
   },
   {
    "duration": 5,
    "start_time": "2022-06-15T17:46:37.564Z"
   },
   {
    "duration": 4,
    "start_time": "2022-06-15T17:46:38.003Z"
   },
   {
    "duration": 8,
    "start_time": "2022-06-15T17:46:38.803Z"
   },
   {
    "duration": 48,
    "start_time": "2022-06-15T17:46:39.524Z"
   },
   {
    "duration": 5,
    "start_time": "2022-06-15T17:46:40.763Z"
   },
   {
    "duration": 121,
    "start_time": "2022-06-15T17:46:41.164Z"
   },
   {
    "duration": 7,
    "start_time": "2022-06-15T17:46:41.707Z"
   },
   {
    "duration": 14,
    "start_time": "2022-06-15T17:46:43.939Z"
   },
   {
    "duration": 29,
    "start_time": "2022-06-15T17:46:44.572Z"
   },
   {
    "duration": 10,
    "start_time": "2022-06-15T17:46:45.122Z"
   },
   {
    "duration": 8,
    "start_time": "2022-06-15T17:46:46.924Z"
   },
   {
    "duration": 4,
    "start_time": "2022-06-15T17:46:47.683Z"
   },
   {
    "duration": 14,
    "start_time": "2022-06-15T17:46:48.248Z"
   },
   {
    "duration": 29,
    "start_time": "2022-06-15T17:46:48.642Z"
   },
   {
    "duration": 5,
    "start_time": "2022-06-15T17:46:49.735Z"
   },
   {
    "duration": 24,
    "start_time": "2022-06-15T17:46:50.286Z"
   },
   {
    "duration": 19,
    "start_time": "2022-06-15T17:46:51.724Z"
   },
   {
    "duration": 28,
    "start_time": "2022-06-15T17:46:52.363Z"
   },
   {
    "duration": 20,
    "start_time": "2022-06-15T17:46:53.648Z"
   },
   {
    "duration": 3,
    "start_time": "2022-06-15T17:46:54.322Z"
   },
   {
    "duration": 7,
    "start_time": "2022-06-15T17:46:55.203Z"
   },
   {
    "duration": 8,
    "start_time": "2022-06-15T17:46:56.847Z"
   },
   {
    "duration": 5,
    "start_time": "2022-06-15T17:46:57.123Z"
   },
   {
    "duration": 7,
    "start_time": "2022-06-15T17:46:57.323Z"
   },
   {
    "duration": 5,
    "start_time": "2022-06-15T17:46:57.610Z"
   },
   {
    "duration": 15,
    "start_time": "2022-06-15T17:46:57.847Z"
   },
   {
    "duration": 8,
    "start_time": "2022-06-15T17:46:59.523Z"
   },
   {
    "duration": 9,
    "start_time": "2022-06-15T17:47:00.166Z"
   },
   {
    "duration": 5,
    "start_time": "2022-06-15T17:47:01.002Z"
   },
   {
    "duration": 5,
    "start_time": "2022-06-15T17:47:08.515Z"
   },
   {
    "duration": 17,
    "start_time": "2022-06-15T17:47:19.682Z"
   },
   {
    "duration": 17,
    "start_time": "2022-06-15T17:47:34.594Z"
   },
   {
    "duration": 9,
    "start_time": "2022-06-15T17:49:16.882Z"
   },
   {
    "duration": 14,
    "start_time": "2022-06-15T17:49:25.954Z"
   },
   {
    "duration": 80,
    "start_time": "2022-06-15T17:49:34.322Z"
   },
   {
    "duration": 12,
    "start_time": "2022-06-15T17:49:34.443Z"
   },
   {
    "duration": 12,
    "start_time": "2022-06-15T17:49:34.762Z"
   },
   {
    "duration": 6,
    "start_time": "2022-06-15T17:49:34.963Z"
   },
   {
    "duration": 28,
    "start_time": "2022-06-15T17:49:35.683Z"
   },
   {
    "duration": 15,
    "start_time": "2022-06-15T17:49:36.355Z"
   },
   {
    "duration": 33,
    "start_time": "2022-06-15T17:49:36.656Z"
   },
   {
    "duration": 6,
    "start_time": "2022-06-15T17:49:37.923Z"
   },
   {
    "duration": 6,
    "start_time": "2022-06-15T17:49:38.283Z"
   },
   {
    "duration": 11,
    "start_time": "2022-06-15T17:49:38.882Z"
   },
   {
    "duration": 59,
    "start_time": "2022-06-15T17:49:39.442Z"
   },
   {
    "duration": 5,
    "start_time": "2022-06-15T17:49:40.322Z"
   },
   {
    "duration": 121,
    "start_time": "2022-06-15T17:49:40.602Z"
   },
   {
    "duration": 9,
    "start_time": "2022-06-15T17:49:41.283Z"
   },
   {
    "duration": 15,
    "start_time": "2022-06-15T17:49:42.082Z"
   },
   {
    "duration": 29,
    "start_time": "2022-06-15T17:49:42.442Z"
   },
   {
    "duration": 10,
    "start_time": "2022-06-15T17:49:42.762Z"
   },
   {
    "duration": 6,
    "start_time": "2022-06-15T17:49:44.001Z"
   },
   {
    "duration": 7,
    "start_time": "2022-06-15T17:49:44.242Z"
   },
   {
    "duration": 14,
    "start_time": "2022-06-15T17:49:44.523Z"
   },
   {
    "duration": 34,
    "start_time": "2022-06-15T17:49:44.802Z"
   },
   {
    "duration": 4,
    "start_time": "2022-06-15T17:49:45.402Z"
   },
   {
    "duration": 15,
    "start_time": "2022-06-15T17:49:45.762Z"
   },
   {
    "duration": 29,
    "start_time": "2022-06-15T17:49:49.210Z"
   },
   {
    "duration": 26,
    "start_time": "2022-06-15T17:49:49.658Z"
   },
   {
    "duration": 22,
    "start_time": "2022-06-15T17:49:50.242Z"
   },
   {
    "duration": 4,
    "start_time": "2022-06-15T17:49:50.762Z"
   },
   {
    "duration": 7,
    "start_time": "2022-06-15T17:49:51.322Z"
   },
   {
    "duration": 5,
    "start_time": "2022-06-15T17:49:51.523Z"
   },
   {
    "duration": 6,
    "start_time": "2022-06-15T17:49:51.714Z"
   },
   {
    "duration": 6,
    "start_time": "2022-06-15T17:49:51.802Z"
   },
   {
    "duration": 7,
    "start_time": "2022-06-15T17:49:52.029Z"
   },
   {
    "duration": 15,
    "start_time": "2022-06-15T17:49:52.354Z"
   },
   {
    "duration": 8,
    "start_time": "2022-06-15T17:49:53.403Z"
   },
   {
    "duration": 10,
    "start_time": "2022-06-15T17:49:53.714Z"
   },
   {
    "duration": 6,
    "start_time": "2022-06-15T17:49:54.003Z"
   },
   {
    "duration": 5,
    "start_time": "2022-06-15T17:49:54.922Z"
   },
   {
    "duration": 12,
    "start_time": "2022-06-15T17:49:55.859Z"
   },
   {
    "duration": 9,
    "start_time": "2022-06-15T17:50:13.242Z"
   },
   {
    "duration": 10,
    "start_time": "2022-06-15T17:50:13.762Z"
   },
   {
    "duration": 96,
    "start_time": "2022-06-15T17:50:27.259Z"
   },
   {
    "duration": 18,
    "start_time": "2022-06-15T17:50:27.443Z"
   },
   {
    "duration": 13,
    "start_time": "2022-06-15T17:50:27.643Z"
   },
   {
    "duration": 6,
    "start_time": "2022-06-15T17:50:27.802Z"
   },
   {
    "duration": 27,
    "start_time": "2022-06-15T17:50:28.194Z"
   },
   {
    "duration": 23,
    "start_time": "2022-06-15T17:50:28.635Z"
   },
   {
    "duration": 44,
    "start_time": "2022-06-15T17:50:28.836Z"
   },
   {
    "duration": 5,
    "start_time": "2022-06-15T17:50:29.675Z"
   },
   {
    "duration": 4,
    "start_time": "2022-06-15T17:50:29.922Z"
   },
   {
    "duration": 13,
    "start_time": "2022-06-15T17:50:30.362Z"
   },
   {
    "duration": 58,
    "start_time": "2022-06-15T17:50:30.762Z"
   },
   {
    "duration": 4,
    "start_time": "2022-06-15T17:50:31.483Z"
   },
   {
    "duration": 146,
    "start_time": "2022-06-15T17:50:31.682Z"
   },
   {
    "duration": 11,
    "start_time": "2022-06-15T17:50:31.922Z"
   },
   {
    "duration": 16,
    "start_time": "2022-06-15T17:50:33.323Z"
   },
   {
    "duration": 36,
    "start_time": "2022-06-15T17:50:33.754Z"
   },
   {
    "duration": 9,
    "start_time": "2022-06-15T17:50:34.242Z"
   },
   {
    "duration": 8,
    "start_time": "2022-06-15T17:50:35.276Z"
   },
   {
    "duration": 5,
    "start_time": "2022-06-15T17:50:35.562Z"
   },
   {
    "duration": 14,
    "start_time": "2022-06-15T17:50:35.882Z"
   },
   {
    "duration": 31,
    "start_time": "2022-06-15T17:50:36.212Z"
   },
   {
    "duration": 4,
    "start_time": "2022-06-15T17:50:37.802Z"
   },
   {
    "duration": 21,
    "start_time": "2022-06-15T17:50:38.499Z"
   },
   {
    "duration": 23,
    "start_time": "2022-06-15T17:50:39.850Z"
   },
   {
    "duration": 19,
    "start_time": "2022-06-15T17:50:41.922Z"
   },
   {
    "duration": 21,
    "start_time": "2022-06-15T17:50:42.963Z"
   },
   {
    "duration": 2,
    "start_time": "2022-06-15T17:50:44.289Z"
   },
   {
    "duration": 5,
    "start_time": "2022-06-15T17:50:44.915Z"
   },
   {
    "duration": 6,
    "start_time": "2022-06-15T17:50:45.155Z"
   },
   {
    "duration": 5,
    "start_time": "2022-06-15T17:50:45.435Z"
   },
   {
    "duration": 5,
    "start_time": "2022-06-15T17:50:45.636Z"
   },
   {
    "duration": 5,
    "start_time": "2022-06-15T17:50:45.939Z"
   },
   {
    "duration": 17,
    "start_time": "2022-06-15T17:50:46.530Z"
   },
   {
    "duration": 11,
    "start_time": "2022-06-15T17:51:38.643Z"
   },
   {
    "duration": 8,
    "start_time": "2022-06-15T17:51:39.323Z"
   },
   {
    "duration": 5,
    "start_time": "2022-06-15T17:51:39.723Z"
   },
   {
    "duration": 6,
    "start_time": "2022-06-15T17:51:40.603Z"
   },
   {
    "duration": 12,
    "start_time": "2022-06-15T17:51:41.644Z"
   },
   {
    "duration": 10,
    "start_time": "2022-06-15T18:08:07.121Z"
   },
   {
    "duration": 4,
    "start_time": "2022-06-15T18:08:25.513Z"
   },
   {
    "duration": 11,
    "start_time": "2022-06-15T18:08:26.144Z"
   },
   {
    "duration": 21,
    "start_time": "2022-06-15T18:09:01.771Z"
   },
   {
    "duration": 5,
    "start_time": "2022-06-15T18:09:10.794Z"
   },
   {
    "duration": 28,
    "start_time": "2022-06-15T18:09:11.443Z"
   },
   {
    "duration": 17,
    "start_time": "2022-06-15T18:09:15.510Z"
   },
   {
    "duration": 109,
    "start_time": "2022-06-15T18:09:21.946Z"
   },
   {
    "duration": 25,
    "start_time": "2022-06-15T18:09:22.370Z"
   },
   {
    "duration": 14,
    "start_time": "2022-06-15T18:09:22.871Z"
   },
   {
    "duration": 7,
    "start_time": "2022-06-15T18:09:23.345Z"
   },
   {
    "duration": 40,
    "start_time": "2022-06-15T18:09:26.903Z"
   },
   {
    "duration": 19,
    "start_time": "2022-06-15T18:09:27.863Z"
   },
   {
    "duration": 40,
    "start_time": "2022-06-15T18:09:28.240Z"
   },
   {
    "duration": 7,
    "start_time": "2022-06-15T18:09:29.344Z"
   },
   {
    "duration": 6,
    "start_time": "2022-06-15T18:09:29.614Z"
   },
   {
    "duration": 12,
    "start_time": "2022-06-15T18:09:30.175Z"
   },
   {
    "duration": 60,
    "start_time": "2022-06-15T18:09:30.710Z"
   },
   {
    "duration": 5,
    "start_time": "2022-06-15T18:09:31.442Z"
   },
   {
    "duration": 151,
    "start_time": "2022-06-15T18:09:31.720Z"
   },
   {
    "duration": 11,
    "start_time": "2022-06-15T18:09:31.945Z"
   },
   {
    "duration": 14,
    "start_time": "2022-06-15T18:09:32.499Z"
   },
   {
    "duration": 57,
    "start_time": "2022-06-15T18:09:32.741Z"
   },
   {
    "duration": 9,
    "start_time": "2022-06-15T18:09:33.014Z"
   },
   {
    "duration": 6,
    "start_time": "2022-06-15T18:09:33.763Z"
   },
   {
    "duration": 7,
    "start_time": "2022-06-15T18:09:34.003Z"
   },
   {
    "duration": 17,
    "start_time": "2022-06-15T18:09:34.245Z"
   },
   {
    "duration": 36,
    "start_time": "2022-06-15T18:09:34.554Z"
   },
   {
    "duration": 5,
    "start_time": "2022-06-15T18:09:35.125Z"
   },
   {
    "duration": 18,
    "start_time": "2022-06-15T18:09:35.444Z"
   },
   {
    "duration": 25,
    "start_time": "2022-06-15T18:09:36.623Z"
   },
   {
    "duration": 21,
    "start_time": "2022-06-15T18:09:36.843Z"
   },
   {
    "duration": 14,
    "start_time": "2022-06-15T18:09:37.315Z"
   },
   {
    "duration": 4,
    "start_time": "2022-06-15T18:09:37.513Z"
   },
   {
    "duration": 6,
    "start_time": "2022-06-15T18:09:37.884Z"
   },
   {
    "duration": 7,
    "start_time": "2022-06-15T18:09:38.145Z"
   },
   {
    "duration": 7,
    "start_time": "2022-06-15T18:09:38.344Z"
   },
   {
    "duration": 8,
    "start_time": "2022-06-15T18:09:38.543Z"
   },
   {
    "duration": 7,
    "start_time": "2022-06-15T18:09:38.712Z"
   },
   {
    "duration": 16,
    "start_time": "2022-06-15T18:09:39.067Z"
   },
   {
    "duration": 11,
    "start_time": "2022-06-15T18:09:39.624Z"
   },
   {
    "duration": 11,
    "start_time": "2022-06-15T18:09:40.001Z"
   },
   {
    "duration": 7,
    "start_time": "2022-06-15T18:09:40.719Z"
   },
   {
    "duration": 8,
    "start_time": "2022-06-15T18:09:41.743Z"
   },
   {
    "duration": 21,
    "start_time": "2022-06-15T18:09:42.084Z"
   },
   {
    "duration": 6,
    "start_time": "2022-06-15T18:09:43.561Z"
   },
   {
    "duration": 19,
    "start_time": "2022-06-15T18:09:44.683Z"
   },
   {
    "duration": 4,
    "start_time": "2022-06-15T18:10:09.970Z"
   },
   {
    "duration": 19,
    "start_time": "2022-06-15T18:10:10.673Z"
   },
   {
    "duration": 4,
    "start_time": "2022-06-15T18:10:46.801Z"
   },
   {
    "duration": 146,
    "start_time": "2022-06-15T18:10:47.553Z"
   },
   {
    "duration": 155,
    "start_time": "2022-06-15T18:10:51.292Z"
   },
   {
    "duration": 128,
    "start_time": "2022-06-15T18:10:59.503Z"
   },
   {
    "duration": 138,
    "start_time": "2022-06-15T18:11:46.142Z"
   },
   {
    "duration": 3,
    "start_time": "2022-06-15T18:12:51.842Z"
   },
   {
    "duration": 128,
    "start_time": "2022-06-15T18:12:53.681Z"
   },
   {
    "duration": 5,
    "start_time": "2022-06-15T18:23:06.322Z"
   },
   {
    "duration": 3,
    "start_time": "2022-06-15T18:26:23.023Z"
   },
   {
    "duration": 3,
    "start_time": "2022-06-15T18:28:40.922Z"
   },
   {
    "duration": 5,
    "start_time": "2022-06-15T18:28:49.743Z"
   },
   {
    "duration": 148,
    "start_time": "2022-06-15T18:30:13.713Z"
   },
   {
    "duration": 5,
    "start_time": "2022-06-15T18:30:15.232Z"
   },
   {
    "duration": 3,
    "start_time": "2022-06-15T18:30:18.322Z"
   },
   {
    "duration": 114,
    "start_time": "2022-06-15T18:30:18.953Z"
   },
   {
    "duration": 7,
    "start_time": "2022-06-15T18:30:19.261Z"
   },
   {
    "duration": 507,
    "start_time": "2022-06-15T18:32:12.242Z"
   },
   {
    "duration": 20,
    "start_time": "2022-06-15T18:32:14.647Z"
   },
   {
    "duration": 9,
    "start_time": "2022-06-15T18:32:15.206Z"
   },
   {
    "duration": 6,
    "start_time": "2022-06-15T18:32:15.718Z"
   },
   {
    "duration": 23,
    "start_time": "2022-06-15T18:32:16.227Z"
   },
   {
    "duration": 16,
    "start_time": "2022-06-15T18:32:16.883Z"
   },
   {
    "duration": 27,
    "start_time": "2022-06-15T18:32:17.196Z"
   },
   {
    "duration": 5,
    "start_time": "2022-06-15T18:32:18.164Z"
   },
   {
    "duration": 4,
    "start_time": "2022-06-15T18:32:18.431Z"
   },
   {
    "duration": 8,
    "start_time": "2022-06-15T18:32:18.858Z"
   },
   {
    "duration": 57,
    "start_time": "2022-06-15T18:32:19.374Z"
   },
   {
    "duration": 4,
    "start_time": "2022-06-15T18:32:20.114Z"
   },
   {
    "duration": 119,
    "start_time": "2022-06-15T18:32:20.334Z"
   },
   {
    "duration": 7,
    "start_time": "2022-06-15T18:32:20.547Z"
   },
   {
    "duration": 12,
    "start_time": "2022-06-15T18:32:21.067Z"
   },
   {
    "duration": 30,
    "start_time": "2022-06-15T18:32:21.224Z"
   },
   {
    "duration": 10,
    "start_time": "2022-06-15T18:32:21.446Z"
   },
   {
    "duration": 6,
    "start_time": "2022-06-15T18:32:22.076Z"
   },
   {
    "duration": 6,
    "start_time": "2022-06-15T18:32:22.284Z"
   },
   {
    "duration": 12,
    "start_time": "2022-06-15T18:32:22.526Z"
   },
   {
    "duration": 27,
    "start_time": "2022-06-15T18:32:22.686Z"
   },
   {
    "duration": 3,
    "start_time": "2022-06-15T18:32:23.146Z"
   },
   {
    "duration": 13,
    "start_time": "2022-06-15T18:32:23.322Z"
   },
   {
    "duration": 22,
    "start_time": "2022-06-15T18:32:23.964Z"
   },
   {
    "duration": 18,
    "start_time": "2022-06-15T18:32:24.186Z"
   },
   {
    "duration": 20,
    "start_time": "2022-06-15T18:32:24.616Z"
   },
   {
    "duration": 3,
    "start_time": "2022-06-15T18:32:24.815Z"
   },
   {
    "duration": 7,
    "start_time": "2022-06-15T18:32:25.016Z"
   },
   {
    "duration": 6,
    "start_time": "2022-06-15T18:32:25.243Z"
   },
   {
    "duration": 7,
    "start_time": "2022-06-15T18:32:25.427Z"
   },
   {
    "duration": 6,
    "start_time": "2022-06-15T18:32:25.646Z"
   },
   {
    "duration": 7,
    "start_time": "2022-06-15T18:32:25.856Z"
   },
   {
    "duration": 13,
    "start_time": "2022-06-15T18:32:26.062Z"
   },
   {
    "duration": 10,
    "start_time": "2022-06-15T18:32:26.446Z"
   },
   {
    "duration": 11,
    "start_time": "2022-06-15T18:32:26.604Z"
   },
   {
    "duration": 5,
    "start_time": "2022-06-15T18:32:26.816Z"
   },
   {
    "duration": 5,
    "start_time": "2022-06-15T18:32:27.026Z"
   },
   {
    "duration": 10,
    "start_time": "2022-06-15T18:32:27.236Z"
   },
   {
    "duration": 4,
    "start_time": "2022-06-15T18:32:27.807Z"
   },
   {
    "duration": 140,
    "start_time": "2022-06-15T18:32:27.986Z"
   },
   {
    "duration": 6,
    "start_time": "2022-06-15T18:32:28.597Z"
   },
   {
    "duration": 10,
    "start_time": "2022-06-15T18:32:28.774Z"
   },
   {
    "duration": 113,
    "start_time": "2022-06-15T18:32:28.998Z"
   },
   {
    "duration": 6,
    "start_time": "2022-06-15T18:32:29.176Z"
   },
   {
    "duration": 4,
    "start_time": "2022-06-15T18:33:35.007Z"
   },
   {
    "duration": 131,
    "start_time": "2022-06-15T18:33:35.775Z"
   },
   {
    "duration": 8,
    "start_time": "2022-06-15T18:33:36.476Z"
   },
   {
    "duration": 3,
    "start_time": "2022-06-15T18:33:39.656Z"
   },
   {
    "duration": 123,
    "start_time": "2022-06-15T18:33:41.142Z"
   },
   {
    "duration": 8,
    "start_time": "2022-06-15T18:33:42.125Z"
   },
   {
    "duration": 4,
    "start_time": "2022-06-15T18:33:51.677Z"
   },
   {
    "duration": 133,
    "start_time": "2022-06-15T18:33:52.506Z"
   },
   {
    "duration": 6,
    "start_time": "2022-06-15T18:33:54.733Z"
   },
   {
    "duration": 4,
    "start_time": "2022-06-15T18:33:55.685Z"
   },
   {
    "duration": 182,
    "start_time": "2022-06-15T18:33:56.663Z"
   },
   {
    "duration": 6,
    "start_time": "2022-06-15T18:33:57.386Z"
   },
   {
    "duration": 14,
    "start_time": "2022-06-15T18:34:13.546Z"
   },
   {
    "duration": 4,
    "start_time": "2022-06-15T18:35:23.056Z"
   },
   {
    "duration": 3,
    "start_time": "2022-06-15T18:36:06.165Z"
   },
   {
    "duration": 130,
    "start_time": "2022-06-15T18:36:07.196Z"
   },
   {
    "duration": 6,
    "start_time": "2022-06-15T18:36:07.945Z"
   },
   {
    "duration": 3,
    "start_time": "2022-06-15T18:36:36.845Z"
   },
   {
    "duration": 119,
    "start_time": "2022-06-15T18:36:37.487Z"
   },
   {
    "duration": 5,
    "start_time": "2022-06-15T18:36:37.916Z"
   },
   {
    "duration": 21,
    "start_time": "2022-06-15T18:37:09.315Z"
   },
   {
    "duration": 3,
    "start_time": "2022-06-15T18:37:51.077Z"
   },
   {
    "duration": 118,
    "start_time": "2022-06-15T18:37:52.227Z"
   },
   {
    "duration": 21,
    "start_time": "2022-06-15T18:37:52.779Z"
   },
   {
    "duration": 172,
    "start_time": "2022-06-15T18:39:00.902Z"
   },
   {
    "duration": 123,
    "start_time": "2022-06-15T18:39:35.391Z"
   },
   {
    "duration": 151,
    "start_time": "2022-06-15T18:40:53.321Z"
   },
   {
    "duration": 4,
    "start_time": "2022-06-15T18:42:01.455Z"
   },
   {
    "duration": 124,
    "start_time": "2022-06-15T18:42:02.036Z"
   },
   {
    "duration": 22,
    "start_time": "2022-06-15T18:42:02.735Z"
   },
   {
    "duration": 7,
    "start_time": "2022-06-15T18:42:04.232Z"
   },
   {
    "duration": 4,
    "start_time": "2022-06-15T18:42:20.914Z"
   },
   {
    "duration": 114,
    "start_time": "2022-06-15T18:42:22.383Z"
   },
   {
    "duration": 17,
    "start_time": "2022-06-15T18:42:23.344Z"
   },
   {
    "duration": 6,
    "start_time": "2022-06-15T18:42:24.115Z"
   },
   {
    "duration": 3,
    "start_time": "2022-06-15T18:43:54.914Z"
   },
   {
    "duration": 116,
    "start_time": "2022-06-15T18:43:55.623Z"
   },
   {
    "duration": 16,
    "start_time": "2022-06-15T18:43:56.303Z"
   },
   {
    "duration": 5,
    "start_time": "2022-06-15T18:43:57.124Z"
   },
   {
    "duration": 42,
    "start_time": "2022-06-15T21:25:17.534Z"
   },
   {
    "duration": 520,
    "start_time": "2022-06-15T21:25:29.282Z"
   },
   {
    "duration": 13,
    "start_time": "2022-06-15T21:25:30.119Z"
   },
   {
    "duration": 9,
    "start_time": "2022-06-15T21:25:31.164Z"
   },
   {
    "duration": 5,
    "start_time": "2022-06-15T21:25:31.690Z"
   },
   {
    "duration": 22,
    "start_time": "2022-06-15T21:25:32.281Z"
   },
   {
    "duration": 17,
    "start_time": "2022-06-15T21:25:33.274Z"
   },
   {
    "duration": 29,
    "start_time": "2022-06-15T21:25:33.293Z"
   },
   {
    "duration": 5,
    "start_time": "2022-06-15T21:25:34.314Z"
   },
   {
    "duration": 5,
    "start_time": "2022-06-15T21:25:34.538Z"
   },
   {
    "duration": 10,
    "start_time": "2022-06-15T21:25:35.443Z"
   },
   {
    "duration": 36,
    "start_time": "2022-06-15T21:25:35.883Z"
   },
   {
    "duration": 4,
    "start_time": "2022-06-15T21:25:36.438Z"
   },
   {
    "duration": 166,
    "start_time": "2022-06-15T21:25:36.931Z"
   },
   {
    "duration": 7,
    "start_time": "2022-06-15T21:25:37.099Z"
   },
   {
    "duration": 10,
    "start_time": "2022-06-15T21:25:37.477Z"
   },
   {
    "duration": 30,
    "start_time": "2022-06-15T21:25:37.979Z"
   },
   {
    "duration": 10,
    "start_time": "2022-06-15T21:25:38.057Z"
   },
   {
    "duration": 6,
    "start_time": "2022-06-15T21:25:39.027Z"
   },
   {
    "duration": 5,
    "start_time": "2022-06-15T21:25:39.086Z"
   },
   {
    "duration": 13,
    "start_time": "2022-06-15T21:25:39.551Z"
   },
   {
    "duration": 26,
    "start_time": "2022-06-15T21:25:39.645Z"
   },
   {
    "duration": 4,
    "start_time": "2022-06-15T21:25:40.614Z"
   },
   {
    "duration": 14,
    "start_time": "2022-06-15T21:25:41.125Z"
   },
   {
    "duration": 18,
    "start_time": "2022-06-15T21:25:42.699Z"
   },
   {
    "duration": 20,
    "start_time": "2022-06-15T21:25:43.223Z"
   },
   {
    "duration": 13,
    "start_time": "2022-06-15T21:25:43.276Z"
   },
   {
    "duration": 3,
    "start_time": "2022-06-15T21:25:43.747Z"
   },
   {
    "duration": 7,
    "start_time": "2022-06-15T21:25:43.949Z"
   },
   {
    "duration": 6,
    "start_time": "2022-06-15T21:25:44.272Z"
   },
   {
    "duration": 7,
    "start_time": "2022-06-15T21:25:44.478Z"
   },
   {
    "duration": 6,
    "start_time": "2022-06-15T21:25:44.797Z"
   },
   {
    "duration": 6,
    "start_time": "2022-06-15T21:25:44.901Z"
   },
   {
    "duration": 20,
    "start_time": "2022-06-15T21:25:45.489Z"
   },
   {
    "duration": 8,
    "start_time": "2022-06-15T21:25:46.369Z"
   },
   {
    "duration": 9,
    "start_time": "2022-06-15T21:25:46.892Z"
   },
   {
    "duration": 5,
    "start_time": "2022-06-15T21:25:47.483Z"
   },
   {
    "duration": 4,
    "start_time": "2022-06-15T21:25:47.965Z"
   },
   {
    "duration": 10,
    "start_time": "2022-06-15T21:25:48.622Z"
   },
   {
    "duration": 3,
    "start_time": "2022-06-15T21:25:50.786Z"
   },
   {
    "duration": 125,
    "start_time": "2022-06-15T21:25:51.611Z"
   },
   {
    "duration": 5,
    "start_time": "2022-06-15T21:25:53.708Z"
   },
   {
    "duration": 3,
    "start_time": "2022-06-15T21:25:54.232Z"
   },
   {
    "duration": 118,
    "start_time": "2022-06-15T21:25:54.757Z"
   },
   {
    "duration": 5,
    "start_time": "2022-06-15T21:25:54.959Z"
   },
   {
    "duration": 6,
    "start_time": "2022-06-15T21:25:57.378Z"
   },
   {
    "duration": 4,
    "start_time": "2022-06-15T21:28:32.567Z"
   },
   {
    "duration": 25,
    "start_time": "2022-06-15T21:30:55.757Z"
   },
   {
    "duration": 7,
    "start_time": "2022-06-15T21:31:04.658Z"
   },
   {
    "duration": 8,
    "start_time": "2022-06-15T21:31:15.155Z"
   },
   {
    "duration": 4,
    "start_time": "2022-06-15T21:32:38.519Z"
   },
   {
    "duration": 18,
    "start_time": "2022-06-15T21:33:47.418Z"
   },
   {
    "duration": 18,
    "start_time": "2022-06-15T21:33:50.473Z"
   },
   {
    "duration": 37,
    "start_time": "2022-06-15T21:34:11.314Z"
   },
   {
    "duration": 5,
    "start_time": "2022-06-15T21:35:09.754Z"
   },
   {
    "duration": 4,
    "start_time": "2022-06-15T21:35:27.958Z"
   },
   {
    "duration": 7,
    "start_time": "2022-06-15T21:44:32.817Z"
   },
   {
    "duration": 6,
    "start_time": "2022-06-15T21:44:39.165Z"
   },
   {
    "duration": 8,
    "start_time": "2022-06-15T21:45:25.817Z"
   },
   {
    "duration": 5,
    "start_time": "2022-06-15T21:47:16.214Z"
   },
   {
    "duration": 467,
    "start_time": "2022-06-15T22:11:31.509Z"
   },
   {
    "duration": 11,
    "start_time": "2022-06-15T22:11:36.563Z"
   },
   {
    "duration": 8,
    "start_time": "2022-06-15T22:11:40.442Z"
   },
   {
    "duration": 5,
    "start_time": "2022-06-15T22:11:41.816Z"
   },
   {
    "duration": 9,
    "start_time": "2022-06-15T22:11:45.154Z"
   },
   {
    "duration": 7,
    "start_time": "2022-06-15T22:12:53.325Z"
   },
   {
    "duration": 5,
    "start_time": "2022-06-15T22:13:02.089Z"
   },
   {
    "duration": 8,
    "start_time": "2022-06-15T22:16:35.629Z"
   },
   {
    "duration": 7,
    "start_time": "2022-06-15T22:16:54.556Z"
   },
   {
    "duration": 6,
    "start_time": "2022-06-15T22:17:29.052Z"
   },
   {
    "duration": 6,
    "start_time": "2022-06-15T22:18:25.150Z"
   },
   {
    "duration": 6,
    "start_time": "2022-06-15T22:18:26.788Z"
   },
   {
    "duration": 7,
    "start_time": "2022-06-15T22:27:26.767Z"
   },
   {
    "duration": 6,
    "start_time": "2022-06-15T22:27:42.667Z"
   },
   {
    "duration": 5,
    "start_time": "2022-06-15T22:27:52.954Z"
   },
   {
    "duration": 7,
    "start_time": "2022-06-15T22:39:50.942Z"
   },
   {
    "duration": 7,
    "start_time": "2022-06-15T22:40:05.177Z"
   },
   {
    "duration": 12,
    "start_time": "2022-06-15T22:42:03.962Z"
   },
   {
    "duration": 10,
    "start_time": "2022-06-15T22:42:07.376Z"
   },
   {
    "duration": 16,
    "start_time": "2022-06-15T22:42:19.359Z"
   },
   {
    "duration": 16,
    "start_time": "2022-06-15T22:42:41.243Z"
   },
   {
    "duration": 40,
    "start_time": "2022-06-15T22:44:38.824Z"
   },
   {
    "duration": 16,
    "start_time": "2022-06-15T22:45:27.929Z"
   },
   {
    "duration": 16,
    "start_time": "2022-06-15T22:45:48.959Z"
   },
   {
    "duration": 18,
    "start_time": "2022-06-15T22:47:01.837Z"
   },
   {
    "duration": 16,
    "start_time": "2022-06-15T22:52:02.990Z"
   },
   {
    "duration": 37,
    "start_time": "2022-06-15T22:52:21.180Z"
   },
   {
    "duration": 18,
    "start_time": "2022-06-15T22:52:36.490Z"
   },
   {
    "duration": 7,
    "start_time": "2022-06-15T22:56:59.575Z"
   },
   {
    "duration": 6,
    "start_time": "2022-06-15T22:58:36.577Z"
   },
   {
    "duration": 5,
    "start_time": "2022-06-15T22:58:37.618Z"
   },
   {
    "duration": 16,
    "start_time": "2022-06-15T22:58:39.226Z"
   },
   {
    "duration": 6,
    "start_time": "2022-06-15T22:58:46.535Z"
   },
   {
    "duration": 4,
    "start_time": "2022-06-15T22:58:47.802Z"
   },
   {
    "duration": 7,
    "start_time": "2022-06-15T22:58:51.495Z"
   },
   {
    "duration": 6,
    "start_time": "2022-06-15T22:58:52.302Z"
   },
   {
    "duration": 8,
    "start_time": "2022-06-15T22:58:54.923Z"
   },
   {
    "duration": 6,
    "start_time": "2022-06-15T22:58:55.450Z"
   },
   {
    "duration": 741,
    "start_time": "2022-06-16T07:07:39.897Z"
   },
   {
    "duration": 29,
    "start_time": "2022-06-16T07:07:40.640Z"
   },
   {
    "duration": 14,
    "start_time": "2022-06-16T07:07:40.672Z"
   },
   {
    "duration": 9,
    "start_time": "2022-06-16T07:07:40.690Z"
   },
   {
    "duration": 98,
    "start_time": "2022-06-16T07:07:40.701Z"
   },
   {
    "duration": 24,
    "start_time": "2022-06-16T07:07:40.802Z"
   },
   {
    "duration": 47,
    "start_time": "2022-06-16T07:07:40.866Z"
   },
   {
    "duration": 8,
    "start_time": "2022-06-16T07:07:40.915Z"
   },
   {
    "duration": 10,
    "start_time": "2022-06-16T07:07:40.925Z"
   },
   {
    "duration": 28,
    "start_time": "2022-06-16T07:07:40.939Z"
   },
   {
    "duration": 69,
    "start_time": "2022-06-16T07:07:40.970Z"
   },
   {
    "duration": 20,
    "start_time": "2022-06-16T07:07:41.041Z"
   },
   {
    "duration": 219,
    "start_time": "2022-06-16T07:07:41.063Z"
   },
   {
    "duration": 17,
    "start_time": "2022-06-16T07:07:41.284Z"
   },
   {
    "duration": 37,
    "start_time": "2022-06-16T07:07:41.304Z"
   },
   {
    "duration": 66,
    "start_time": "2022-06-16T07:07:41.345Z"
   },
   {
    "duration": 15,
    "start_time": "2022-06-16T07:07:41.413Z"
   },
   {
    "duration": 7,
    "start_time": "2022-06-16T07:07:41.430Z"
   },
   {
    "duration": 21,
    "start_time": "2022-06-16T07:07:41.440Z"
   },
   {
    "duration": 26,
    "start_time": "2022-06-16T07:07:41.464Z"
   },
   {
    "duration": 44,
    "start_time": "2022-06-16T07:07:41.493Z"
   },
   {
    "duration": 24,
    "start_time": "2022-06-16T07:07:41.539Z"
   },
   {
    "duration": 36,
    "start_time": "2022-06-16T07:07:41.565Z"
   },
   {
    "duration": 29,
    "start_time": "2022-06-16T07:07:41.603Z"
   },
   {
    "duration": 54,
    "start_time": "2022-06-16T07:07:41.637Z"
   },
   {
    "duration": 26,
    "start_time": "2022-06-16T07:07:41.693Z"
   },
   {
    "duration": 4,
    "start_time": "2022-06-16T07:07:41.722Z"
   },
   {
    "duration": 30,
    "start_time": "2022-06-16T07:07:41.733Z"
   },
   {
    "duration": 10,
    "start_time": "2022-06-16T07:07:41.766Z"
   },
   {
    "duration": 55,
    "start_time": "2022-06-16T07:07:41.778Z"
   },
   {
    "duration": 31,
    "start_time": "2022-06-16T07:07:41.835Z"
   },
   {
    "duration": 34,
    "start_time": "2022-06-16T07:07:41.871Z"
   },
   {
    "duration": 30,
    "start_time": "2022-06-16T07:07:41.908Z"
   },
   {
    "duration": 18,
    "start_time": "2022-06-16T07:07:41.941Z"
   },
   {
    "duration": 36,
    "start_time": "2022-06-16T07:07:41.961Z"
   },
   {
    "duration": 26,
    "start_time": "2022-06-16T07:07:41.999Z"
   },
   {
    "duration": 33,
    "start_time": "2022-06-16T07:07:42.027Z"
   },
   {
    "duration": 38,
    "start_time": "2022-06-16T07:07:42.063Z"
   },
   {
    "duration": 86,
    "start_time": "2022-06-16T07:07:42.106Z"
   },
   {
    "duration": 239,
    "start_time": "2022-06-16T07:07:42.194Z"
   },
   {
    "duration": 12,
    "start_time": "2022-06-16T07:07:42.439Z"
   },
   {
    "duration": 13,
    "start_time": "2022-06-16T07:07:42.457Z"
   },
   {
    "duration": 296,
    "start_time": "2022-06-16T07:07:42.473Z"
   },
   {
    "duration": 8,
    "start_time": "2022-06-16T07:07:42.772Z"
   },
   {
    "duration": 18,
    "start_time": "2022-06-16T07:07:42.782Z"
   },
   {
    "duration": 6,
    "start_time": "2022-06-16T07:07:42.802Z"
   },
   {
    "duration": 50,
    "start_time": "2022-06-16T07:07:42.810Z"
   },
   {
    "duration": 15,
    "start_time": "2022-06-16T07:07:42.862Z"
   },
   {
    "duration": 20,
    "start_time": "2022-06-16T07:07:42.879Z"
   },
   {
    "duration": 39,
    "start_time": "2022-06-16T07:07:42.901Z"
   },
   {
    "duration": 80,
    "start_time": "2022-06-16T07:07:42.942Z"
   },
   {
    "duration": 24,
    "start_time": "2022-06-16T07:07:43.025Z"
   },
   {
    "duration": 19,
    "start_time": "2022-06-16T07:07:43.052Z"
   },
   {
    "duration": 92,
    "start_time": "2022-06-16T07:56:39.819Z"
   },
   {
    "duration": 70,
    "start_time": "2022-06-16T07:58:29.406Z"
   },
   {
    "duration": 1283,
    "start_time": "2022-06-16T07:58:38.700Z"
   },
   {
    "duration": 22,
    "start_time": "2022-06-16T07:58:39.991Z"
   },
   {
    "duration": 29,
    "start_time": "2022-06-16T07:58:41.179Z"
   },
   {
    "duration": 13,
    "start_time": "2022-06-16T07:58:41.940Z"
   },
   {
    "duration": 37,
    "start_time": "2022-06-16T07:58:43.646Z"
   },
   {
    "duration": 23,
    "start_time": "2022-06-16T07:59:44.482Z"
   },
   {
    "duration": 32,
    "start_time": "2022-06-16T07:59:56.744Z"
   },
   {
    "duration": 52,
    "start_time": "2022-06-16T08:00:02.546Z"
   },
   {
    "duration": 14,
    "start_time": "2022-06-16T08:00:14.412Z"
   },
   {
    "duration": 15,
    "start_time": "2022-06-16T08:00:20.008Z"
   },
   {
    "duration": 13,
    "start_time": "2022-06-16T08:00:30.496Z"
   },
   {
    "duration": 21,
    "start_time": "2022-06-16T08:00:33.447Z"
   },
   {
    "duration": 17,
    "start_time": "2022-06-16T08:00:46.052Z"
   },
   {
    "duration": 28,
    "start_time": "2022-06-16T08:00:51.245Z"
   },
   {
    "duration": 28,
    "start_time": "2022-06-16T08:01:33.550Z"
   },
   {
    "duration": 10,
    "start_time": "2022-06-16T08:01:36.087Z"
   },
   {
    "duration": 14,
    "start_time": "2022-06-16T08:01:43.097Z"
   },
   {
    "duration": 20,
    "start_time": "2022-06-16T08:01:59.467Z"
   },
   {
    "duration": 38,
    "start_time": "2022-06-16T08:02:41.091Z"
   },
   {
    "duration": 37,
    "start_time": "2022-06-16T08:02:47.089Z"
   },
   {
    "duration": 9,
    "start_time": "2022-06-16T08:03:00.286Z"
   },
   {
    "duration": 7,
    "start_time": "2022-06-16T08:03:18.248Z"
   },
   {
    "duration": 52,
    "start_time": "2022-06-16T08:05:01.860Z"
   },
   {
    "duration": 19,
    "start_time": "2022-06-16T08:05:20.479Z"
   },
   {
    "duration": 49,
    "start_time": "2022-06-16T08:05:38.958Z"
   },
   {
    "duration": 502,
    "start_time": "2022-06-16T08:05:44.469Z"
   },
   {
    "duration": 3,
    "start_time": "2022-06-16T08:05:58.088Z"
   },
   {
    "duration": 13,
    "start_time": "2022-06-16T08:06:08.649Z"
   },
   {
    "duration": 15,
    "start_time": "2022-06-16T08:06:13.152Z"
   },
   {
    "duration": 46,
    "start_time": "2022-06-16T08:08:16.397Z"
   },
   {
    "duration": 20,
    "start_time": "2022-06-16T08:09:07.286Z"
   },
   {
    "duration": 14,
    "start_time": "2022-06-16T08:09:30.063Z"
   },
   {
    "duration": 26,
    "start_time": "2022-06-16T08:09:37.759Z"
   },
   {
    "duration": 13,
    "start_time": "2022-06-16T08:10:15.564Z"
   },
   {
    "duration": 12,
    "start_time": "2022-06-16T08:10:27.218Z"
   },
   {
    "duration": 9,
    "start_time": "2022-06-16T08:10:34.003Z"
   },
   {
    "duration": 42,
    "start_time": "2022-06-16T08:13:39.751Z"
   },
   {
    "duration": 8,
    "start_time": "2022-06-16T08:26:08.266Z"
   },
   {
    "duration": 14,
    "start_time": "2022-06-16T08:26:26.222Z"
   },
   {
    "duration": 44,
    "start_time": "2022-06-16T08:30:31.689Z"
   },
   {
    "duration": 46,
    "start_time": "2022-06-18T12:20:56.090Z"
   },
   {
    "duration": 1043,
    "start_time": "2022-06-18T12:21:05.046Z"
   },
   {
    "duration": 14,
    "start_time": "2022-06-18T12:21:06.091Z"
   },
   {
    "duration": 10,
    "start_time": "2022-06-18T12:21:06.106Z"
   },
   {
    "duration": 6,
    "start_time": "2022-06-18T12:21:07.471Z"
   },
   {
    "duration": 15,
    "start_time": "2022-06-18T12:21:08.067Z"
   },
   {
    "duration": 11,
    "start_time": "2022-06-18T12:21:20.778Z"
   },
   {
    "duration": 37,
    "start_time": "2022-06-18T12:21:22.861Z"
   },
   {
    "duration": 18,
    "start_time": "2022-06-18T12:21:30.893Z"
   },
   {
    "duration": 44,
    "start_time": "2022-06-18T12:21:34.363Z"
   },
   {
    "duration": 11,
    "start_time": "2022-06-18T12:21:37.422Z"
   },
   {
    "duration": 4,
    "start_time": "2022-06-18T12:21:37.871Z"
   },
   {
    "duration": 8,
    "start_time": "2022-06-18T12:22:15.417Z"
   },
   {
    "duration": 52,
    "start_time": "2022-06-18T12:22:16.846Z"
   },
   {
    "duration": 11,
    "start_time": "2022-06-18T12:27:55.831Z"
   },
   {
    "duration": 13,
    "start_time": "2022-06-18T12:30:02.971Z"
   },
   {
    "duration": 29,
    "start_time": "2022-06-18T12:41:55.155Z"
   },
   {
    "duration": 12,
    "start_time": "2022-06-18T12:42:07.799Z"
   },
   {
    "duration": 7,
    "start_time": "2022-06-18T12:42:10.873Z"
   },
   {
    "duration": 8,
    "start_time": "2022-06-18T12:42:15.744Z"
   },
   {
    "duration": 8,
    "start_time": "2022-06-18T12:49:30.114Z"
   },
   {
    "duration": 80,
    "start_time": "2022-06-18T12:49:54.113Z"
   },
   {
    "duration": 14,
    "start_time": "2022-06-18T12:49:56.192Z"
   },
   {
    "duration": 10,
    "start_time": "2022-06-18T12:49:56.673Z"
   },
   {
    "duration": 6,
    "start_time": "2022-06-18T12:49:57.185Z"
   },
   {
    "duration": 9,
    "start_time": "2022-06-18T12:49:57.815Z"
   },
   {
    "duration": 36,
    "start_time": "2022-06-18T12:50:00.369Z"
   },
   {
    "duration": 18,
    "start_time": "2022-06-18T12:50:02.273Z"
   },
   {
    "duration": 32,
    "start_time": "2022-06-18T12:50:02.919Z"
   },
   {
    "duration": 6,
    "start_time": "2022-06-18T12:50:05.748Z"
   },
   {
    "duration": 4,
    "start_time": "2022-06-18T12:50:06.191Z"
   },
   {
    "duration": 8,
    "start_time": "2022-06-18T12:50:08.246Z"
   },
   {
    "duration": 38,
    "start_time": "2022-06-18T12:50:10.320Z"
   },
   {
    "duration": 5,
    "start_time": "2022-06-18T12:50:16.472Z"
   },
   {
    "duration": 125,
    "start_time": "2022-06-18T12:50:18.089Z"
   },
   {
    "duration": 8,
    "start_time": "2022-06-18T12:50:18.913Z"
   },
   {
    "duration": 11,
    "start_time": "2022-06-18T12:50:21.303Z"
   },
   {
    "duration": 8,
    "start_time": "2022-06-18T12:50:22.531Z"
   },
   {
    "duration": 8,
    "start_time": "2022-06-18T12:50:23.273Z"
   },
   {
    "duration": 15,
    "start_time": "2022-06-18T12:51:12.503Z"
   },
   {
    "duration": 12,
    "start_time": "2022-06-18T12:52:02.158Z"
   },
   {
    "duration": 15,
    "start_time": "2022-06-18T12:52:04.562Z"
   },
   {
    "duration": 12,
    "start_time": "2022-06-18T12:53:28.155Z"
   },
   {
    "duration": 18,
    "start_time": "2022-06-18T12:53:32.108Z"
   },
   {
    "duration": 23,
    "start_time": "2022-06-18T12:54:54.762Z"
   },
   {
    "duration": 15,
    "start_time": "2022-06-18T12:54:57.525Z"
   },
   {
    "duration": 26,
    "start_time": "2022-06-18T12:56:02.450Z"
   },
   {
    "duration": 32,
    "start_time": "2022-06-18T12:56:29.906Z"
   },
   {
    "duration": 41,
    "start_time": "2022-06-18T12:58:54.352Z"
   },
   {
    "duration": 17,
    "start_time": "2022-06-18T12:58:57.025Z"
   },
   {
    "duration": 5,
    "start_time": "2022-06-18T12:59:06.965Z"
   },
   {
    "duration": 4,
    "start_time": "2022-06-18T12:59:07.582Z"
   },
   {
    "duration": 8,
    "start_time": "2022-06-18T12:59:13.735Z"
   },
   {
    "duration": 46,
    "start_time": "2022-06-18T12:59:15.352Z"
   },
   {
    "duration": 3,
    "start_time": "2022-06-18T13:00:15.703Z"
   },
   {
    "duration": 137,
    "start_time": "2022-06-18T13:00:16.828Z"
   },
   {
    "duration": 10,
    "start_time": "2022-06-18T13:00:17.428Z"
   },
   {
    "duration": 12,
    "start_time": "2022-06-18T13:00:20.070Z"
   },
   {
    "duration": 7,
    "start_time": "2022-06-18T13:00:21.058Z"
   },
   {
    "duration": 42,
    "start_time": "2022-06-18T13:00:24.562Z"
   },
   {
    "duration": 16,
    "start_time": "2022-06-18T13:00:26.173Z"
   },
   {
    "duration": 12,
    "start_time": "2022-06-18T13:17:47.999Z"
   },
   {
    "duration": 4,
    "start_time": "2022-06-18T13:18:01.300Z"
   },
   {
    "duration": 19,
    "start_time": "2022-06-18T13:18:25.739Z"
   },
   {
    "duration": 10,
    "start_time": "2022-06-18T13:18:35.562Z"
   },
   {
    "duration": 79,
    "start_time": "2022-06-18T13:18:57.648Z"
   },
   {
    "duration": 14,
    "start_time": "2022-06-18T13:18:58.496Z"
   },
   {
    "duration": 9,
    "start_time": "2022-06-18T13:18:59.183Z"
   },
   {
    "duration": 6,
    "start_time": "2022-06-18T13:18:59.893Z"
   },
   {
    "duration": 17,
    "start_time": "2022-06-18T13:19:00.807Z"
   },
   {
    "duration": 9,
    "start_time": "2022-06-18T13:19:18.315Z"
   },
   {
    "duration": 12,
    "start_time": "2022-06-18T13:19:54.436Z"
   },
   {
    "duration": 15,
    "start_time": "2022-06-18T13:19:57.367Z"
   },
   {
    "duration": 8,
    "start_time": "2022-06-18T13:20:17.939Z"
   },
   {
    "duration": 8,
    "start_time": "2022-06-18T13:20:20.339Z"
   },
   {
    "duration": 8,
    "start_time": "2022-06-18T13:20:52.171Z"
   },
   {
    "duration": 11,
    "start_time": "2022-06-18T13:21:00.272Z"
   },
   {
    "duration": 6,
    "start_time": "2022-06-18T13:21:53.186Z"
   },
   {
    "duration": 9,
    "start_time": "2022-06-18T13:21:53.948Z"
   },
   {
    "duration": 34,
    "start_time": "2022-06-18T13:22:06.293Z"
   },
   {
    "duration": 15,
    "start_time": "2022-06-18T13:22:15.218Z"
   },
   {
    "duration": 29,
    "start_time": "2022-06-18T13:22:15.958Z"
   },
   {
    "duration": 6,
    "start_time": "2022-06-18T13:22:19.732Z"
   },
   {
    "duration": 4,
    "start_time": "2022-06-18T13:22:20.361Z"
   },
   {
    "duration": 9,
    "start_time": "2022-06-18T13:22:24.838Z"
   },
   {
    "duration": 40,
    "start_time": "2022-06-18T13:22:26.469Z"
   },
   {
    "duration": 4,
    "start_time": "2022-06-18T13:23:24.509Z"
   },
   {
    "duration": 122,
    "start_time": "2022-06-18T13:23:25.219Z"
   },
   {
    "duration": 8,
    "start_time": "2022-06-18T13:23:25.752Z"
   },
   {
    "duration": 12,
    "start_time": "2022-06-18T13:23:28.447Z"
   },
   {
    "duration": 7,
    "start_time": "2022-06-18T13:23:28.989Z"
   },
   {
    "duration": 41,
    "start_time": "2022-06-18T13:23:30.902Z"
   },
   {
    "duration": 4,
    "start_time": "2022-06-18T13:44:20.730Z"
   },
   {
    "duration": 7,
    "start_time": "2022-06-18T13:44:28.860Z"
   },
   {
    "duration": 130,
    "start_time": "2022-06-18T13:45:38.292Z"
   },
   {
    "duration": 8,
    "start_time": "2022-06-18T13:45:39.015Z"
   },
   {
    "duration": 16,
    "start_time": "2022-06-18T13:45:49.266Z"
   },
   {
    "duration": 59,
    "start_time": "2022-06-18T13:45:50.659Z"
   },
   {
    "duration": 19,
    "start_time": "2022-06-18T13:45:51.269Z"
   },
   {
    "duration": 31,
    "start_time": "2022-06-18T13:45:51.475Z"
   },
   {
    "duration": 4,
    "start_time": "2022-06-18T13:45:52.425Z"
   },
   {
    "duration": 5,
    "start_time": "2022-06-18T13:45:52.614Z"
   },
   {
    "duration": 7,
    "start_time": "2022-06-18T13:45:53.866Z"
   },
   {
    "duration": 39,
    "start_time": "2022-06-18T13:45:54.856Z"
   },
   {
    "duration": 4,
    "start_time": "2022-06-18T13:45:56.925Z"
   },
   {
    "duration": 125,
    "start_time": "2022-06-18T13:45:57.537Z"
   },
   {
    "duration": 7,
    "start_time": "2022-06-18T13:45:58.133Z"
   },
   {
    "duration": 79,
    "start_time": "2022-06-18T13:46:08.003Z"
   },
   {
    "duration": 14,
    "start_time": "2022-06-18T13:46:08.499Z"
   },
   {
    "duration": 10,
    "start_time": "2022-06-18T13:46:09.030Z"
   },
   {
    "duration": 7,
    "start_time": "2022-06-18T13:46:09.909Z"
   },
   {
    "duration": 10,
    "start_time": "2022-06-18T13:46:10.457Z"
   },
   {
    "duration": 37,
    "start_time": "2022-06-18T13:46:19.700Z"
   },
   {
    "duration": 15,
    "start_time": "2022-06-18T13:46:21.633Z"
   },
   {
    "duration": 29,
    "start_time": "2022-06-18T13:46:22.787Z"
   },
   {
    "duration": 5,
    "start_time": "2022-06-18T13:46:25.135Z"
   },
   {
    "duration": 4,
    "start_time": "2022-06-18T13:46:25.544Z"
   },
   {
    "duration": 8,
    "start_time": "2022-06-18T13:46:27.712Z"
   },
   {
    "duration": 40,
    "start_time": "2022-06-18T13:46:29.001Z"
   },
   {
    "duration": 5,
    "start_time": "2022-06-18T13:46:33.059Z"
   },
   {
    "duration": 124,
    "start_time": "2022-06-18T13:46:33.864Z"
   },
   {
    "duration": 8,
    "start_time": "2022-06-18T13:46:34.537Z"
   },
   {
    "duration": 10,
    "start_time": "2022-06-18T13:46:53.096Z"
   },
   {
    "duration": 23,
    "start_time": "2022-06-18T14:04:32.167Z"
   },
   {
    "duration": 9,
    "start_time": "2022-06-18T14:05:28.740Z"
   },
   {
    "duration": 7,
    "start_time": "2022-06-18T14:05:34.786Z"
   },
   {
    "duration": 7,
    "start_time": "2022-06-18T14:05:45.113Z"
   },
   {
    "duration": 78,
    "start_time": "2022-06-18T14:05:51.701Z"
   },
   {
    "duration": 16,
    "start_time": "2022-06-18T14:05:51.954Z"
   },
   {
    "duration": 15,
    "start_time": "2022-06-18T14:05:52.224Z"
   },
   {
    "duration": 7,
    "start_time": "2022-06-18T14:05:52.538Z"
   },
   {
    "duration": 15,
    "start_time": "2022-06-18T14:05:52.826Z"
   },
   {
    "duration": 44,
    "start_time": "2022-06-18T14:05:54.234Z"
   },
   {
    "duration": 19,
    "start_time": "2022-06-18T14:05:54.920Z"
   },
   {
    "duration": 43,
    "start_time": "2022-06-18T14:05:55.194Z"
   },
   {
    "duration": 7,
    "start_time": "2022-06-18T14:05:56.746Z"
   },
   {
    "duration": 14,
    "start_time": "2022-06-18T14:05:57.020Z"
   },
   {
    "duration": 10,
    "start_time": "2022-06-18T14:05:58.049Z"
   },
   {
    "duration": 63,
    "start_time": "2022-06-18T14:05:58.962Z"
   },
   {
    "duration": 4,
    "start_time": "2022-06-18T14:06:00.416Z"
   },
   {
    "duration": 128,
    "start_time": "2022-06-18T14:06:00.968Z"
   },
   {
    "duration": 10,
    "start_time": "2022-06-18T14:06:01.448Z"
   },
   {
    "duration": 6,
    "start_time": "2022-06-18T14:06:02.340Z"
   },
   {
    "duration": 10,
    "start_time": "2022-06-18T14:06:03.202Z"
   },
   {
    "duration": 6,
    "start_time": "2022-06-18T14:09:41.094Z"
   },
   {
    "duration": 8,
    "start_time": "2022-06-18T14:10:01.664Z"
   },
   {
    "duration": 4,
    "start_time": "2022-06-18T14:10:07.808Z"
   },
   {
    "duration": 144,
    "start_time": "2022-06-18T14:10:08.318Z"
   },
   {
    "duration": 9,
    "start_time": "2022-06-18T14:10:08.787Z"
   },
   {
    "duration": 8,
    "start_time": "2022-06-18T14:10:09.316Z"
   },
   {
    "duration": 5,
    "start_time": "2022-06-18T14:10:19.445Z"
   },
   {
    "duration": 8,
    "start_time": "2022-06-18T14:10:30.330Z"
   },
   {
    "duration": 9,
    "start_time": "2022-06-18T14:10:42.044Z"
   },
   {
    "duration": 7,
    "start_time": "2022-06-18T14:10:48.395Z"
   },
   {
    "duration": 3,
    "start_time": "2022-06-18T14:11:29.086Z"
   },
   {
    "duration": 7,
    "start_time": "2022-06-18T14:11:31.526Z"
   },
   {
    "duration": 4,
    "start_time": "2022-06-18T14:11:36.305Z"
   },
   {
    "duration": 8,
    "start_time": "2022-06-18T14:11:36.865Z"
   },
   {
    "duration": 4,
    "start_time": "2022-06-18T14:12:53.618Z"
   },
   {
    "duration": 8,
    "start_time": "2022-06-18T14:12:54.888Z"
   },
   {
    "duration": 12,
    "start_time": "2022-06-18T14:13:19.462Z"
   },
   {
    "duration": 49,
    "start_time": "2022-06-18T14:20:23.495Z"
   },
   {
    "duration": 21,
    "start_time": "2022-06-18T14:20:57.666Z"
   },
   {
    "duration": 78,
    "start_time": "2022-06-18T14:21:36.042Z"
   },
   {
    "duration": 14,
    "start_time": "2022-06-18T14:21:36.672Z"
   },
   {
    "duration": 12,
    "start_time": "2022-06-18T14:21:37.434Z"
   },
   {
    "duration": 5,
    "start_time": "2022-06-18T14:21:38.036Z"
   },
   {
    "duration": 12,
    "start_time": "2022-06-18T14:21:38.719Z"
   },
   {
    "duration": 37,
    "start_time": "2022-06-18T14:21:41.226Z"
   },
   {
    "duration": 17,
    "start_time": "2022-06-18T14:21:43.019Z"
   },
   {
    "duration": 28,
    "start_time": "2022-06-18T14:21:43.580Z"
   },
   {
    "duration": 5,
    "start_time": "2022-06-18T14:21:47.112Z"
   },
   {
    "duration": 4,
    "start_time": "2022-06-18T14:21:47.636Z"
   },
   {
    "duration": 8,
    "start_time": "2022-06-18T14:21:50.210Z"
   },
   {
    "duration": 40,
    "start_time": "2022-06-18T14:21:51.826Z"
   },
   {
    "duration": 4,
    "start_time": "2022-06-18T14:21:57.732Z"
   },
   {
    "duration": 123,
    "start_time": "2022-06-18T14:21:58.560Z"
   },
   {
    "duration": 7,
    "start_time": "2022-06-18T14:21:59.344Z"
   },
   {
    "duration": 4,
    "start_time": "2022-06-18T14:22:00.174Z"
   },
   {
    "duration": 8,
    "start_time": "2022-06-18T14:22:03.374Z"
   },
   {
    "duration": 13,
    "start_time": "2022-06-18T14:22:32.054Z"
   },
   {
    "duration": 7,
    "start_time": "2022-06-18T14:22:33.680Z"
   },
   {
    "duration": 44,
    "start_time": "2022-06-18T14:22:34.730Z"
   },
   {
    "duration": 29,
    "start_time": "2022-06-18T14:22:38.229Z"
   },
   {
    "duration": 9,
    "start_time": "2022-06-18T14:22:43.128Z"
   },
   {
    "duration": 4,
    "start_time": "2022-06-18T14:25:25.422Z"
   },
   {
    "duration": 45,
    "start_time": "2022-06-18T15:57:13.800Z"
   },
   {
    "duration": 764,
    "start_time": "2022-06-18T15:57:24.748Z"
   },
   {
    "duration": 14,
    "start_time": "2022-06-18T15:57:25.514Z"
   },
   {
    "duration": 12,
    "start_time": "2022-06-18T15:57:25.618Z"
   },
   {
    "duration": 7,
    "start_time": "2022-06-18T15:57:25.853Z"
   },
   {
    "duration": 20,
    "start_time": "2022-06-18T15:57:26.163Z"
   },
   {
    "duration": 44,
    "start_time": "2022-06-18T15:57:27.313Z"
   },
   {
    "duration": 25,
    "start_time": "2022-06-18T15:57:28.099Z"
   },
   {
    "duration": 35,
    "start_time": "2022-06-18T15:57:28.355Z"
   },
   {
    "duration": 4,
    "start_time": "2022-06-18T15:57:29.551Z"
   },
   {
    "duration": 6,
    "start_time": "2022-06-18T15:57:29.776Z"
   },
   {
    "duration": 10,
    "start_time": "2022-06-18T15:57:30.647Z"
   },
   {
    "duration": 42,
    "start_time": "2022-06-18T15:57:31.114Z"
   },
   {
    "duration": 5,
    "start_time": "2022-06-18T15:57:32.222Z"
   },
   {
    "duration": 155,
    "start_time": "2022-06-18T15:57:32.459Z"
   },
   {
    "duration": 7,
    "start_time": "2022-06-18T15:57:32.682Z"
   },
   {
    "duration": 3,
    "start_time": "2022-06-18T15:57:32.899Z"
   },
   {
    "duration": 6,
    "start_time": "2022-06-18T15:57:33.317Z"
   },
   {
    "duration": 12,
    "start_time": "2022-06-18T15:57:34.019Z"
   },
   {
    "duration": 8,
    "start_time": "2022-06-18T15:57:34.381Z"
   },
   {
    "duration": 41,
    "start_time": "2022-06-18T15:57:34.819Z"
   },
   {
    "duration": 29,
    "start_time": "2022-06-18T15:57:35.383Z"
   },
   {
    "duration": 15,
    "start_time": "2022-06-18T15:57:36.556Z"
   },
   {
    "duration": 6,
    "start_time": "2022-06-18T15:57:37.438Z"
   },
   {
    "duration": 5,
    "start_time": "2022-06-18T15:57:37.458Z"
   },
   {
    "duration": 16,
    "start_time": "2022-06-18T15:57:37.680Z"
   },
   {
    "duration": 35,
    "start_time": "2022-06-18T15:57:37.961Z"
   },
   {
    "duration": 4,
    "start_time": "2022-06-18T15:57:40.349Z"
   },
   {
    "duration": 15,
    "start_time": "2022-06-18T15:57:41.631Z"
   },
   {
    "duration": 21,
    "start_time": "2022-06-18T15:57:43.414Z"
   },
   {
    "duration": 19,
    "start_time": "2022-06-18T15:57:43.771Z"
   },
   {
    "duration": 14,
    "start_time": "2022-06-18T15:57:44.825Z"
   },
   {
    "duration": 2,
    "start_time": "2022-06-18T15:57:45.509Z"
   },
   {
    "duration": 2,
    "start_time": "2022-06-18T15:57:46.239Z"
   },
   {
    "duration": 2,
    "start_time": "2022-06-18T15:57:46.877Z"
   },
   {
    "duration": 8,
    "start_time": "2022-06-18T15:57:46.881Z"
   },
   {
    "duration": 3,
    "start_time": "2022-06-18T15:57:47.118Z"
   },
   {
    "duration": 2,
    "start_time": "2022-06-18T15:57:47.695Z"
   },
   {
    "duration": 15,
    "start_time": "2022-06-18T15:57:48.567Z"
   },
   {
    "duration": 23,
    "start_time": "2022-06-18T15:57:50.415Z"
   },
   {
    "duration": 11,
    "start_time": "2022-06-18T15:58:23.553Z"
   },
   {
    "duration": 20,
    "start_time": "2022-06-18T15:58:25.738Z"
   },
   {
    "duration": 2,
    "start_time": "2022-06-18T15:58:37.455Z"
   },
   {
    "duration": 18,
    "start_time": "2022-06-18T15:58:37.971Z"
   },
   {
    "duration": 32,
    "start_time": "2022-06-18T15:58:38.438Z"
   },
   {
    "duration": 10,
    "start_time": "2022-06-18T15:58:42.729Z"
   },
   {
    "duration": 7,
    "start_time": "2022-06-18T15:58:43.434Z"
   },
   {
    "duration": 8,
    "start_time": "2022-06-18T15:59:39.372Z"
   },
   {
    "duration": 30,
    "start_time": "2022-06-18T15:59:48.456Z"
   },
   {
    "duration": 20,
    "start_time": "2022-06-18T16:00:16.208Z"
   },
   {
    "duration": 20,
    "start_time": "2022-06-18T16:00:38.332Z"
   },
   {
    "duration": 20,
    "start_time": "2022-06-18T16:02:18.394Z"
   },
   {
    "duration": 47,
    "start_time": "2022-06-18T16:10:51.953Z"
   },
   {
    "duration": 2,
    "start_time": "2022-06-18T16:12:07.757Z"
   },
   {
    "duration": 3,
    "start_time": "2022-06-18T16:13:07.246Z"
   },
   {
    "duration": 4,
    "start_time": "2022-06-18T16:13:18.819Z"
   },
   {
    "duration": 4,
    "start_time": "2022-06-18T16:13:29.748Z"
   },
   {
    "duration": 39,
    "start_time": "2022-06-18T16:15:18.856Z"
   },
   {
    "duration": 5,
    "start_time": "2022-06-18T16:15:47.215Z"
   },
   {
    "duration": 5,
    "start_time": "2022-06-18T16:17:53.670Z"
   },
   {
    "duration": 8,
    "start_time": "2022-06-18T16:18:03.931Z"
   },
   {
    "duration": 12,
    "start_time": "2022-06-18T16:19:11.614Z"
   },
   {
    "duration": 20,
    "start_time": "2022-06-18T16:19:30.264Z"
   },
   {
    "duration": 11,
    "start_time": "2022-06-18T16:19:33.380Z"
   },
   {
    "duration": 12,
    "start_time": "2022-06-18T16:21:30.626Z"
   },
   {
    "duration": 12,
    "start_time": "2022-06-18T16:23:42.951Z"
   },
   {
    "duration": 13,
    "start_time": "2022-06-18T16:24:12.302Z"
   },
   {
    "duration": 13,
    "start_time": "2022-06-18T16:24:16.693Z"
   },
   {
    "duration": 13,
    "start_time": "2022-06-18T16:24:19.348Z"
   },
   {
    "duration": 75,
    "start_time": "2022-06-18T16:49:37.132Z"
   },
   {
    "duration": 2,
    "start_time": "2022-06-18T16:51:16.150Z"
   },
   {
    "duration": 15,
    "start_time": "2022-06-18T17:02:00.580Z"
   },
   {
    "duration": 17,
    "start_time": "2022-06-18T17:02:02.551Z"
   },
   {
    "duration": 28,
    "start_time": "2022-06-18T17:02:12.412Z"
   },
   {
    "duration": 18,
    "start_time": "2022-06-18T17:06:06.132Z"
   },
   {
    "duration": 28,
    "start_time": "2022-06-18T17:13:56.090Z"
   },
   {
    "duration": 10,
    "start_time": "2022-06-18T17:14:19.382Z"
   },
   {
    "duration": 9,
    "start_time": "2022-06-18T17:17:47.228Z"
   },
   {
    "duration": 18,
    "start_time": "2022-06-18T17:18:09.972Z"
   },
   {
    "duration": 18,
    "start_time": "2022-06-18T17:18:42.124Z"
   },
   {
    "duration": 17,
    "start_time": "2022-06-18T17:18:55.859Z"
   },
   {
    "duration": 17,
    "start_time": "2022-06-18T17:19:12.935Z"
   },
   {
    "duration": 23,
    "start_time": "2022-06-18T17:19:20.764Z"
   },
   {
    "duration": 47,
    "start_time": "2022-06-19T12:18:35.847Z"
   },
   {
    "duration": 751,
    "start_time": "2022-06-19T12:18:45.948Z"
   },
   {
    "duration": 15,
    "start_time": "2022-06-19T12:18:46.701Z"
   },
   {
    "duration": 10,
    "start_time": "2022-06-19T12:18:46.718Z"
   },
   {
    "duration": 7,
    "start_time": "2022-06-19T12:18:46.731Z"
   },
   {
    "duration": 10,
    "start_time": "2022-06-19T12:18:46.851Z"
   },
   {
    "duration": 59,
    "start_time": "2022-06-19T12:18:47.598Z"
   },
   {
    "duration": 27,
    "start_time": "2022-06-19T12:18:48.099Z"
   },
   {
    "duration": 32,
    "start_time": "2022-06-19T12:18:48.287Z"
   },
   {
    "duration": 7,
    "start_time": "2022-06-19T12:18:49.176Z"
   },
   {
    "duration": 5,
    "start_time": "2022-06-19T12:18:49.343Z"
   },
   {
    "duration": 12,
    "start_time": "2022-06-19T12:18:50.159Z"
   },
   {
    "duration": 70,
    "start_time": "2022-06-19T12:18:50.532Z"
   },
   {
    "duration": 5,
    "start_time": "2022-06-19T12:18:51.458Z"
   },
   {
    "duration": 167,
    "start_time": "2022-06-19T12:18:51.630Z"
   },
   {
    "duration": 7,
    "start_time": "2022-06-19T12:18:51.817Z"
   },
   {
    "duration": 3,
    "start_time": "2022-06-19T12:18:51.990Z"
   },
   {
    "duration": 9,
    "start_time": "2022-06-19T12:18:52.377Z"
   },
   {
    "duration": 14,
    "start_time": "2022-06-19T12:18:52.756Z"
   },
   {
    "duration": 11,
    "start_time": "2022-06-19T12:18:52.922Z"
   },
   {
    "duration": 43,
    "start_time": "2022-06-19T12:18:53.116Z"
   },
   {
    "duration": 34,
    "start_time": "2022-06-19T12:18:53.686Z"
   },
   {
    "duration": 11,
    "start_time": "2022-06-19T12:18:54.603Z"
   },
   {
    "duration": 6,
    "start_time": "2022-06-19T12:18:55.137Z"
   },
   {
    "duration": 5,
    "start_time": "2022-06-19T12:18:55.319Z"
   },
   {
    "duration": 15,
    "start_time": "2022-06-19T12:18:55.500Z"
   },
   {
    "duration": 29,
    "start_time": "2022-06-19T12:18:55.683Z"
   },
   {
    "duration": 4,
    "start_time": "2022-06-19T12:18:56.062Z"
   },
   {
    "duration": 14,
    "start_time": "2022-06-19T12:18:56.231Z"
   },
   {
    "duration": 20,
    "start_time": "2022-06-19T12:18:56.799Z"
   },
   {
    "duration": 19,
    "start_time": "2022-06-19T12:18:57.000Z"
   },
   {
    "duration": 15,
    "start_time": "2022-06-19T12:18:57.420Z"
   },
   {
    "duration": 2,
    "start_time": "2022-06-19T12:18:57.624Z"
   },
   {
    "duration": 3,
    "start_time": "2022-06-19T12:18:57.812Z"
   },
   {
    "duration": 3,
    "start_time": "2022-06-19T12:18:58.016Z"
   },
   {
    "duration": 3,
    "start_time": "2022-06-19T12:18:58.221Z"
   },
   {
    "duration": 2,
    "start_time": "2022-06-19T12:18:58.393Z"
   },
   {
    "duration": 2,
    "start_time": "2022-06-19T12:18:58.600Z"
   },
   {
    "duration": 13,
    "start_time": "2022-06-19T12:18:58.785Z"
   },
   {
    "duration": 30,
    "start_time": "2022-06-19T12:18:58.980Z"
   },
   {
    "duration": 15,
    "start_time": "2022-06-19T12:18:59.666Z"
   },
   {
    "duration": 12,
    "start_time": "2022-06-19T12:18:59.869Z"
   },
   {
    "duration": 6,
    "start_time": "2022-06-19T12:19:00.555Z"
   },
   {
    "duration": 6,
    "start_time": "2022-06-19T12:19:00.770Z"
   },
   {
    "duration": 16,
    "start_time": "2022-06-19T12:19:00.981Z"
   },
   {
    "duration": 3,
    "start_time": "2022-06-19T12:19:01.638Z"
   },
   {
    "duration": 150,
    "start_time": "2022-06-19T12:19:01.859Z"
   },
   {
    "duration": 7,
    "start_time": "2022-06-19T12:19:02.969Z"
   },
   {
    "duration": 3,
    "start_time": "2022-06-19T12:19:03.326Z"
   },
   {
    "duration": 142,
    "start_time": "2022-06-19T12:19:03.634Z"
   },
   {
    "duration": 5,
    "start_time": "2022-06-19T12:19:03.886Z"
   },
   {
    "duration": 7,
    "start_time": "2022-06-19T12:19:06.196Z"
   },
   {
    "duration": 5,
    "start_time": "2022-06-19T12:19:06.454Z"
   },
   {
    "duration": 18,
    "start_time": "2022-06-19T12:19:07.458Z"
   },
   {
    "duration": 30,
    "start_time": "2022-06-19T12:20:06.976Z"
   },
   {
    "duration": 3,
    "start_time": "2022-06-19T12:20:55.878Z"
   },
   {
    "duration": 2,
    "start_time": "2022-06-19T12:20:56.425Z"
   },
   {
    "duration": 19,
    "start_time": "2022-06-19T12:20:57.363Z"
   },
   {
    "duration": 2,
    "start_time": "2022-06-19T12:21:07.095Z"
   },
   {
    "duration": 46,
    "start_time": "2022-06-19T12:21:50.671Z"
   },
   {
    "duration": 20,
    "start_time": "2022-06-19T12:22:29.752Z"
   },
   {
    "duration": 18,
    "start_time": "2022-06-19T12:23:04.353Z"
   },
   {
    "duration": 2,
    "start_time": "2022-06-19T12:23:27.977Z"
   },
   {
    "duration": 2,
    "start_time": "2022-06-19T12:23:28.454Z"
   },
   {
    "duration": 21,
    "start_time": "2022-06-19T12:23:29.399Z"
   },
   {
    "duration": 21,
    "start_time": "2022-06-19T12:24:40.572Z"
   },
   {
    "duration": 3,
    "start_time": "2022-06-19T12:25:08.585Z"
   },
   {
    "duration": 3,
    "start_time": "2022-06-19T12:25:09.051Z"
   },
   {
    "duration": 20,
    "start_time": "2022-06-19T12:25:10.214Z"
   },
   {
    "duration": 2,
    "start_time": "2022-06-19T12:25:52.749Z"
   },
   {
    "duration": 2,
    "start_time": "2022-06-19T12:25:53.270Z"
   },
   {
    "duration": 18,
    "start_time": "2022-06-19T12:25:53.790Z"
   },
   {
    "duration": 2,
    "start_time": "2022-06-19T12:25:56.925Z"
   },
   {
    "duration": 2,
    "start_time": "2022-06-19T12:25:57.519Z"
   },
   {
    "duration": 19,
    "start_time": "2022-06-19T12:25:58.059Z"
   },
   {
    "duration": 8,
    "start_time": "2022-06-19T12:26:00.873Z"
   },
   {
    "duration": 7,
    "start_time": "2022-06-19T12:26:01.509Z"
   },
   {
    "duration": 20,
    "start_time": "2022-06-19T12:26:25.653Z"
   },
   {
    "duration": 2,
    "start_time": "2022-06-19T12:26:36.448Z"
   },
   {
    "duration": 3,
    "start_time": "2022-06-19T12:26:37.003Z"
   },
   {
    "duration": 21,
    "start_time": "2022-06-19T12:26:37.573Z"
   },
   {
    "duration": 865,
    "start_time": "2022-06-19T19:05:45.169Z"
   },
   {
    "duration": 23,
    "start_time": "2022-06-19T19:05:46.038Z"
   },
   {
    "duration": 33,
    "start_time": "2022-06-19T19:05:46.065Z"
   },
   {
    "duration": 6,
    "start_time": "2022-06-19T19:05:46.099Z"
   },
   {
    "duration": 13,
    "start_time": "2022-06-19T19:05:46.107Z"
   },
   {
    "duration": 76,
    "start_time": "2022-06-19T19:05:46.122Z"
   },
   {
    "duration": 17,
    "start_time": "2022-06-19T19:05:46.200Z"
   },
   {
    "duration": 42,
    "start_time": "2022-06-19T19:05:46.226Z"
   },
   {
    "duration": 14,
    "start_time": "2022-06-19T19:05:46.270Z"
   },
   {
    "duration": 6,
    "start_time": "2022-06-19T19:05:46.287Z"
   },
   {
    "duration": 12,
    "start_time": "2022-06-19T19:05:46.296Z"
   },
   {
    "duration": 73,
    "start_time": "2022-06-19T19:05:46.329Z"
   },
   {
    "duration": 5,
    "start_time": "2022-06-19T19:05:46.404Z"
   },
   {
    "duration": 200,
    "start_time": "2022-06-19T19:05:46.412Z"
   },
   {
    "duration": 32,
    "start_time": "2022-06-19T19:05:46.614Z"
   },
   {
    "duration": 16,
    "start_time": "2022-06-19T19:05:46.654Z"
   },
   {
    "duration": 27,
    "start_time": "2022-06-19T19:05:46.675Z"
   },
   {
    "duration": 31,
    "start_time": "2022-06-19T19:05:46.704Z"
   },
   {
    "duration": 14,
    "start_time": "2022-06-19T19:05:46.737Z"
   },
   {
    "duration": 68,
    "start_time": "2022-06-19T19:05:46.756Z"
   },
   {
    "duration": 60,
    "start_time": "2022-06-19T19:05:46.825Z"
   },
   {
    "duration": 14,
    "start_time": "2022-06-19T19:05:46.887Z"
   },
   {
    "duration": 12,
    "start_time": "2022-06-19T19:05:46.903Z"
   },
   {
    "duration": 53,
    "start_time": "2022-06-19T19:05:46.918Z"
   },
   {
    "duration": 37,
    "start_time": "2022-06-19T19:05:46.973Z"
   },
   {
    "duration": 60,
    "start_time": "2022-06-19T19:05:47.013Z"
   },
   {
    "duration": 4,
    "start_time": "2022-06-19T19:05:47.075Z"
   },
   {
    "duration": 19,
    "start_time": "2022-06-19T19:05:47.081Z"
   },
   {
    "duration": 36,
    "start_time": "2022-06-19T19:05:47.101Z"
   },
   {
    "duration": 28,
    "start_time": "2022-06-19T19:05:47.146Z"
   },
   {
    "duration": 16,
    "start_time": "2022-06-19T19:05:47.175Z"
   },
   {
    "duration": 3,
    "start_time": "2022-06-19T19:05:47.192Z"
   },
   {
    "duration": 6,
    "start_time": "2022-06-19T19:05:47.197Z"
   },
   {
    "duration": 32,
    "start_time": "2022-06-19T19:05:47.204Z"
   },
   {
    "duration": 28,
    "start_time": "2022-06-19T19:05:47.238Z"
   },
   {
    "duration": 5,
    "start_time": "2022-06-19T19:05:47.268Z"
   },
   {
    "duration": 7,
    "start_time": "2022-06-19T19:05:47.275Z"
   },
   {
    "duration": 22,
    "start_time": "2022-06-19T19:05:47.284Z"
   },
   {
    "duration": 46,
    "start_time": "2022-06-19T19:05:47.307Z"
   },
   {
    "duration": 25,
    "start_time": "2022-06-19T19:05:47.354Z"
   },
   {
    "duration": 13,
    "start_time": "2022-06-19T19:05:47.385Z"
   },
   {
    "duration": 6,
    "start_time": "2022-06-19T19:05:47.400Z"
   },
   {
    "duration": 7,
    "start_time": "2022-06-19T19:05:47.407Z"
   },
   {
    "duration": 21,
    "start_time": "2022-06-19T19:05:47.416Z"
   },
   {
    "duration": 31,
    "start_time": "2022-06-19T19:05:47.440Z"
   },
   {
    "duration": 176,
    "start_time": "2022-06-19T19:05:47.473Z"
   },
   {
    "duration": 9,
    "start_time": "2022-06-19T19:05:47.651Z"
   },
   {
    "duration": 10,
    "start_time": "2022-06-19T19:05:47.662Z"
   },
   {
    "duration": 167,
    "start_time": "2022-06-19T19:05:47.674Z"
   },
   {
    "duration": 10,
    "start_time": "2022-06-19T19:05:47.845Z"
   },
   {
    "duration": 17,
    "start_time": "2022-06-19T19:05:47.857Z"
   },
   {
    "duration": 7,
    "start_time": "2022-06-19T19:05:47.877Z"
   },
   {
    "duration": 25,
    "start_time": "2022-06-19T19:05:47.886Z"
   },
   {
    "duration": 2,
    "start_time": "2022-06-19T19:05:47.913Z"
   },
   {
    "duration": 5,
    "start_time": "2022-06-19T19:05:47.917Z"
   },
   {
    "duration": 38,
    "start_time": "2022-06-19T19:05:47.926Z"
   },
   {
    "duration": 26,
    "start_time": "2022-06-19T19:05:47.966Z"
   },
   {
    "duration": 3,
    "start_time": "2022-06-19T19:05:47.994Z"
   },
   {
    "duration": 7,
    "start_time": "2022-06-19T19:05:47.998Z"
   },
   {
    "duration": 30,
    "start_time": "2022-06-19T19:05:48.006Z"
   },
   {
    "duration": 18,
    "start_time": "2022-06-19T19:05:48.037Z"
   },
   {
    "duration": 34,
    "start_time": "2022-06-19T19:05:48.061Z"
   },
   {
    "duration": 48,
    "start_time": "2022-06-19T19:05:48.098Z"
   },
   {
    "duration": 86,
    "start_time": "2022-06-20T09:11:15.560Z"
   },
   {
    "duration": 36,
    "start_time": "2022-06-20T09:16:15.821Z"
   },
   {
    "duration": 494,
    "start_time": "2022-06-20T09:16:26.503Z"
   },
   {
    "duration": 12,
    "start_time": "2022-06-20T09:16:26.998Z"
   },
   {
    "duration": 8,
    "start_time": "2022-06-20T09:16:27.011Z"
   },
   {
    "duration": 4,
    "start_time": "2022-06-20T09:16:27.360Z"
   },
   {
    "duration": 11,
    "start_time": "2022-06-20T09:16:27.389Z"
   },
   {
    "duration": 30,
    "start_time": "2022-06-20T09:16:28.486Z"
   },
   {
    "duration": 15,
    "start_time": "2022-06-20T09:16:29.029Z"
   },
   {
    "duration": 27,
    "start_time": "2022-06-20T09:16:29.203Z"
   },
   {
    "duration": 5,
    "start_time": "2022-06-20T09:16:29.995Z"
   },
   {
    "duration": 4,
    "start_time": "2022-06-20T09:16:30.162Z"
   },
   {
    "duration": 7,
    "start_time": "2022-06-20T09:16:31.233Z"
   },
   {
    "duration": 44,
    "start_time": "2022-06-20T09:16:31.802Z"
   },
   {
    "duration": 3,
    "start_time": "2022-06-20T09:16:33.326Z"
   },
   {
    "duration": 130,
    "start_time": "2022-06-20T09:16:33.651Z"
   },
   {
    "duration": 8,
    "start_time": "2022-06-20T09:16:34.069Z"
   },
   {
    "duration": 3,
    "start_time": "2022-06-20T09:16:34.333Z"
   },
   {
    "duration": 24,
    "start_time": "2022-06-20T09:16:34.759Z"
   },
   {
    "duration": 7,
    "start_time": "2022-06-20T09:16:35.526Z"
   },
   {
    "duration": 3,
    "start_time": "2022-06-20T09:16:49.648Z"
   },
   {
    "duration": 6,
    "start_time": "2022-06-20T09:16:52.695Z"
   },
   {
    "duration": 3,
    "start_time": "2022-06-20T09:17:01.972Z"
   },
   {
    "duration": 3,
    "start_time": "2022-06-20T09:17:02.521Z"
   },
   {
    "duration": 3,
    "start_time": "2022-06-20T09:24:00.575Z"
   },
   {
    "duration": 7,
    "start_time": "2022-06-20T09:24:02.033Z"
   },
   {
    "duration": 7,
    "start_time": "2022-06-20T09:24:13.041Z"
   },
   {
    "duration": 75,
    "start_time": "2022-06-20T09:24:21.954Z"
   },
   {
    "duration": 12,
    "start_time": "2022-06-20T09:24:22.479Z"
   },
   {
    "duration": 8,
    "start_time": "2022-06-20T09:24:23.002Z"
   },
   {
    "duration": 6,
    "start_time": "2022-06-20T09:24:23.527Z"
   },
   {
    "duration": 9,
    "start_time": "2022-06-20T09:24:24.051Z"
   },
   {
    "duration": 30,
    "start_time": "2022-06-20T09:24:27.197Z"
   },
   {
    "duration": 15,
    "start_time": "2022-06-20T09:24:28.784Z"
   },
   {
    "duration": 27,
    "start_time": "2022-06-20T09:24:29.365Z"
   },
   {
    "duration": 4,
    "start_time": "2022-06-20T09:24:33.488Z"
   },
   {
    "duration": 3,
    "start_time": "2022-06-20T09:24:33.617Z"
   },
   {
    "duration": 8,
    "start_time": "2022-06-20T09:24:35.613Z"
   },
   {
    "duration": 36,
    "start_time": "2022-06-20T09:24:36.875Z"
   },
   {
    "duration": 3,
    "start_time": "2022-06-20T09:24:41.295Z"
   },
   {
    "duration": 120,
    "start_time": "2022-06-20T09:24:41.695Z"
   },
   {
    "duration": 8,
    "start_time": "2022-06-20T09:24:42.514Z"
   },
   {
    "duration": 3,
    "start_time": "2022-06-20T09:24:43.404Z"
   },
   {
    "duration": 7,
    "start_time": "2022-06-20T09:24:44.878Z"
   },
   {
    "duration": 3,
    "start_time": "2022-06-20T09:24:50.897Z"
   },
   {
    "duration": 7,
    "start_time": "2022-06-20T09:24:52.305Z"
   },
   {
    "duration": 116,
    "start_time": "2022-06-20T09:24:54.928Z"
   },
   {
    "duration": 7,
    "start_time": "2022-06-20T09:24:55.733Z"
   },
   {
    "duration": 75,
    "start_time": "2022-06-20T09:25:08.618Z"
   },
   {
    "duration": 12,
    "start_time": "2022-06-20T09:25:08.695Z"
   },
   {
    "duration": 8,
    "start_time": "2022-06-20T09:25:08.815Z"
   },
   {
    "duration": 6,
    "start_time": "2022-06-20T09:25:09.145Z"
   },
   {
    "duration": 8,
    "start_time": "2022-06-20T09:25:09.176Z"
   },
   {
    "duration": 29,
    "start_time": "2022-06-20T09:25:10.194Z"
   },
   {
    "duration": 15,
    "start_time": "2022-06-20T09:25:10.715Z"
   },
   {
    "duration": 27,
    "start_time": "2022-06-20T09:25:10.860Z"
   },
   {
    "duration": 5,
    "start_time": "2022-06-20T09:25:11.792Z"
   },
   {
    "duration": 4,
    "start_time": "2022-06-20T09:25:11.954Z"
   },
   {
    "duration": 7,
    "start_time": "2022-06-20T09:25:13.478Z"
   },
   {
    "duration": 36,
    "start_time": "2022-06-20T09:25:14.061Z"
   },
   {
    "duration": 3,
    "start_time": "2022-06-20T09:25:15.959Z"
   },
   {
    "duration": 117,
    "start_time": "2022-06-20T09:25:16.486Z"
   },
   {
    "duration": 6,
    "start_time": "2022-06-20T09:25:17.009Z"
   },
   {
    "duration": 3,
    "start_time": "2022-06-20T09:25:22.853Z"
   },
   {
    "duration": 7,
    "start_time": "2022-06-20T09:25:24.348Z"
   },
   {
    "duration": 9,
    "start_time": "2022-06-20T09:25:33.496Z"
   },
   {
    "duration": 7,
    "start_time": "2022-06-20T09:25:34.834Z"
   },
   {
    "duration": 35,
    "start_time": "2022-06-20T09:25:35.886Z"
   },
   {
    "duration": 28,
    "start_time": "2022-06-20T09:25:40.160Z"
   },
   {
    "duration": 8,
    "start_time": "2022-06-20T09:25:52.666Z"
   },
   {
    "duration": 4,
    "start_time": "2022-06-20T09:26:03.277Z"
   },
   {
    "duration": 6,
    "start_time": "2022-06-20T09:26:04.325Z"
   },
   {
    "duration": 20,
    "start_time": "2022-06-20T09:26:04.852Z"
   },
   {
    "duration": 26,
    "start_time": "2022-06-20T09:26:05.374Z"
   },
   {
    "duration": 3,
    "start_time": "2022-06-20T09:26:06.423Z"
   },
   {
    "duration": 15,
    "start_time": "2022-06-20T09:26:07.471Z"
   },
   {
    "duration": 17,
    "start_time": "2022-06-20T09:26:10.124Z"
   },
   {
    "duration": 17,
    "start_time": "2022-06-20T09:26:10.856Z"
   },
   {
    "duration": 11,
    "start_time": "2022-06-20T09:26:12.542Z"
   },
   {
    "duration": 2,
    "start_time": "2022-06-20T09:26:12.917Z"
   },
   {
    "duration": 2,
    "start_time": "2022-06-20T09:26:13.275Z"
   },
   {
    "duration": 2,
    "start_time": "2022-06-20T09:26:13.603Z"
   },
   {
    "duration": 2,
    "start_time": "2022-06-20T09:26:13.807Z"
   },
   {
    "duration": 2,
    "start_time": "2022-06-20T09:26:14.012Z"
   },
   {
    "duration": 2,
    "start_time": "2022-06-20T09:26:14.175Z"
   },
   {
    "duration": 9,
    "start_time": "2022-06-20T09:26:14.383Z"
   },
   {
    "duration": 17,
    "start_time": "2022-06-20T09:26:14.631Z"
   },
   {
    "duration": 12,
    "start_time": "2022-06-20T09:26:21.497Z"
   },
   {
    "duration": 9,
    "start_time": "2022-06-20T09:26:22.078Z"
   },
   {
    "duration": 4,
    "start_time": "2022-06-20T09:26:36.181Z"
   },
   {
    "duration": 4,
    "start_time": "2022-06-20T09:26:36.299Z"
   },
   {
    "duration": 10,
    "start_time": "2022-06-20T09:26:36.845Z"
   },
   {
    "duration": 4,
    "start_time": "2022-06-20T09:26:37.752Z"
   },
   {
    "duration": 124,
    "start_time": "2022-06-20T09:26:37.877Z"
   },
   {
    "duration": 6,
    "start_time": "2022-06-20T09:26:45.132Z"
   },
   {
    "duration": 3,
    "start_time": "2022-06-20T09:26:45.620Z"
   },
   {
    "duration": 121,
    "start_time": "2022-06-20T09:26:46.144Z"
   },
   {
    "duration": 5,
    "start_time": "2022-06-20T09:26:46.366Z"
   },
   {
    "duration": 2,
    "start_time": "2022-06-20T09:26:57.155Z"
   },
   {
    "duration": 1,
    "start_time": "2022-06-20T09:26:57.676Z"
   },
   {
    "duration": 23,
    "start_time": "2022-06-20T09:26:58.202Z"
   },
   {
    "duration": 2,
    "start_time": "2022-06-20T09:26:59.248Z"
   },
   {
    "duration": 2,
    "start_time": "2022-06-20T09:27:08.688Z"
   },
   {
    "duration": 2,
    "start_time": "2022-06-20T09:27:09.210Z"
   },
   {
    "duration": 17,
    "start_time": "2022-06-20T09:27:09.734Z"
   },
   {
    "duration": 2,
    "start_time": "2022-06-20T09:27:52.730Z"
   },
   {
    "duration": 2,
    "start_time": "2022-06-20T09:27:52.972Z"
   },
   {
    "duration": 19,
    "start_time": "2022-06-20T09:27:53.260Z"
   },
   {
    "duration": 2,
    "start_time": "2022-06-20T09:28:16.545Z"
   },
   {
    "duration": 4,
    "start_time": "2022-06-20T09:28:16.549Z"
   },
   {
    "duration": 23,
    "start_time": "2022-06-20T09:28:17.372Z"
   },
   {
    "duration": 42,
    "start_time": "2022-06-20T17:21:24.769Z"
   },
   {
    "duration": 662,
    "start_time": "2022-06-20T17:21:33.511Z"
   },
   {
    "duration": 16,
    "start_time": "2022-06-20T17:21:34.175Z"
   },
   {
    "duration": 35,
    "start_time": "2022-06-20T17:21:34.192Z"
   },
   {
    "duration": 28,
    "start_time": "2022-06-20T17:21:34.229Z"
   },
   {
    "duration": 36,
    "start_time": "2022-06-20T17:21:34.259Z"
   },
   {
    "duration": 32,
    "start_time": "2022-06-20T17:21:35.070Z"
   },
   {
    "duration": 15,
    "start_time": "2022-06-20T17:21:35.658Z"
   },
   {
    "duration": 29,
    "start_time": "2022-06-20T17:21:35.885Z"
   },
   {
    "duration": 5,
    "start_time": "2022-06-20T17:21:37.166Z"
   },
   {
    "duration": 4,
    "start_time": "2022-06-20T17:21:37.319Z"
   },
   {
    "duration": 8,
    "start_time": "2022-06-20T17:21:39.265Z"
   },
   {
    "duration": 40,
    "start_time": "2022-06-20T17:21:40.516Z"
   },
   {
    "duration": 38,
    "start_time": "2022-06-20T17:21:41.363Z"
   },
   {
    "duration": 14,
    "start_time": "2022-06-20T17:22:26.123Z"
   },
   {
    "duration": 31,
    "start_time": "2022-06-20T17:22:52.672Z"
   },
   {
    "duration": 2,
    "start_time": "2022-06-20T17:23:42.568Z"
   },
   {
    "duration": 30,
    "start_time": "2022-06-20T17:23:43.076Z"
   },
   {
    "duration": 33,
    "start_time": "2022-06-20T17:23:44.121Z"
   },
   {
    "duration": 26,
    "start_time": "2022-06-20T17:24:48.530Z"
   },
   {
    "duration": 31,
    "start_time": "2022-06-20T17:24:54.726Z"
   },
   {
    "duration": 4,
    "start_time": "2022-06-20T17:24:56.427Z"
   },
   {
    "duration": 126,
    "start_time": "2022-06-20T17:24:56.582Z"
   },
   {
    "duration": 7,
    "start_time": "2022-06-20T17:24:56.819Z"
   },
   {
    "duration": 4,
    "start_time": "2022-06-20T17:24:56.990Z"
   },
   {
    "duration": 7,
    "start_time": "2022-06-20T17:24:57.479Z"
   },
   {
    "duration": 13,
    "start_time": "2022-06-20T17:24:57.872Z"
   },
   {
    "duration": 8,
    "start_time": "2022-06-20T17:24:58.087Z"
   },
   {
    "duration": 45,
    "start_time": "2022-06-20T17:24:58.542Z"
   },
   {
    "duration": 31,
    "start_time": "2022-06-20T17:24:59.572Z"
   },
   {
    "duration": 10,
    "start_time": "2022-06-20T17:24:59.970Z"
   },
   {
    "duration": 13,
    "start_time": "2022-06-20T17:25:19.508Z"
   },
   {
    "duration": 30,
    "start_time": "2022-06-20T17:25:30.217Z"
   },
   {
    "duration": 3,
    "start_time": "2022-06-20T17:26:02.503Z"
   },
   {
    "duration": 32,
    "start_time": "2022-06-20T17:26:02.884Z"
   },
   {
    "duration": 32,
    "start_time": "2022-06-20T17:33:48.169Z"
   },
   {
    "duration": 88,
    "start_time": "2022-06-20T17:34:19.633Z"
   },
   {
    "duration": 13,
    "start_time": "2022-06-20T17:34:20.174Z"
   },
   {
    "duration": 8,
    "start_time": "2022-06-20T17:34:20.189Z"
   },
   {
    "duration": 5,
    "start_time": "2022-06-20T17:34:20.380Z"
   },
   {
    "duration": 11,
    "start_time": "2022-06-20T17:34:20.675Z"
   },
   {
    "duration": 32,
    "start_time": "2022-06-20T17:34:21.325Z"
   },
   {
    "duration": 17,
    "start_time": "2022-06-20T17:34:21.817Z"
   },
   {
    "duration": 30,
    "start_time": "2022-06-20T17:34:22.187Z"
   },
   {
    "duration": 5,
    "start_time": "2022-06-20T17:34:22.867Z"
   },
   {
    "duration": 4,
    "start_time": "2022-06-20T17:34:23.237Z"
   },
   {
    "duration": 8,
    "start_time": "2022-06-20T17:34:24.284Z"
   },
   {
    "duration": 3,
    "start_time": "2022-06-20T17:34:25.003Z"
   },
   {
    "duration": 34,
    "start_time": "2022-06-20T17:34:25.039Z"
   },
   {
    "duration": 4,
    "start_time": "2022-06-20T17:34:27.511Z"
   },
   {
    "duration": 124,
    "start_time": "2022-06-20T17:34:28.023Z"
   },
   {
    "duration": 8,
    "start_time": "2022-06-20T17:34:29.681Z"
   },
   {
    "duration": 3,
    "start_time": "2022-06-20T17:34:30.163Z"
   },
   {
    "duration": 8,
    "start_time": "2022-06-20T17:34:32.323Z"
   },
   {
    "duration": 12,
    "start_time": "2022-06-20T17:34:34.374Z"
   },
   {
    "duration": 7,
    "start_time": "2022-06-20T17:34:34.837Z"
   },
   {
    "duration": 43,
    "start_time": "2022-06-20T17:34:39.554Z"
   },
   {
    "duration": 29,
    "start_time": "2022-06-20T17:34:44.379Z"
   },
   {
    "duration": 3,
    "start_time": "2022-06-20T17:35:16.639Z"
   },
   {
    "duration": 31,
    "start_time": "2022-06-20T17:35:17.257Z"
   },
   {
    "duration": 10,
    "start_time": "2022-06-20T17:35:17.878Z"
   },
   {
    "duration": 31,
    "start_time": "2022-06-20T17:35:27.422Z"
   },
   {
    "duration": 10,
    "start_time": "2022-06-20T17:35:27.938Z"
   },
   {
    "duration": 24,
    "start_time": "2022-06-20T17:36:18.659Z"
   },
   {
    "duration": 10,
    "start_time": "2022-06-20T17:36:28.125Z"
   },
   {
    "duration": 94,
    "start_time": "2022-06-20T17:37:18.128Z"
   },
   {
    "duration": 1136,
    "start_time": "2022-06-20T18:41:37.839Z"
   },
   {
    "duration": 19,
    "start_time": "2022-06-20T18:41:38.977Z"
   },
   {
    "duration": 12,
    "start_time": "2022-06-20T18:41:38.999Z"
   },
   {
    "duration": 18,
    "start_time": "2022-06-20T18:41:39.013Z"
   },
   {
    "duration": 27,
    "start_time": "2022-06-20T18:41:39.033Z"
   },
   {
    "duration": 53,
    "start_time": "2022-06-20T18:41:39.422Z"
   },
   {
    "duration": 21,
    "start_time": "2022-06-20T18:41:39.921Z"
   },
   {
    "duration": 48,
    "start_time": "2022-06-20T18:41:40.068Z"
   },
   {
    "duration": 6,
    "start_time": "2022-06-20T18:41:42.689Z"
   },
   {
    "duration": 7,
    "start_time": "2022-06-20T18:41:42.977Z"
   },
   {
    "duration": 10,
    "start_time": "2022-06-20T18:41:44.662Z"
   },
   {
    "duration": 3,
    "start_time": "2022-06-20T18:41:45.801Z"
   },
   {
    "duration": 60,
    "start_time": "2022-06-20T18:41:47.155Z"
   },
   {
    "duration": 5,
    "start_time": "2022-06-20T18:42:16.123Z"
   },
   {
    "duration": 170,
    "start_time": "2022-06-20T18:42:16.657Z"
   },
   {
    "duration": 9,
    "start_time": "2022-06-20T18:42:18.615Z"
   },
   {
    "duration": 3,
    "start_time": "2022-06-20T18:42:19.271Z"
   },
   {
    "duration": 9,
    "start_time": "2022-06-20T18:42:20.972Z"
   },
   {
    "duration": 12,
    "start_time": "2022-06-20T18:42:22.425Z"
   },
   {
    "duration": 8,
    "start_time": "2022-06-20T18:42:33.293Z"
   },
   {
    "duration": 63,
    "start_time": "2022-06-20T18:42:54.596Z"
   },
   {
    "duration": 35,
    "start_time": "2022-06-20T18:43:03.704Z"
   },
   {
    "duration": 12,
    "start_time": "2022-06-20T18:43:06.098Z"
   },
   {
    "duration": 3,
    "start_time": "2022-06-20T18:43:17.990Z"
   },
   {
    "duration": 28,
    "start_time": "2022-06-20T18:43:27.494Z"
   },
   {
    "duration": 12,
    "start_time": "2022-06-20T18:43:49.636Z"
   },
   {
    "duration": 37,
    "start_time": "2022-06-20T18:45:19.851Z"
   },
   {
    "duration": 20,
    "start_time": "2022-06-20T18:45:26.172Z"
   },
   {
    "duration": 17,
    "start_time": "2022-06-20T18:45:47.485Z"
   },
   {
    "duration": 9,
    "start_time": "2022-06-20T18:45:49.389Z"
   },
   {
    "duration": 8,
    "start_time": "2022-06-20T18:45:50.062Z"
   },
   {
    "duration": 25,
    "start_time": "2022-06-20T18:45:50.785Z"
   },
   {
    "duration": 45,
    "start_time": "2022-06-20T18:45:52.751Z"
   },
   {
    "duration": 5,
    "start_time": "2022-06-20T18:46:23.664Z"
   },
   {
    "duration": 27,
    "start_time": "2022-06-20T18:46:24.353Z"
   },
   {
    "duration": 33,
    "start_time": "2022-06-20T18:46:26.284Z"
   },
   {
    "duration": 36,
    "start_time": "2022-06-20T18:46:26.810Z"
   },
   {
    "duration": 21,
    "start_time": "2022-06-20T18:46:28.907Z"
   },
   {
    "duration": 3,
    "start_time": "2022-06-20T18:46:29.583Z"
   },
   {
    "duration": 4,
    "start_time": "2022-06-20T18:46:30.483Z"
   },
   {
    "duration": 3,
    "start_time": "2022-06-20T18:46:31.005Z"
   },
   {
    "duration": 25,
    "start_time": "2022-06-20T18:46:31.011Z"
   },
   {
    "duration": 21,
    "start_time": "2022-06-20T18:46:31.123Z"
   },
   {
    "duration": 6,
    "start_time": "2022-06-20T18:46:31.531Z"
   },
   {
    "duration": 18,
    "start_time": "2022-06-20T18:46:31.664Z"
   },
   {
    "duration": 32,
    "start_time": "2022-06-20T18:46:32.133Z"
   },
   {
    "duration": 21,
    "start_time": "2022-06-20T18:46:35.261Z"
   },
   {
    "duration": 17,
    "start_time": "2022-06-20T18:46:36.772Z"
   },
   {
    "duration": 7,
    "start_time": "2022-06-20T18:46:44.584Z"
   },
   {
    "duration": 7,
    "start_time": "2022-06-20T18:46:45.630Z"
   },
   {
    "duration": 13,
    "start_time": "2022-06-20T18:46:49.202Z"
   },
   {
    "duration": 6,
    "start_time": "2022-06-20T18:46:50.871Z"
   },
   {
    "duration": 221,
    "start_time": "2022-06-20T18:46:51.921Z"
   },
   {
    "duration": 7,
    "start_time": "2022-06-20T18:46:58.624Z"
   },
   {
    "duration": 4,
    "start_time": "2022-06-20T18:46:59.261Z"
   },
   {
    "duration": 262,
    "start_time": "2022-06-20T18:47:00.315Z"
   },
   {
    "duration": 10,
    "start_time": "2022-06-20T18:47:00.579Z"
   },
   {
    "duration": 3,
    "start_time": "2022-06-20T18:47:05.748Z"
   },
   {
    "duration": 3,
    "start_time": "2022-06-20T18:47:07.031Z"
   },
   {
    "duration": 28,
    "start_time": "2022-06-20T18:47:08.042Z"
   },
   {
    "duration": 3,
    "start_time": "2022-06-20T18:47:09.232Z"
   },
   {
    "duration": 3,
    "start_time": "2022-06-20T18:47:11.847Z"
   },
   {
    "duration": 3,
    "start_time": "2022-06-20T18:47:12.099Z"
   },
   {
    "duration": 35,
    "start_time": "2022-06-20T18:47:12.339Z"
   },
   {
    "duration": 4,
    "start_time": "2022-06-20T18:47:16.282Z"
   },
   {
    "duration": 3,
    "start_time": "2022-06-20T18:47:16.759Z"
   },
   {
    "duration": 23,
    "start_time": "2022-06-20T18:47:16.876Z"
   },
   {
    "duration": 3,
    "start_time": "2022-06-20T18:53:45.926Z"
   },
   {
    "duration": 3,
    "start_time": "2022-06-20T18:53:46.148Z"
   },
   {
    "duration": 27,
    "start_time": "2022-06-20T18:53:46.273Z"
   },
   {
    "duration": 3,
    "start_time": "2022-06-20T18:53:48.250Z"
   },
   {
    "duration": 2,
    "start_time": "2022-06-20T18:53:48.372Z"
   },
   {
    "duration": 21,
    "start_time": "2022-06-20T18:53:48.642Z"
   },
   {
    "duration": 2,
    "start_time": "2022-06-20T18:56:22.062Z"
   },
   {
    "duration": 12,
    "start_time": "2022-06-20T18:56:23.003Z"
   },
   {
    "duration": 683,
    "start_time": "2022-06-21T05:54:33.846Z"
   },
   {
    "duration": 15,
    "start_time": "2022-06-21T05:54:34.532Z"
   },
   {
    "duration": 10,
    "start_time": "2022-06-21T05:54:34.549Z"
   },
   {
    "duration": 6,
    "start_time": "2022-06-21T05:54:34.560Z"
   },
   {
    "duration": 13,
    "start_time": "2022-06-21T05:54:34.567Z"
   },
   {
    "duration": 66,
    "start_time": "2022-06-21T05:54:34.581Z"
   },
   {
    "duration": 18,
    "start_time": "2022-06-21T05:54:34.649Z"
   },
   {
    "duration": 56,
    "start_time": "2022-06-21T05:54:34.668Z"
   },
   {
    "duration": 6,
    "start_time": "2022-06-21T05:54:34.727Z"
   },
   {
    "duration": 4,
    "start_time": "2022-06-21T05:54:34.736Z"
   },
   {
    "duration": 10,
    "start_time": "2022-06-21T05:54:34.742Z"
   },
   {
    "duration": 4,
    "start_time": "2022-06-21T05:54:34.754Z"
   },
   {
    "duration": 37,
    "start_time": "2022-06-21T05:54:34.760Z"
   },
   {
    "duration": 24,
    "start_time": "2022-06-21T05:54:34.799Z"
   },
   {
    "duration": 136,
    "start_time": "2022-06-21T05:54:34.825Z"
   },
   {
    "duration": 7,
    "start_time": "2022-06-21T05:54:34.963Z"
   },
   {
    "duration": 2,
    "start_time": "2022-06-21T05:54:34.972Z"
   },
   {
    "duration": 9,
    "start_time": "2022-06-21T05:54:34.976Z"
   },
   {
    "duration": 10,
    "start_time": "2022-06-21T05:54:34.986Z"
   },
   {
    "duration": 30,
    "start_time": "2022-06-21T05:54:34.997Z"
   },
   {
    "duration": 3,
    "start_time": "2022-06-21T05:54:35.028Z"
   },
   {
    "duration": 36,
    "start_time": "2022-06-21T05:54:35.033Z"
   },
   {
    "duration": 10,
    "start_time": "2022-06-21T05:54:35.070Z"
   },
   {
    "duration": 3,
    "start_time": "2022-06-21T05:54:35.082Z"
   },
   {
    "duration": 41,
    "start_time": "2022-06-21T05:54:35.087Z"
   },
   {
    "duration": 11,
    "start_time": "2022-06-21T05:54:35.130Z"
   },
   {
    "duration": 26,
    "start_time": "2022-06-21T05:54:35.142Z"
   },
   {
    "duration": 9,
    "start_time": "2022-06-21T05:54:35.172Z"
   },
   {
    "duration": 8,
    "start_time": "2022-06-21T05:54:35.183Z"
   },
   {
    "duration": 16,
    "start_time": "2022-06-21T05:54:35.192Z"
   },
   {
    "duration": 39,
    "start_time": "2022-06-21T05:54:35.210Z"
   },
   {
    "duration": 4,
    "start_time": "2022-06-21T05:54:35.251Z"
   },
   {
    "duration": 17,
    "start_time": "2022-06-21T05:54:35.256Z"
   },
   {
    "duration": 17,
    "start_time": "2022-06-21T05:54:35.275Z"
   },
   {
    "duration": 39,
    "start_time": "2022-06-21T05:54:35.293Z"
   },
   {
    "duration": 15,
    "start_time": "2022-06-21T05:54:35.333Z"
   },
   {
    "duration": 3,
    "start_time": "2022-06-21T05:54:35.349Z"
   },
   {
    "duration": 6,
    "start_time": "2022-06-21T05:54:35.354Z"
   },
   {
    "duration": 4,
    "start_time": "2022-06-21T05:54:35.361Z"
   },
   {
    "duration": 4,
    "start_time": "2022-06-21T05:54:35.367Z"
   },
   {
    "duration": 7,
    "start_time": "2022-06-21T05:54:35.372Z"
   },
   {
    "duration": 7,
    "start_time": "2022-06-21T05:54:35.381Z"
   },
   {
    "duration": 13,
    "start_time": "2022-06-21T05:54:35.389Z"
   },
   {
    "duration": 19,
    "start_time": "2022-06-21T05:54:35.422Z"
   },
   {
    "duration": 11,
    "start_time": "2022-06-21T05:54:35.442Z"
   },
   {
    "duration": 10,
    "start_time": "2022-06-21T05:54:35.454Z"
   },
   {
    "duration": 4,
    "start_time": "2022-06-21T05:54:35.465Z"
   },
   {
    "duration": 6,
    "start_time": "2022-06-21T05:54:35.470Z"
   },
   {
    "duration": 15,
    "start_time": "2022-06-21T05:54:35.477Z"
   },
   {
    "duration": 30,
    "start_time": "2022-06-21T05:54:35.493Z"
   },
   {
    "duration": 143,
    "start_time": "2022-06-21T05:54:35.524Z"
   },
   {
    "duration": 6,
    "start_time": "2022-06-21T05:54:35.668Z"
   },
   {
    "duration": 5,
    "start_time": "2022-06-21T05:54:35.675Z"
   },
   {
    "duration": 133,
    "start_time": "2022-06-21T05:54:35.682Z"
   },
   {
    "duration": 11,
    "start_time": "2022-06-21T05:54:35.816Z"
   },
   {
    "duration": 4,
    "start_time": "2022-06-21T05:54:35.828Z"
   },
   {
    "duration": 7,
    "start_time": "2022-06-21T05:54:35.833Z"
   },
   {
    "duration": 24,
    "start_time": "2022-06-21T05:54:35.841Z"
   },
   {
    "duration": 2,
    "start_time": "2022-06-21T05:54:35.867Z"
   },
   {
    "duration": 7,
    "start_time": "2022-06-21T05:54:35.870Z"
   },
   {
    "duration": 6,
    "start_time": "2022-06-21T05:54:35.878Z"
   },
   {
    "duration": 24,
    "start_time": "2022-06-21T05:54:35.885Z"
   },
   {
    "duration": 3,
    "start_time": "2022-06-21T05:54:35.923Z"
   },
   {
    "duration": 10,
    "start_time": "2022-06-21T05:54:35.927Z"
   },
   {
    "duration": 24,
    "start_time": "2022-06-21T05:54:35.939Z"
   },
   {
    "duration": 2,
    "start_time": "2022-06-21T05:54:35.965Z"
   },
   {
    "duration": 5,
    "start_time": "2022-06-21T05:54:35.968Z"
   },
   {
    "duration": 23,
    "start_time": "2022-06-21T05:54:35.974Z"
   },
   {
    "duration": 583,
    "start_time": "2024-11-24T15:42:02.252Z"
   },
   {
    "duration": 522,
    "start_time": "2024-11-24T15:43:19.785Z"
   },
   {
    "duration": 16,
    "start_time": "2024-11-24T15:43:20.309Z"
   },
   {
    "duration": 18,
    "start_time": "2024-11-24T15:43:20.326Z"
   },
   {
    "duration": 25,
    "start_time": "2024-11-24T15:43:20.347Z"
   },
   {
    "duration": 32,
    "start_time": "2024-11-24T15:43:20.374Z"
   },
   {
    "duration": 148,
    "start_time": "2024-11-24T15:43:20.408Z"
   },
   {
    "duration": 18,
    "start_time": "2024-11-24T15:43:20.558Z"
   },
   {
    "duration": 35,
    "start_time": "2024-11-24T15:43:20.578Z"
   },
   {
    "duration": 28,
    "start_time": "2024-11-24T15:43:20.615Z"
   },
   {
    "duration": 15,
    "start_time": "2024-11-24T15:43:20.646Z"
   },
   {
    "duration": 34,
    "start_time": "2024-11-24T15:43:20.662Z"
   },
   {
    "duration": 14,
    "start_time": "2024-11-24T15:43:20.698Z"
   },
   {
    "duration": 91,
    "start_time": "2024-11-24T15:43:20.714Z"
   },
   {
    "duration": 6,
    "start_time": "2024-11-24T15:43:20.806Z"
   },
   {
    "duration": 160,
    "start_time": "2024-11-24T15:43:20.813Z"
   },
   {
    "duration": 10,
    "start_time": "2024-11-24T15:43:20.974Z"
   },
   {
    "duration": 58,
    "start_time": "2024-11-24T15:43:20.985Z"
   },
   {
    "duration": 11,
    "start_time": "2024-11-24T15:43:21.044Z"
   },
   {
    "duration": 14,
    "start_time": "2024-11-24T15:43:21.056Z"
   },
   {
    "duration": 8,
    "start_time": "2024-11-24T15:43:21.071Z"
   },
   {
    "duration": 3,
    "start_time": "2024-11-24T15:43:21.080Z"
   },
   {
    "duration": 184,
    "start_time": "2024-11-24T15:43:21.085Z"
   },
   {
    "duration": 13,
    "start_time": "2024-11-24T15:43:21.271Z"
   },
   {
    "duration": 6,
    "start_time": "2024-11-24T15:43:21.285Z"
   },
   {
    "duration": 41,
    "start_time": "2024-11-24T15:43:21.292Z"
   },
   {
    "duration": 18,
    "start_time": "2024-11-24T15:43:21.334Z"
   },
   {
    "duration": 11,
    "start_time": "2024-11-24T15:43:21.353Z"
   },
   {
    "duration": 6,
    "start_time": "2024-11-24T15:43:21.368Z"
   },
   {
    "duration": 8,
    "start_time": "2024-11-24T15:43:21.376Z"
   },
   {
    "duration": 17,
    "start_time": "2024-11-24T15:43:21.386Z"
   },
   {
    "duration": 70,
    "start_time": "2024-11-24T15:43:21.405Z"
   },
   {
    "duration": 5,
    "start_time": "2024-11-24T15:43:21.477Z"
   },
   {
    "duration": 29,
    "start_time": "2024-11-24T15:43:21.483Z"
   },
   {
    "duration": 37,
    "start_time": "2024-11-24T15:43:21.514Z"
   },
   {
    "duration": 22,
    "start_time": "2024-11-24T15:43:21.553Z"
   },
   {
    "duration": 17,
    "start_time": "2024-11-24T15:43:21.576Z"
   },
   {
    "duration": 3,
    "start_time": "2024-11-24T15:43:21.594Z"
   },
   {
    "duration": 15,
    "start_time": "2024-11-24T15:43:21.598Z"
   },
   {
    "duration": 17,
    "start_time": "2024-11-24T15:43:21.615Z"
   },
   {
    "duration": 17,
    "start_time": "2024-11-24T15:43:21.634Z"
   },
   {
    "duration": 5,
    "start_time": "2024-11-24T15:43:21.653Z"
   },
   {
    "duration": 19,
    "start_time": "2024-11-24T15:43:21.659Z"
   },
   {
    "duration": 24,
    "start_time": "2024-11-24T15:43:21.680Z"
   },
   {
    "duration": 35,
    "start_time": "2024-11-24T15:43:21.706Z"
   },
   {
    "duration": 13,
    "start_time": "2024-11-24T15:43:21.742Z"
   },
   {
    "duration": 11,
    "start_time": "2024-11-24T15:43:21.756Z"
   },
   {
    "duration": 19,
    "start_time": "2024-11-24T15:43:21.768Z"
   },
   {
    "duration": 7,
    "start_time": "2024-11-24T15:43:21.789Z"
   },
   {
    "duration": 18,
    "start_time": "2024-11-24T15:43:21.798Z"
   },
   {
    "duration": 10,
    "start_time": "2024-11-24T15:43:21.818Z"
   },
   {
    "duration": 153,
    "start_time": "2024-11-24T15:43:21.830Z"
   },
   {
    "duration": 7,
    "start_time": "2024-11-24T15:43:21.984Z"
   },
   {
    "duration": 5,
    "start_time": "2024-11-24T15:43:21.993Z"
   },
   {
    "duration": 155,
    "start_time": "2024-11-24T15:43:22.000Z"
   },
   {
    "duration": 5,
    "start_time": "2024-11-24T15:43:22.156Z"
   },
   {
    "duration": 44,
    "start_time": "2024-11-24T15:43:22.163Z"
   },
   {
    "duration": 27,
    "start_time": "2024-11-24T15:43:22.209Z"
   },
   {
    "duration": 37,
    "start_time": "2024-11-24T15:43:22.238Z"
   },
   {
    "duration": 3,
    "start_time": "2024-11-24T15:43:22.276Z"
   },
   {
    "duration": 8,
    "start_time": "2024-11-24T15:43:22.280Z"
   },
   {
    "duration": 4,
    "start_time": "2024-11-24T15:43:22.289Z"
   },
   {
    "duration": 19,
    "start_time": "2024-11-24T15:43:22.295Z"
   },
   {
    "duration": 2,
    "start_time": "2024-11-24T15:43:22.316Z"
   },
   {
    "duration": 10,
    "start_time": "2024-11-24T15:43:22.319Z"
   },
   {
    "duration": 27,
    "start_time": "2024-11-24T15:43:22.330Z"
   },
   {
    "duration": 2,
    "start_time": "2024-11-24T15:43:22.359Z"
   },
   {
    "duration": 4,
    "start_time": "2024-11-24T15:43:22.363Z"
   },
   {
    "duration": 28,
    "start_time": "2024-11-24T15:43:22.368Z"
   },
   {
    "duration": 3,
    "start_time": "2024-11-24T16:16:56.465Z"
   },
   {
    "duration": 87,
    "start_time": "2024-11-24T16:16:58.187Z"
   },
   {
    "duration": 15,
    "start_time": "2024-11-24T16:17:03.208Z"
   },
   {
    "duration": 16,
    "start_time": "2024-11-24T16:17:52.098Z"
   },
   {
    "duration": 3,
    "start_time": "2024-11-24T16:18:44.675Z"
   },
   {
    "duration": 12,
    "start_time": "2024-11-24T16:18:56.890Z"
   },
   {
    "duration": 67,
    "start_time": "2024-11-24T16:19:22.686Z"
   },
   {
    "duration": 51,
    "start_time": "2024-11-24T16:22:39.328Z"
   },
   {
    "duration": 17,
    "start_time": "2024-11-24T16:23:47.999Z"
   },
   {
    "duration": 39,
    "start_time": "2024-11-24T16:24:11.525Z"
   },
   {
    "duration": 4,
    "start_time": "2024-11-24T16:34:54.635Z"
   },
   {
    "duration": 9,
    "start_time": "2024-11-24T16:35:22.633Z"
   },
   {
    "duration": 36,
    "start_time": "2024-11-24T16:36:29.184Z"
   },
   {
    "duration": 3,
    "start_time": "2024-11-24T16:39:09.278Z"
   },
   {
    "duration": 160,
    "start_time": "2024-11-24T16:40:28.749Z"
   },
   {
    "duration": 3,
    "start_time": "2024-11-24T16:41:16.361Z"
   },
   {
    "duration": 155,
    "start_time": "2024-11-24T16:41:18.160Z"
   },
   {
    "duration": 9,
    "start_time": "2024-11-24T16:41:18.571Z"
   },
   {
    "duration": 4,
    "start_time": "2024-11-24T16:41:38.562Z"
   },
   {
    "duration": 8,
    "start_time": "2024-11-24T16:41:39.183Z"
   },
   {
    "duration": 3,
    "start_time": "2024-11-24T16:42:23.800Z"
   },
   {
    "duration": 7,
    "start_time": "2024-11-24T16:42:43.184Z"
   },
   {
    "duration": 14,
    "start_time": "2024-11-24T16:43:34.226Z"
   },
   {
    "duration": 8,
    "start_time": "2024-11-24T16:43:52.677Z"
   },
   {
    "duration": 34,
    "start_time": "2024-11-24T16:44:12.617Z"
   },
   {
    "duration": 12,
    "start_time": "2024-11-24T16:44:30.691Z"
   },
   {
    "duration": 29,
    "start_time": "2024-11-24T16:44:53.459Z"
   },
   {
    "duration": 12,
    "start_time": "2024-11-24T16:45:04.955Z"
   },
   {
    "duration": 10,
    "start_time": "2024-11-24T16:45:55.678Z"
   },
   {
    "duration": 6,
    "start_time": "2024-11-24T16:47:14.468Z"
   },
   {
    "duration": 5,
    "start_time": "2024-11-24T16:47:29.831Z"
   },
   {
    "duration": 16,
    "start_time": "2024-11-24T16:47:47.171Z"
   },
   {
    "duration": 35,
    "start_time": "2024-11-24T16:48:04.714Z"
   },
   {
    "duration": 4,
    "start_time": "2024-11-24T16:48:55.003Z"
   },
   {
    "duration": 16,
    "start_time": "2024-11-24T16:48:55.409Z"
   },
   {
    "duration": 19,
    "start_time": "2024-11-24T16:51:24.523Z"
   },
   {
    "duration": 19,
    "start_time": "2024-11-24T16:51:28.450Z"
   },
   {
    "duration": 20,
    "start_time": "2024-11-24T16:51:28.838Z"
   },
   {
    "duration": 16,
    "start_time": "2024-11-24T16:53:14.399Z"
   },
   {
    "duration": 11,
    "start_time": "2024-11-24T16:53:31.245Z"
   },
   {
    "duration": 22,
    "start_time": "2024-11-24T16:53:51.314Z"
   },
   {
    "duration": 13,
    "start_time": "2024-11-24T16:55:45.299Z"
   },
   {
    "duration": 5,
    "start_time": "2024-11-24T16:55:46.067Z"
   },
   {
    "duration": 10,
    "start_time": "2024-11-24T16:55:46.731Z"
   },
   {
    "duration": 9,
    "start_time": "2024-11-24T16:56:02.744Z"
   },
   {
    "duration": 11,
    "start_time": "2024-11-24T16:56:20.864Z"
   },
   {
    "duration": 4,
    "start_time": "2024-11-24T16:56:39.715Z"
   },
   {
    "duration": 5,
    "start_time": "2024-11-24T16:57:03.656Z"
   },
   {
    "duration": 11,
    "start_time": "2024-11-24T16:57:05.860Z"
   },
   {
    "duration": 147,
    "start_time": "2024-11-24T17:07:08.079Z"
   },
   {
    "duration": 6,
    "start_time": "2024-11-24T17:09:56.009Z"
   },
   {
    "duration": 3,
    "start_time": "2024-11-24T17:11:26.652Z"
   },
   {
    "duration": 163,
    "start_time": "2024-11-24T17:11:28.665Z"
   },
   {
    "duration": 6,
    "start_time": "2024-11-24T17:11:29.615Z"
   },
   {
    "duration": 66,
    "start_time": "2024-11-24T17:12:29.846Z"
   },
   {
    "duration": 411,
    "start_time": "2024-11-24T17:12:51.143Z"
   },
   {
    "duration": 78,
    "start_time": "2024-11-24T17:12:51.555Z"
   },
   {
    "duration": 23,
    "start_time": "2024-11-24T17:12:51.635Z"
   },
   {
    "duration": 16,
    "start_time": "2024-11-24T17:12:51.660Z"
   },
   {
    "duration": 10,
    "start_time": "2024-11-24T17:12:51.678Z"
   },
   {
    "duration": 13,
    "start_time": "2024-11-24T17:12:51.689Z"
   },
   {
    "duration": 71,
    "start_time": "2024-11-24T17:12:51.703Z"
   },
   {
    "duration": 17,
    "start_time": "2024-11-24T17:12:51.776Z"
   },
   {
    "duration": 58,
    "start_time": "2024-11-24T17:12:51.795Z"
   },
   {
    "duration": 5,
    "start_time": "2024-11-24T17:12:51.856Z"
   },
   {
    "duration": 5,
    "start_time": "2024-11-24T17:12:51.862Z"
   },
   {
    "duration": 9,
    "start_time": "2024-11-24T17:12:51.868Z"
   },
   {
    "duration": 35,
    "start_time": "2024-11-24T17:12:51.878Z"
   },
   {
    "duration": 4,
    "start_time": "2024-11-24T17:12:51.942Z"
   },
   {
    "duration": 155,
    "start_time": "2024-11-24T17:12:51.947Z"
   },
   {
    "duration": 7,
    "start_time": "2024-11-24T17:12:52.104Z"
   },
   {
    "duration": 4,
    "start_time": "2024-11-24T17:12:52.112Z"
   },
   {
    "duration": 8,
    "start_time": "2024-11-24T17:12:52.117Z"
   },
   {
    "duration": 26,
    "start_time": "2024-11-24T17:12:52.126Z"
   },
   {
    "duration": 9,
    "start_time": "2024-11-24T17:12:52.154Z"
   },
   {
    "duration": 34,
    "start_time": "2024-11-24T17:12:52.165Z"
   },
   {
    "duration": 11,
    "start_time": "2024-11-24T17:12:52.201Z"
   },
   {
    "duration": 54,
    "start_time": "2024-11-24T17:12:52.213Z"
   },
   {
    "duration": 11,
    "start_time": "2024-11-24T17:12:52.268Z"
   },
   {
    "duration": 24,
    "start_time": "2024-11-24T17:12:52.281Z"
   },
   {
    "duration": 6,
    "start_time": "2024-11-24T17:12:52.306Z"
   },
   {
    "duration": 10,
    "start_time": "2024-11-24T17:12:52.313Z"
   },
   {
    "duration": 28,
    "start_time": "2024-11-24T17:12:52.326Z"
   },
   {
    "duration": 60,
    "start_time": "2024-11-24T17:12:52.355Z"
   },
   {
    "duration": 4,
    "start_time": "2024-11-24T17:12:52.416Z"
   },
   {
    "duration": 28,
    "start_time": "2024-11-24T17:12:52.421Z"
   },
   {
    "duration": 109,
    "start_time": "2024-11-24T17:12:52.450Z"
   },
   {
    "duration": 19,
    "start_time": "2024-11-24T17:12:52.561Z"
   },
   {
    "duration": 16,
    "start_time": "2024-11-24T17:12:52.582Z"
   },
   {
    "duration": 12,
    "start_time": "2024-11-24T17:12:52.599Z"
   },
   {
    "duration": 39,
    "start_time": "2024-11-24T17:12:52.613Z"
   },
   {
    "duration": 4,
    "start_time": "2024-11-24T17:12:52.654Z"
   },
   {
    "duration": 18,
    "start_time": "2024-11-24T17:12:52.660Z"
   },
   {
    "duration": 11,
    "start_time": "2024-11-24T17:12:52.680Z"
   },
   {
    "duration": 106,
    "start_time": "2024-11-24T17:12:52.692Z"
   },
   {
    "duration": 6,
    "start_time": "2024-11-24T17:12:52.799Z"
   },
   {
    "duration": 17,
    "start_time": "2024-11-24T17:12:52.807Z"
   },
   {
    "duration": 24,
    "start_time": "2024-11-24T17:12:52.826Z"
   },
   {
    "duration": 149,
    "start_time": "2024-11-24T17:12:52.852Z"
   },
   {
    "duration": 6,
    "start_time": "2024-11-24T17:12:53.003Z"
   },
   {
    "duration": 63,
    "start_time": "2024-11-24T17:12:53.011Z"
   },
   {
    "duration": 0,
    "start_time": "2024-11-24T17:12:53.076Z"
   },
   {
    "duration": 0,
    "start_time": "2024-11-24T17:12:53.077Z"
   },
   {
    "duration": 0,
    "start_time": "2024-11-24T17:12:53.078Z"
   },
   {
    "duration": 0,
    "start_time": "2024-11-24T17:12:53.080Z"
   },
   {
    "duration": 0,
    "start_time": "2024-11-24T17:12:53.081Z"
   },
   {
    "duration": 0,
    "start_time": "2024-11-24T17:12:53.081Z"
   },
   {
    "duration": 62,
    "start_time": "2024-11-24T17:13:07.108Z"
   },
   {
    "duration": 61,
    "start_time": "2024-11-24T17:13:16.030Z"
   },
   {
    "duration": 3,
    "start_time": "2024-11-24T17:13:28.452Z"
   },
   {
    "duration": 3,
    "start_time": "2024-11-24T17:13:41.244Z"
   },
   {
    "duration": 142,
    "start_time": "2024-11-24T17:14:06.075Z"
   },
   {
    "duration": 5,
    "start_time": "2024-11-24T17:14:47.176Z"
   },
   {
    "duration": 145,
    "start_time": "2024-11-24T17:14:48.972Z"
   },
   {
    "duration": 5,
    "start_time": "2024-11-24T17:14:49.314Z"
   },
   {
    "duration": 21,
    "start_time": "2024-11-24T17:20:53.662Z"
   },
   {
    "duration": 24,
    "start_time": "2024-11-24T17:25:23.245Z"
   },
   {
    "duration": 19,
    "start_time": "2024-11-24T17:25:49.201Z"
   },
   {
    "duration": 62,
    "start_time": "2024-11-24T17:28:53.658Z"
   },
   {
    "duration": 32,
    "start_time": "2024-11-24T17:29:06.685Z"
   },
   {
    "duration": 22,
    "start_time": "2024-11-24T17:32:19.453Z"
   }
  ],
  "kernelspec": {
   "display_name": "Python 3 (ipykernel)",
   "language": "python",
   "name": "python3"
  },
  "language_info": {
   "codemirror_mode": {
    "name": "ipython",
    "version": 3
   },
   "file_extension": ".py",
   "mimetype": "text/x-python",
   "name": "python",
   "nbconvert_exporter": "python",
   "pygments_lexer": "ipython3",
   "version": "3.9.5"
  },
  "toc": {
   "base_numbering": 1,
   "nav_menu": {},
   "number_sections": true,
   "sideBar": true,
   "skip_h1_title": true,
   "title_cell": "Table of Contents",
   "title_sidebar": "Contents",
   "toc_cell": false,
   "toc_position": {
    "height": "calc(100% - 180px)",
    "left": "10px",
    "top": "150px",
    "width": "270.391px"
   },
   "toc_section_display": true,
   "toc_window_display": true
  }
 },
 "nbformat": 4,
 "nbformat_minor": 5
}
